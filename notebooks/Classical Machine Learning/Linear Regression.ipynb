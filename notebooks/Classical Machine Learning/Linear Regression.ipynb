{
 "cells": [
  {
   "cell_type": "markdown",
   "id": "31fa469b",
   "metadata": {},
   "source": [
    "# Linear Regression"
   ]
  },
  {
   "cell_type": "code",
   "execution_count": 7,
   "id": "60bba7f3",
   "metadata": {},
   "outputs": [],
   "source": [
    "import numpy as np\n",
    "import pandas as pd\n",
    "from sklearn.model_selection import train_test_split\n",
    "from sklearn.impute import SimpleImputer\n",
    "from sklearn.preprocessing import OneHotEncoder\n",
    "from sklearn.linear_model import LinearRegression"
   ]
  },
  {
   "cell_type": "markdown",
   "id": "b0211f16",
   "metadata": {},
   "source": [
    "## Feature matrix\n",
    "\n",
    "ในตารางหนึ่ง เราสามารถแปลงข้อมูลในแถวเป็น column vector แล้วเอา column vector ของแต่ละแถวในตารางมาต่อกันจะได้ feature matrix\n",
    "\n",
    "<img src=\"../images/feature_matrix.png\" width=\"800\" /><br />"
   ]
  },
  {
   "cell_type": "markdown",
   "id": "2cf963c2",
   "metadata": {},
   "source": [
    "## Ordinary least square (OLS) regression\n",
    "\n",
    "$$\\hat{y} = \\beta_1\\boldsymbol{x}_1 + \\beta_2\\boldsymbol{x}_2 + ... + \\beta_n\\boldsymbol{x}_n - \\beta_0$$\n",
    "\n",
    "- $\\hat{y}$ = predicted label\n",
    "- $\\beta_i$ = weight\n",
    "- $\\beta_0$ = bias\n",
    "- $\\boldsymbol{x}_i$ = feature vector\n",
    "\n",
    "$$\\Longrightarrow \\hat{y} = \\beta X$$\n",
    "\n",
    "- $\\beta$ = coefficient matrix\n",
    "- $X$ = feature matrix (มีสมาชิกที่ match กับ $\\beta_0$ คือ 1)\n",
    "\n",
    "สิ่งที่เราต้องทำคือหา $\\beta$ ที่ทำให้ residual sum of square ต่ำสุด\n",
    "\n",
    "$$E = \\sum_{i=1}^n (y_i - \\hat{y}_i)^2$$\n",
    "\n",
    "เราสามารถทำ linear regression โดยใช้ `sklearn.linear_model.LinearRegression`\n",
    "\n",
    "Weight และ bias สามารถเข้าถึงได้จาก attribute ชื่อ `coef_` และ `intercept_` ตามลำดับ โดย feature ที่มี weight มากกว่าจะมีความสำคัญมากกว่า ดังนั้น เราสามารถเอา feature ที่สำคัญน้อยออกเพื่อลดจำนวน feature ที่จะใช้ใน model ได้ (feature selection)"
   ]
  },
  {
   "cell_type": "code",
   "execution_count": 8,
   "id": "3669d7c0",
   "metadata": {},
   "outputs": [
    {
     "data": {
      "text/html": [
       "<div>\n",
       "<style scoped>\n",
       "    .dataframe tbody tr th:only-of-type {\n",
       "        vertical-align: middle;\n",
       "    }\n",
       "\n",
       "    .dataframe tbody tr th {\n",
       "        vertical-align: top;\n",
       "    }\n",
       "\n",
       "    .dataframe thead th {\n",
       "        text-align: right;\n",
       "    }\n",
       "</style>\n",
       "<table border=\"1\" class=\"dataframe\">\n",
       "  <thead>\n",
       "    <tr style=\"text-align: right;\">\n",
       "      <th></th>\n",
       "      <th>state</th>\n",
       "      <th>location</th>\n",
       "      <th>type</th>\n",
       "      <th>so2</th>\n",
       "      <th>no2</th>\n",
       "      <th>date</th>\n",
       "      <th>rainfall</th>\n",
       "    </tr>\n",
       "  </thead>\n",
       "  <tbody>\n",
       "    <tr>\n",
       "      <th>122374</th>\n",
       "      <td>Delhi</td>\n",
       "      <td>Delhi</td>\n",
       "      <td>Residential</td>\n",
       "      <td>6.0</td>\n",
       "      <td>67.0</td>\n",
       "      <td>19/09/2013</td>\n",
       "      <td>79.924305</td>\n",
       "    </tr>\n",
       "    <tr>\n",
       "      <th>227444</th>\n",
       "      <td>Punjab</td>\n",
       "      <td>Gobindgarh</td>\n",
       "      <td>Residential</td>\n",
       "      <td>10.0</td>\n",
       "      <td>41.0</td>\n",
       "      <td>07/10/2012</td>\n",
       "      <td>44.527453</td>\n",
       "    </tr>\n",
       "    <tr>\n",
       "      <th>298139</th>\n",
       "      <td>Maharashtra</td>\n",
       "      <td>Mumbai</td>\n",
       "      <td>Industrial</td>\n",
       "      <td>2.4</td>\n",
       "      <td>27.7</td>\n",
       "      <td>05/08/2008</td>\n",
       "      <td>66.356836</td>\n",
       "    </tr>\n",
       "    <tr>\n",
       "      <th>127296</th>\n",
       "      <td>Assam</td>\n",
       "      <td>Guwahati</td>\n",
       "      <td>Others</td>\n",
       "      <td>9.8</td>\n",
       "      <td>16.5</td>\n",
       "      <td>15/12/2009</td>\n",
       "      <td>84.065524</td>\n",
       "    </tr>\n",
       "    <tr>\n",
       "      <th>271367</th>\n",
       "      <td>Maharashtra</td>\n",
       "      <td>Nashik</td>\n",
       "      <td>Others</td>\n",
       "      <td>45.0</td>\n",
       "      <td>36.5</td>\n",
       "      <td>10/01/2007</td>\n",
       "      <td>78.939661</td>\n",
       "    </tr>\n",
       "    <tr>\n",
       "      <th>...</th>\n",
       "      <td>...</td>\n",
       "      <td>...</td>\n",
       "      <td>...</td>\n",
       "      <td>...</td>\n",
       "      <td>...</td>\n",
       "      <td>...</td>\n",
       "      <td>...</td>\n",
       "    </tr>\n",
       "    <tr>\n",
       "      <th>119932</th>\n",
       "      <td>Odisha</td>\n",
       "      <td>Talcher</td>\n",
       "      <td>Industrial</td>\n",
       "      <td>7.0</td>\n",
       "      <td>14.0</td>\n",
       "      <td>20/07/2013</td>\n",
       "      <td>101.749606</td>\n",
       "    </tr>\n",
       "    <tr>\n",
       "      <th>259465</th>\n",
       "      <td>Maharashtra</td>\n",
       "      <td>Akola</td>\n",
       "      <td>Residential</td>\n",
       "      <td>8.0</td>\n",
       "      <td>8.0</td>\n",
       "      <td>27/03/2015</td>\n",
       "      <td>42.746942</td>\n",
       "    </tr>\n",
       "    <tr>\n",
       "      <th>131998</th>\n",
       "      <td>Uttar Pradesh</td>\n",
       "      <td>Kanpur</td>\n",
       "      <td>Residential</td>\n",
       "      <td>2.0</td>\n",
       "      <td>23.0</td>\n",
       "      <td>04/12/2015</td>\n",
       "      <td>71.880503</td>\n",
       "    </tr>\n",
       "    <tr>\n",
       "      <th>146951</th>\n",
       "      <td>Maharashtra</td>\n",
       "      <td>Akola</td>\n",
       "      <td>Residential</td>\n",
       "      <td>10.0</td>\n",
       "      <td>12.0</td>\n",
       "      <td>24/02/2012</td>\n",
       "      <td>93.267317</td>\n",
       "    </tr>\n",
       "    <tr>\n",
       "      <th>122012</th>\n",
       "      <td>Assam</td>\n",
       "      <td>Guwahati</td>\n",
       "      <td>Others</td>\n",
       "      <td>2.5</td>\n",
       "      <td>12.5</td>\n",
       "      <td>13/04/2006</td>\n",
       "      <td>59.100358</td>\n",
       "    </tr>\n",
       "  </tbody>\n",
       "</table>\n",
       "<p>216735 rows × 7 columns</p>\n",
       "</div>"
      ],
      "text/plain": [
       "                state    location         type   so2   no2        date  \\\n",
       "122374          Delhi       Delhi  Residential   6.0  67.0  19/09/2013   \n",
       "227444         Punjab  Gobindgarh  Residential  10.0  41.0  07/10/2012   \n",
       "298139    Maharashtra      Mumbai   Industrial   2.4  27.7  05/08/2008   \n",
       "127296          Assam    Guwahati       Others   9.8  16.5  15/12/2009   \n",
       "271367    Maharashtra      Nashik       Others  45.0  36.5  10/01/2007   \n",
       "...               ...         ...          ...   ...   ...         ...   \n",
       "119932         Odisha     Talcher   Industrial   7.0  14.0  20/07/2013   \n",
       "259465    Maharashtra       Akola  Residential   8.0   8.0  27/03/2015   \n",
       "131998  Uttar Pradesh      Kanpur  Residential   2.0  23.0  04/12/2015   \n",
       "146951    Maharashtra       Akola  Residential  10.0  12.0  24/02/2012   \n",
       "122012          Assam    Guwahati       Others   2.5  12.5  13/04/2006   \n",
       "\n",
       "          rainfall  \n",
       "122374   79.924305  \n",
       "227444   44.527453  \n",
       "298139   66.356836  \n",
       "127296   84.065524  \n",
       "271367   78.939661  \n",
       "...            ...  \n",
       "119932  101.749606  \n",
       "259465   42.746942  \n",
       "131998   71.880503  \n",
       "146951   93.267317  \n",
       "122012   59.100358  \n",
       "\n",
       "[216735 rows x 7 columns]"
      ]
     },
     "execution_count": 8,
     "metadata": {},
     "output_type": "execute_result"
    }
   ],
   "source": [
    "# Perform data pre-processing - we need only numerical features to perform linear regression\n",
    "\n",
    "# Import data and drop duplicate\n",
    "data = pd.read_csv(\"../data/India_air_quality.csv\").drop_duplicates()\n",
    "# Separate features (X) and target (y)\n",
    "X, y = data.drop(columns=\"rspm\"), data['rspm']\n",
    "# Drop row containing non-sense values\n",
    "X = X.drop(X[(X['no2'] < 0) | (X['rainfall'] < 0)].index)\n",
    "y = y[X.index]\n",
    "# Drop features with missing values >30%\n",
    "X = X.drop(columns=[\"stn_code\", \"spm\", \"pm2_5\"])\n",
    "# Replace missing values in numerical columns with their means\n",
    "num_cols = X.select_dtypes(include=np.number).columns\n",
    "X[num_cols] = SimpleImputer(strategy=\"mean\").fit_transform(X[num_cols])\n",
    "# Train-test split\n",
    "X_train, X_test, y_train, y_test = train_test_split(X, y, train_size=0.7, random_state=42)\n",
    "X_train"
   ]
  },
  {
   "cell_type": "code",
   "execution_count": 9,
   "id": "fd8293f3",
   "metadata": {},
   "outputs": [],
   "source": [
    "# We need only numerical features\n",
    "X_train, X_test = X_train[[\"so2\", \"no2\", \"rainfall\"]], X_test[[\"so2\", \"no2\", \"rainfall\"]]"
   ]
  },
  {
   "cell_type": "code",
   "execution_count": 10,
   "id": "96bd818a",
   "metadata": {},
   "outputs": [
    {
     "data": {
      "text/html": [
       "<style>#sk-container-id-2 {color: black;}#sk-container-id-2 pre{padding: 0;}#sk-container-id-2 div.sk-toggleable {background-color: white;}#sk-container-id-2 label.sk-toggleable__label {cursor: pointer;display: block;width: 100%;margin-bottom: 0;padding: 0.3em;box-sizing: border-box;text-align: center;}#sk-container-id-2 label.sk-toggleable__label-arrow:before {content: \"▸\";float: left;margin-right: 0.25em;color: #696969;}#sk-container-id-2 label.sk-toggleable__label-arrow:hover:before {color: black;}#sk-container-id-2 div.sk-estimator:hover label.sk-toggleable__label-arrow:before {color: black;}#sk-container-id-2 div.sk-toggleable__content {max-height: 0;max-width: 0;overflow: hidden;text-align: left;background-color: #f0f8ff;}#sk-container-id-2 div.sk-toggleable__content pre {margin: 0.2em;color: black;border-radius: 0.25em;background-color: #f0f8ff;}#sk-container-id-2 input.sk-toggleable__control:checked~div.sk-toggleable__content {max-height: 200px;max-width: 100%;overflow: auto;}#sk-container-id-2 input.sk-toggleable__control:checked~label.sk-toggleable__label-arrow:before {content: \"▾\";}#sk-container-id-2 div.sk-estimator input.sk-toggleable__control:checked~label.sk-toggleable__label {background-color: #d4ebff;}#sk-container-id-2 div.sk-label input.sk-toggleable__control:checked~label.sk-toggleable__label {background-color: #d4ebff;}#sk-container-id-2 input.sk-hidden--visually {border: 0;clip: rect(1px 1px 1px 1px);clip: rect(1px, 1px, 1px, 1px);height: 1px;margin: -1px;overflow: hidden;padding: 0;position: absolute;width: 1px;}#sk-container-id-2 div.sk-estimator {font-family: monospace;background-color: #f0f8ff;border: 1px dotted black;border-radius: 0.25em;box-sizing: border-box;margin-bottom: 0.5em;}#sk-container-id-2 div.sk-estimator:hover {background-color: #d4ebff;}#sk-container-id-2 div.sk-parallel-item::after {content: \"\";width: 100%;border-bottom: 1px solid gray;flex-grow: 1;}#sk-container-id-2 div.sk-label:hover label.sk-toggleable__label {background-color: #d4ebff;}#sk-container-id-2 div.sk-serial::before {content: \"\";position: absolute;border-left: 1px solid gray;box-sizing: border-box;top: 0;bottom: 0;left: 50%;z-index: 0;}#sk-container-id-2 div.sk-serial {display: flex;flex-direction: column;align-items: center;background-color: white;padding-right: 0.2em;padding-left: 0.2em;position: relative;}#sk-container-id-2 div.sk-item {position: relative;z-index: 1;}#sk-container-id-2 div.sk-parallel {display: flex;align-items: stretch;justify-content: center;background-color: white;position: relative;}#sk-container-id-2 div.sk-item::before, #sk-container-id-2 div.sk-parallel-item::before {content: \"\";position: absolute;border-left: 1px solid gray;box-sizing: border-box;top: 0;bottom: 0;left: 50%;z-index: -1;}#sk-container-id-2 div.sk-parallel-item {display: flex;flex-direction: column;z-index: 1;position: relative;background-color: white;}#sk-container-id-2 div.sk-parallel-item:first-child::after {align-self: flex-end;width: 50%;}#sk-container-id-2 div.sk-parallel-item:last-child::after {align-self: flex-start;width: 50%;}#sk-container-id-2 div.sk-parallel-item:only-child::after {width: 0;}#sk-container-id-2 div.sk-dashed-wrapped {border: 1px dashed gray;margin: 0 0.4em 0.5em 0.4em;box-sizing: border-box;padding-bottom: 0.4em;background-color: white;}#sk-container-id-2 div.sk-label label {font-family: monospace;font-weight: bold;display: inline-block;line-height: 1.2em;}#sk-container-id-2 div.sk-label-container {text-align: center;}#sk-container-id-2 div.sk-container {/* jupyter's `normalize.less` sets `[hidden] { display: none; }` but bootstrap.min.css set `[hidden] { display: none !important; }` so we also need the `!important` here to be able to override the default hidden behavior on the sphinx rendered scikit-learn.org. See: https://github.com/scikit-learn/scikit-learn/issues/21755 */display: inline-block !important;position: relative;}#sk-container-id-2 div.sk-text-repr-fallback {display: none;}</style><div id=\"sk-container-id-2\" class=\"sk-top-container\"><div class=\"sk-text-repr-fallback\"><pre>LinearRegression()</pre><b>In a Jupyter environment, please rerun this cell to show the HTML representation or trust the notebook. <br />On GitHub, the HTML representation is unable to render, please try loading this page with nbviewer.org.</b></div><div class=\"sk-container\" hidden><div class=\"sk-item\"><div class=\"sk-estimator sk-toggleable\"><input class=\"sk-toggleable__control sk-hidden--visually\" id=\"sk-estimator-id-2\" type=\"checkbox\" checked><label for=\"sk-estimator-id-2\" class=\"sk-toggleable__label sk-toggleable__label-arrow\">LinearRegression</label><div class=\"sk-toggleable__content\"><pre>LinearRegression()</pre></div></div></div></div></div>"
      ],
      "text/plain": [
       "LinearRegression()"
      ]
     },
     "execution_count": 10,
     "metadata": {},
     "output_type": "execute_result"
    }
   ],
   "source": [
    "# Perform linear regression\n",
    "model = LinearRegression()\n",
    "model.fit(X_train, y_train)"
   ]
  },
  {
   "cell_type": "code",
   "execution_count": 11,
   "id": "7a3fdfa5",
   "metadata": {},
   "outputs": [
    {
     "data": {
      "text/plain": [
       "array([ 0.23719903,  1.38926121, -0.00294318])"
      ]
     },
     "execution_count": 11,
     "metadata": {},
     "output_type": "execute_result"
    }
   ],
   "source": [
    "# Weights (beta_1, ..., beta_n)\n",
    "model.coef_"
   ]
  },
  {
   "cell_type": "code",
   "execution_count": 12,
   "id": "4fa7b006",
   "metadata": {},
   "outputs": [
    {
     "data": {
      "text/plain": [
       "68.88402719905008"
      ]
     },
     "execution_count": 12,
     "metadata": {},
     "output_type": "execute_result"
    }
   ],
   "source": [
    "# Bias (beta_0)\n",
    "model.intercept_"
   ]
  },
  {
   "cell_type": "code",
   "execution_count": 13,
   "id": "970dea1e",
   "metadata": {},
   "outputs": [
    {
     "data": {
      "text/plain": [
       "array([ 98.58600063,  85.79773924, 115.3326856 , ...,  96.7785519 ,\n",
       "        99.039542  , 116.62335996])"
      ]
     },
     "execution_count": 13,
     "metadata": {},
     "output_type": "execute_result"
    }
   ],
   "source": [
    "# Predict using test set\n",
    "model.predict(X_test)"
   ]
  }
 ],
 "metadata": {
  "kernelspec": {
   "display_name": "Python 3 (ipykernel)",
   "language": "python",
   "name": "python3"
  },
  "language_info": {
   "codemirror_mode": {
    "name": "ipython",
    "version": 3
   },
   "file_extension": ".py",
   "mimetype": "text/x-python",
   "name": "python",
   "nbconvert_exporter": "python",
   "pygments_lexer": "ipython3",
   "version": "3.9.13"
  }
 },
 "nbformat": 4,
 "nbformat_minor": 5
}
