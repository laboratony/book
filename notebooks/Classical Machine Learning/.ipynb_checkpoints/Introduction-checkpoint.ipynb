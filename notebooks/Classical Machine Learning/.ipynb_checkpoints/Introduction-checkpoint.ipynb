{
 "cells": [
  {
   "cell_type": "markdown",
   "id": "53c66b9d",
   "metadata": {},
   "source": [
    "# Introduction"
   ]
  },
  {
   "cell_type": "markdown",
   "id": "ba9457c7",
   "metadata": {},
   "source": [
    "## Data types\n",
    "\n",
    "ข้อมูล แบ่งตามการวัดได้เป็น 2 กลุ่ม ได้แก่\n",
    "- <b>Qualitative (categorical) data</b> แบ่งออกมาได้อีกเป็น 2 กลุ่มย่อย คือ <b>ordinal data</b> (เรียงได้ เช่น ความพึงพอใจ) กับ <b>nominal data</b> (เรียงไม่ได้ เช่น เพศ)\n",
    "- <b>Quantitative (numerical) data</b> แบ่งออกมาได้อีกเป็น 2 กลุ่มย่อย คือ <b>discrete data</b> กับ <b>continuous data</b>\n",
    "\n",
    "ข้อมูล ยังสามารถแบ่งตามโครงสร้างได้เป็น 3 กลุ่ม ได้แก่\n",
    "- <b>Structured data</b> เช่น tabular data (e.g., SQL database), time-series data\n",
    "- <b>Semi-structured data</b> เช่น JSON, XML\n",
    "- <b>Unstructured data</b> เช่น text\n",
    "\n",
    "เรามักจะใช้ structured data ใน statistical machine learning และใช้ unstructured data ใน deep learning"
   ]
  },
  {
   "cell_type": "markdown",
   "id": "1c2c79cf",
   "metadata": {},
   "source": [
    "## Feature, target, and parameters\n",
    "\n",
    "- <b>Feature</b> = input = X = variable = column\n",
    "- <b>Target</b> = output = y = label = class\n",
    "- <b>Trainable parameter</b> คือ parameter ที่เราสามารถ train (ทำให้ model มี error น้อยลง) ได้\n",
    "- <b>Hyperparameter</b> คือ parameter ที่เราต้องตั้งค่าเอง ไม่สามารถ train ได้"
   ]
  },
  {
   "cell_type": "markdown",
   "id": "a54f407c",
   "metadata": {},
   "source": [
    "## Types of machine learning\n",
    "\n",
    "Machine learning แบ่งได้เป็น 2 ประเภทหลัก ๆ ได้แก่\n",
    "- <b>Supervised learning</b> เป็นการเรียนรู้ของ model โดยใช้ dataset ที่มี label การเรียนรู้ประเภทนี้แบ่งได้เป็น 2 กลุ่ม ได้แก่ <b>regression</b> กับ <b>classification</b>\n",
    "- <b>Unsupervised learning</b> เป็นการเรียนรู้ของ model โดยใช้ dataset ที่ไม่มี label การเรียนรู้ประเภทนี้แบ่งได้เป็น 2 กลุ่ม ได้แก่ <b>clustering</b> กับ <b>dimensionality reduction</b>\n",
    "\n",
    "<img src=\"../images/ML_types.png\" width=\"500\" /><br />"
   ]
  },
  {
   "cell_type": "markdown",
   "id": "5ab9cd1b",
   "metadata": {},
   "source": [
    "## Machine learning - general workflow\n",
    "\n",
    "<img src=\"../images/ML_workflow.png\" width=\"800\" /><br />"
   ]
  }
 ],
 "metadata": {
  "kernelspec": {
   "display_name": "Python 3 (ipykernel)",
   "language": "python",
   "name": "python3"
  },
  "language_info": {
   "codemirror_mode": {
    "name": "ipython",
    "version": 3
   },
   "file_extension": ".py",
   "mimetype": "text/x-python",
   "name": "python",
   "nbconvert_exporter": "python",
   "pygments_lexer": "ipython3",
   "version": "3.9.13"
  }
 },
 "nbformat": 4,
 "nbformat_minor": 5
}
