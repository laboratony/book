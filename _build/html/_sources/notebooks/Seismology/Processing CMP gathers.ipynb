{
 "cells": [
  {
   "cell_type": "markdown",
   "id": "db1018b9",
   "metadata": {},
   "source": [
    "# Processing CMP gathers"
   ]
  },
  {
   "cell_type": "code",
   "execution_count": 1,
   "id": "f17de4bf",
   "metadata": {},
   "outputs": [],
   "source": [
    "import matplotlib.pyplot as plt\n",
    "import numpy as np\n",
    "import os\n",
    "from scipy.interpolate import CubicSpline\n",
    "import warnings\n",
    "warnings.filterwarnings('ignore')"
   ]
  },
  {
   "cell_type": "markdown",
   "id": "48d6bfa7",
   "metadata": {},
   "source": [
    "## Reading (synthetic) CMP gathers"
   ]
  },
  {
   "cell_type": "code",
   "execution_count": 3,
   "id": "c27e0fd0",
   "metadata": {},
   "outputs": [
    {
     "data": {
      "text/plain": [
       "['dt', 'offsets', 'CMP']"
      ]
     },
     "execution_count": 3,
     "metadata": {},
     "output_type": "execute_result"
    }
   ],
   "source": [
    "# Import a synthetic CMP gather - it is already stored in a compressed Numpy format\n",
    "data = np.load('../data/synthetic_cmp.npz')\n",
    "list(data.keys())"
   ]
  },
  {
   "cell_type": "code",
   "execution_count": 5,
   "id": "c7e2ff89",
   "metadata": {},
   "outputs": [
    {
     "data": {
      "text/plain": [
       "array(0.00045678)"
      ]
     },
     "execution_count": 5,
     "metadata": {},
     "output_type": "execute_result"
    }
   ],
   "source": [
    "dt = data['dt']\n",
    "dt"
   ]
  },
  {
   "cell_type": "code",
   "execution_count": 6,
   "id": "e1662f84",
   "metadata": {},
   "outputs": [
    {
     "data": {
      "text/plain": [
       "array([120, 180, 240, 300, 360, 420, 480, 540, 600, 660, 720, 780, 840,\n",
       "       900], dtype=int64)"
      ]
     },
     "execution_count": 6,
     "metadata": {},
     "output_type": "execute_result"
    }
   ],
   "source": [
    "offsets = data['offsets']  \n",
    "offsets"
   ]
  },
  {
   "cell_type": "code",
   "execution_count": 7,
   "id": "ff5886be",
   "metadata": {},
   "outputs": [
    {
     "data": {
      "text/plain": [
       "array([[ 0.        ,  0.        ,  0.        , ...,  0.        ,\n",
       "         0.        ,  0.        ],\n",
       "       [ 0.        ,  0.        ,  0.        , ...,  0.        ,\n",
       "         0.        ,  0.        ],\n",
       "       [ 0.        ,  0.        ,  0.        , ...,  0.        ,\n",
       "         0.        ,  0.        ],\n",
       "       ...,\n",
       "       [-0.01345723, -0.01386521, -0.01440551, ..., -0.02191424,\n",
       "        -0.02279523, -0.0239364 ],\n",
       "       [-0.01359077, -0.01399418, -0.01453609, ..., -0.02195092,\n",
       "        -0.02288917, -0.02406853],\n",
       "       [-0.01371918, -0.0141151 , -0.01465338, ..., -0.02195602,\n",
       "        -0.02296235, -0.02415405]])"
      ]
     },
     "execution_count": 7,
     "metadata": {},
     "output_type": "execute_result"
    }
   ],
   "source": [
    "cmp = data['CMP']\n",
    "cmp"
   ]
  },
  {
   "cell_type": "code",
   "execution_count": 8,
   "id": "637c712b",
   "metadata": {},
   "outputs": [
    {
     "data": {
      "text/plain": [
       "1200"
      ]
     },
     "execution_count": 8,
     "metadata": {},
     "output_type": "execute_result"
    }
   ],
   "source": [
    "num_vertical_samples = cmp.shape[0]  # The number of data points on each trace\n",
    "num_vertical_samples"
   ]
  },
  {
   "cell_type": "code",
   "execution_count": 9,
   "id": "7bb7dede",
   "metadata": {},
   "outputs": [
    {
     "data": {
      "text/plain": [
       "14"
      ]
     },
     "execution_count": 9,
     "metadata": {},
     "output_type": "execute_result"
    }
   ],
   "source": [
    "num_offsets = cmp.shape[1]  # The number of traces\n",
    "num_offsets"
   ]
  },
  {
   "cell_type": "code",
   "execution_count": 11,
   "id": "f28a0a94",
   "metadata": {},
   "outputs": [
    {
     "data": {
      "text/plain": [
       "array([0.00000000e+00, 4.56783920e-04, 9.13567839e-04, ...,\n",
       "       5.46770352e-01, 5.47227136e-01, 5.47683920e-01])"
      ]
     },
     "execution_count": 11,
     "metadata": {},
     "output_type": "execute_result"
    }
   ],
   "source": [
    "times = np.arange(num_vertical_samples)*dt  # Time axis\n",
    "times"
   ]
  },
  {
   "cell_type": "code",
   "execution_count": 12,
   "id": "cb021198",
   "metadata": {},
   "outputs": [],
   "source": [
    "# Define a function to plot a CMP gather\n",
    "def plot_cmp(cmp, num_offsets, num_vertical_samples, dt):\n",
    "    \"\"\"Plot a CMP gather\"\"\"\n",
    "    cutoff = 0.1\n",
    "    fig, ax = plt.subplots()\n",
    "    ax.imshow(cmp,\n",
    "               extent=[0.5, num_offsets + 0.5, dt*num_vertical_samples, 0],\n",
    "               aspect='auto',\n",
    "               cmap='gray',\n",
    "               vmin=-cutoff,\n",
    "               vmax=cutoff,\n",
    "               interpolation='none')\n",
    "    trace_numbers = list(range(1, num_offsets+1))  # For visual purposes\n",
    "    ax.set(title='CMP', xlabel='Trace number', ylabel='Time (s)', xticks=trace_numbers);"
   ]
  },
  {
   "cell_type": "code",
   "execution_count": 13,
   "id": "37d6a410",
   "metadata": {},
   "outputs": [
    {
     "data": {
      "image/png": "[encoded data removed]",
      "text/plain": [
       "<Figure size 640x480 with 1 Axes>"
      ]
     },
     "metadata": {},
     "output_type": "display_data"
    }
   ],
   "source": [
    "plot_cmp(cmp, num_offsets, num_vertical_samples, dt)"
   ]
  },
  {
   "cell_type": "markdown",
   "id": "a77bf26f",
   "metadata": {},
   "source": [
    "There are four reflections in the CMP gather. From top to bottom, they represent\n",
    "- The direct wave\n",
    "- The wave (strongly) reflected from the first interface\n",
    "- A multiple reflection on the first interface\n",
    "- The wave (strongly) reflected from the second interface"
   ]
  },
  {
   "cell_type": "markdown",
   "id": "c6ca187c",
   "metadata": {},
   "source": [
    "## NMO correction"
   ]
  },
  {
   "cell_type": "code",
   "execution_count": 14,
   "id": "2cc9dba4",
   "metadata": {},
   "outputs": [],
   "source": [
    "# P-wave velocities and times of the two reflections\n",
    "v1, t1 = 3800, 0.22\n",
    "v2, t2 = 4800, 0.46"
   ]
  }
 ],
 "metadata": {
  "kernelspec": {
   "display_name": "Python 3 (ipykernel)",
   "language": "python",
   "name": "python3"
  },
  "language_info": {
   "codemirror_mode": {
    "name": "ipython",
    "version": 3
   },
   "file_extension": ".py",
   "mimetype": "text/x-python",
   "name": "python",
   "nbconvert_exporter": "python",
   "pygments_lexer": "ipython3",
   "version": "3.9.13"
  }
 },
 "nbformat": 4,
 "nbformat_minor": 5
}
