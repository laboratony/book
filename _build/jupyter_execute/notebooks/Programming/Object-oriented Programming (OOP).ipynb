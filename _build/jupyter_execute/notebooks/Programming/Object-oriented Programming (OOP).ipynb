{
 "cells": [
  {
   "cell_type": "markdown",
   "id": "8e4ec878",
   "metadata": {},
   "source": [
    "# Object-oriented Programming (OOP)"
   ]
  },
  {
   "attachments": {},
   "cell_type": "markdown",
   "id": "0f6b53c6",
   "metadata": {},
   "source": [
    "การเขียนโปรแกรมเชิงวัตถุ (object-oriented programming) คือการเขียนโปรแกรมโดยพิจารณาสิ่งต่าง ๆ เป็นวัตถุ มีองค์ประกอบพื้นฐาน 2 อย่าง คือ\n",
    "1. <b>Class</b> เป็นต้นแบบของวัตถุ\n",
    "2. <b>Object</b> เป็นสิ่งที่ถูกสร้างขึ้นจาก class ประกอบด้วยคุณสมบัติ 2 ประการ คือ\n",
    "    1. คุณลักษณะ (field / attribute / member variable) คือ สิ่งที่บ่งบอกลักษณะทั่วไปของวัตถุ\n",
    "    2. พฤติกรรม (method / member function) คือ การกระทำที่วัตถุทำได้"
   ]
  },
  {
   "cell_type": "markdown",
   "id": "b90a1e8f",
   "metadata": {},
   "source": []
  }
 ],
 "metadata": {
  "kernelspec": {
   "display_name": "Python 3 (ipykernel)",
   "language": "python",
   "name": "python3"
  },
  "language_info": {
   "codemirror_mode": {
    "name": "ipython",
    "version": 3
   },
   "file_extension": ".py",
   "mimetype": "text/x-python",
   "name": "python",
   "nbconvert_exporter": "python",
   "pygments_lexer": "ipython3",
   "version": "3.11.3"
  }
 },
 "nbformat": 4,
 "nbformat_minor": 5
}