{
 "cells": [
  {
   "cell_type": "markdown",
   "id": "f143ad5e",
   "metadata": {},
   "source": [
    "# Coordinate Systems"
   ]
  },
  {
   "cell_type": "markdown",
   "id": "019e303f",
   "metadata": {},
   "source": [
    "We have four basic coordinate systems: Cartesian, Polar (2D), Cylindrical, and Spherical. The summary is shown below.\n",
    "\n",
    "<img src=\"../images/coordinate_systems.png\" width=\"100%\"/>"
   ]
  }
 ],
 "metadata": {
  "kernelspec": {
   "display_name": "Python 3 (ipykernel)",
   "language": "python",
   "name": "python3"
  },
  "language_info": {
   "codemirror_mode": {
    "name": "ipython",
    "version": 3
   },
   "file_extension": ".py",
   "mimetype": "text/x-python",
   "name": "python",
   "nbconvert_exporter": "python",
   "pygments_lexer": "ipython3",
   "version": "3.11.3"
  }
 },
 "nbformat": 4,
 "nbformat_minor": 5
}