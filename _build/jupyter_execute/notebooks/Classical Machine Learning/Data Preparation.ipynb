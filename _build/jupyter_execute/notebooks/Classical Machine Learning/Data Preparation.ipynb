{
 "cells": [
  {
   "cell_type": "markdown",
   "id": "fe730fc9",
   "metadata": {},
   "source": [
    "# Data Preparation"
   ]
  },
  {
   "cell_type": "code",
   "execution_count": 1,
   "id": "6656d0fa",
   "metadata": {},
   "outputs": [],
   "source": [
    "import numpy as np\n",
    "import pandas as pd\n",
    "import matplotlib.pyplot as plt\n",
    "from sklearn.model_selection import train_test_split\n",
    "from sklearn.impute import SimpleImputer\n",
    "from sklearn.preprocessing import OneHotEncoder"
   ]
  },
  {
   "cell_type": "markdown",
   "id": "f970d0b5",
   "metadata": {},
   "source": [
    "## Data preparation pipeline\n",
    "\n",
    "<img src=\"../images/data_preparation_pipeline.png\" width=\"900\" /><br />"
   ]
  },
  {
   "cell_type": "markdown",
   "id": "2cbcf3e2",
   "metadata": {},
   "source": [
    "## Data exploration\n",
    "\n",
    "Data exploration มีขั้นตอนดังนี้"
   ]
  },
  {
   "cell_type": "markdown",
   "id": "32d1af78",
   "metadata": {},
   "source": [
    "### Importing data"
   ]
  },
  {
   "cell_type": "code",
   "execution_count": 2,
   "id": "1e951b76",
   "metadata": {},
   "outputs": [
    {
     "data": {
      "text/html": [
       "<div>\n",
       "<style scoped>\n",
       "    .dataframe tbody tr th:only-of-type {\n",
       "        vertical-align: middle;\n",
       "    }\n",
       "\n",
       "    .dataframe tbody tr th {\n",
       "        vertical-align: top;\n",
       "    }\n",
       "\n",
       "    .dataframe thead th {\n",
       "        text-align: right;\n",
       "    }\n",
       "</style>\n",
       "<table border=\"1\" class=\"dataframe\">\n",
       "  <thead>\n",
       "    <tr style=\"text-align: right;\">\n",
       "      <th></th>\n",
       "      <th>stn_code</th>\n",
       "      <th>state</th>\n",
       "      <th>location</th>\n",
       "      <th>type</th>\n",
       "      <th>so2</th>\n",
       "      <th>no2</th>\n",
       "      <th>rspm</th>\n",
       "      <th>spm</th>\n",
       "      <th>pm2_5</th>\n",
       "      <th>date</th>\n",
       "      <th>rainfall</th>\n",
       "    </tr>\n",
       "  </thead>\n",
       "  <tbody>\n",
       "    <tr>\n",
       "      <th>0</th>\n",
       "      <td>NaN</td>\n",
       "      <td>Andhra Pradesh</td>\n",
       "      <td>Hyderabad</td>\n",
       "      <td>Others</td>\n",
       "      <td>5.1</td>\n",
       "      <td>14.2</td>\n",
       "      <td>50.00</td>\n",
       "      <td>128.0</td>\n",
       "      <td>NaN</td>\n",
       "      <td>29/02/2008</td>\n",
       "      <td>NaN</td>\n",
       "    </tr>\n",
       "    <tr>\n",
       "      <th>1</th>\n",
       "      <td>229</td>\n",
       "      <td>Odisha</td>\n",
       "      <td>Rayagada</td>\n",
       "      <td>Industrial</td>\n",
       "      <td>2.0</td>\n",
       "      <td>14.5</td>\n",
       "      <td>36.00</td>\n",
       "      <td>54.0</td>\n",
       "      <td>NaN</td>\n",
       "      <td>08/04/2010</td>\n",
       "      <td>53.897548</td>\n",
       "    </tr>\n",
       "    <tr>\n",
       "      <th>2</th>\n",
       "      <td>631</td>\n",
       "      <td>Goa</td>\n",
       "      <td>Honda</td>\n",
       "      <td>Residential</td>\n",
       "      <td>5.0</td>\n",
       "      <td>11.0</td>\n",
       "      <td>42.00</td>\n",
       "      <td>19.0</td>\n",
       "      <td>NaN</td>\n",
       "      <td>10/11/2013</td>\n",
       "      <td>NaN</td>\n",
       "    </tr>\n",
       "    <tr>\n",
       "      <th>3</th>\n",
       "      <td>674</td>\n",
       "      <td>Karnataka</td>\n",
       "      <td>Davangere</td>\n",
       "      <td>Residential</td>\n",
       "      <td>6.0</td>\n",
       "      <td>9.0</td>\n",
       "      <td>302.00</td>\n",
       "      <td>NaN</td>\n",
       "      <td>NaN</td>\n",
       "      <td>02/01/2015</td>\n",
       "      <td>95.685937</td>\n",
       "    </tr>\n",
       "    <tr>\n",
       "      <th>4</th>\n",
       "      <td>NaN</td>\n",
       "      <td>West Bengal</td>\n",
       "      <td>Kolkata</td>\n",
       "      <td>Industrial</td>\n",
       "      <td>7.4</td>\n",
       "      <td>69.5</td>\n",
       "      <td>77.00</td>\n",
       "      <td>164.0</td>\n",
       "      <td>NaN</td>\n",
       "      <td>20/08/2007</td>\n",
       "      <td>83.049383</td>\n",
       "    </tr>\n",
       "    <tr>\n",
       "      <th>...</th>\n",
       "      <td>...</td>\n",
       "      <td>...</td>\n",
       "      <td>...</td>\n",
       "      <td>...</td>\n",
       "      <td>...</td>\n",
       "      <td>...</td>\n",
       "      <td>...</td>\n",
       "      <td>...</td>\n",
       "      <td>...</td>\n",
       "      <td>...</td>\n",
       "      <td>...</td>\n",
       "    </tr>\n",
       "    <tr>\n",
       "      <th>310026</th>\n",
       "      <td>376</td>\n",
       "      <td>Rajasthan</td>\n",
       "      <td>Jodhpur</td>\n",
       "      <td>Residential</td>\n",
       "      <td>5.0</td>\n",
       "      <td>21.0</td>\n",
       "      <td>244.00</td>\n",
       "      <td>NaN</td>\n",
       "      <td>NaN</td>\n",
       "      <td>16/12/2011</td>\n",
       "      <td>87.461929</td>\n",
       "    </tr>\n",
       "    <tr>\n",
       "      <th>310027</th>\n",
       "      <td>421</td>\n",
       "      <td>Punjab</td>\n",
       "      <td>Naya Nangal</td>\n",
       "      <td>Residential</td>\n",
       "      <td>7.0</td>\n",
       "      <td>16.0</td>\n",
       "      <td>78.67</td>\n",
       "      <td>NaN</td>\n",
       "      <td>NaN</td>\n",
       "      <td>05/05/2012</td>\n",
       "      <td>NaN</td>\n",
       "    </tr>\n",
       "    <tr>\n",
       "      <th>310028</th>\n",
       "      <td>17</td>\n",
       "      <td>Rajasthan</td>\n",
       "      <td>Kota</td>\n",
       "      <td>Industrial</td>\n",
       "      <td>9.0</td>\n",
       "      <td>49.0</td>\n",
       "      <td>111.00</td>\n",
       "      <td>NaN</td>\n",
       "      <td>NaN</td>\n",
       "      <td>21/02/2011</td>\n",
       "      <td>NaN</td>\n",
       "    </tr>\n",
       "    <tr>\n",
       "      <th>310029</th>\n",
       "      <td>NaN</td>\n",
       "      <td>Maharashtra</td>\n",
       "      <td>Nagpur</td>\n",
       "      <td>Others</td>\n",
       "      <td>10.0</td>\n",
       "      <td>25.3</td>\n",
       "      <td>125.00</td>\n",
       "      <td>198.0</td>\n",
       "      <td>NaN</td>\n",
       "      <td>02/09/2007</td>\n",
       "      <td>87.865203</td>\n",
       "    </tr>\n",
       "    <tr>\n",
       "      <th>310030</th>\n",
       "      <td>565</td>\n",
       "      <td>Himachal Pradesh</td>\n",
       "      <td>Nalagarh</td>\n",
       "      <td>Residential</td>\n",
       "      <td>2.0</td>\n",
       "      <td>21.0</td>\n",
       "      <td>103.00</td>\n",
       "      <td>NaN</td>\n",
       "      <td>NaN</td>\n",
       "      <td>07/11/2014</td>\n",
       "      <td>97.752689</td>\n",
       "    </tr>\n",
       "  </tbody>\n",
       "</table>\n",
       "<p>310031 rows × 11 columns</p>\n",
       "</div>"
      ],
      "text/plain": [
       "       stn_code             state     location         type   so2   no2  \\\n",
       "0           NaN    Andhra Pradesh    Hyderabad       Others   5.1  14.2   \n",
       "1           229            Odisha     Rayagada   Industrial   2.0  14.5   \n",
       "2           631               Goa        Honda  Residential   5.0  11.0   \n",
       "3           674         Karnataka    Davangere  Residential   6.0   9.0   \n",
       "4           NaN       West Bengal      Kolkata   Industrial   7.4  69.5   \n",
       "...         ...               ...          ...          ...   ...   ...   \n",
       "310026      376         Rajasthan      Jodhpur  Residential   5.0  21.0   \n",
       "310027      421            Punjab  Naya Nangal  Residential   7.0  16.0   \n",
       "310028       17         Rajasthan         Kota   Industrial   9.0  49.0   \n",
       "310029      NaN       Maharashtra       Nagpur       Others  10.0  25.3   \n",
       "310030      565  Himachal Pradesh     Nalagarh  Residential   2.0  21.0   \n",
       "\n",
       "          rspm    spm  pm2_5        date   rainfall  \n",
       "0        50.00  128.0    NaN  29/02/2008        NaN  \n",
       "1        36.00   54.0    NaN  08/04/2010  53.897548  \n",
       "2        42.00   19.0    NaN  10/11/2013        NaN  \n",
       "3       302.00    NaN    NaN  02/01/2015  95.685937  \n",
       "4        77.00  164.0    NaN  20/08/2007  83.049383  \n",
       "...        ...    ...    ...         ...        ...  \n",
       "310026  244.00    NaN    NaN  16/12/2011  87.461929  \n",
       "310027   78.67    NaN    NaN  05/05/2012        NaN  \n",
       "310028  111.00    NaN    NaN  21/02/2011        NaN  \n",
       "310029  125.00  198.0    NaN  02/09/2007  87.865203  \n",
       "310030  103.00    NaN    NaN  07/11/2014  97.752689  \n",
       "\n",
       "[310031 rows x 11 columns]"
      ]
     },
     "execution_count": 2,
     "metadata": {},
     "output_type": "execute_result"
    }
   ],
   "source": [
    "data = pd.read_csv(\"../data/India_air_quality.csv\")\n",
    "data"
   ]
  },
  {
   "cell_type": "markdown",
   "id": "02bcbccf",
   "metadata": {},
   "source": [
    "### Dropping duplicates\n",
    "\n",
    "เอาข้อมูลที่ซ้ำกันออกให้เหลือข้อมูลเดียวก่อนทำ spliting (แบ่ง dataset ออกเป็น training set กับ test set) เพื่อไม่ให้มีข้อมูลใน training set ไปอยู่ใน test set"
   ]
  },
  {
   "cell_type": "code",
   "execution_count": 3,
   "id": "1d5b4b1b",
   "metadata": {},
   "outputs": [
    {
     "data": {
      "text/plain": [
       "400"
      ]
     },
     "execution_count": 3,
     "metadata": {},
     "output_type": "execute_result"
    }
   ],
   "source": [
    "# Check the number of duplicates\n",
    "data.duplicated().sum()"
   ]
  },
  {
   "cell_type": "code",
   "execution_count": 4,
   "id": "b7e634e6",
   "metadata": {},
   "outputs": [],
   "source": [
    "# Remove duplicates\n",
    "data = data.drop_duplicates()"
   ]
  },
  {
   "cell_type": "markdown",
   "id": "422111bd",
   "metadata": {},
   "source": [
    "### Splitting data\n",
    "\n",
    "- มักจะแบ่ง dataset ออกเป็น training set (70%) กับ test set (30%)\n",
    "- test set ต้องมีมากพอเพื่อที่จะใช้ represent model performance\n",
    "- หากมีข้อมูลน้อยไป ต้องเพิ่มปริมาณข้อมูล\n",
    "- เราสามารถลดสัดส่วนของ test set ได้ถ้ามีข้อมูลมาก\n",
    "- `scikit-learn` มีหลาย method ที่ใช้แบ่งข้อมูล แต่ในที่นี้เราจะใช้ `sklearn.model_selection.train_test_split`"
   ]
  },
  {
   "cell_type": "code",
   "execution_count": 5,
   "id": "0f8700da",
   "metadata": {},
   "outputs": [],
   "source": [
    "# แยก features (X) กับ target (y) ออกจากกัน\n",
    "y = data['rspm']\n",
    "X = data.drop(columns=\"rspm\")"
   ]
  },
  {
   "cell_type": "code",
   "execution_count": 6,
   "id": "8d318e29",
   "metadata": {},
   "outputs": [],
   "source": [
    "# Split the dataset\n",
    "# train_size=0.7 => training dataset = 70% (test set = 30%)\n",
    "# test_size=0.3 => test set = 30% (training dataset = 70%)\n",
    "X_train, X_test, y_train, y_test = train_test_split(X, y, train_size=0.7, random_state=42)"
   ]
  },
  {
   "cell_type": "markdown",
   "id": "7cf396db",
   "metadata": {},
   "source": [
    "`sklearn.model_selection.train_test_split` จะ split ข้อมูลอย่างสุ่ม หากต้องการให้ผลลัพธ์เหมือนเดิม ให้ใช้ `random_state=42`"
   ]
  },
  {
   "cell_type": "markdown",
   "id": "c8df94d1",
   "metadata": {},
   "source": [
    "### Exploratory Data Analysis (EDA)\n",
    "\n",
    "เป็นการดู statistics ของ training set เพื่อทำความเข้าใจข้อมูล <span style=\"color: red;\">(ห้ามทำกับ test set)</span>"
   ]
  },
  {
   "cell_type": "code",
   "execution_count": 7,
   "id": "e4b8563c",
   "metadata": {},
   "outputs": [
    {
     "data": {
      "text/plain": [
       "stn_code     object\n",
       "state        object\n",
       "location     object\n",
       "type         object\n",
       "so2         float64\n",
       "no2         float64\n",
       "spm         float64\n",
       "pm2_5       float64\n",
       "date         object\n",
       "rainfall    float64\n",
       "dtype: object"
      ]
     },
     "execution_count": 7,
     "metadata": {},
     "output_type": "execute_result"
    }
   ],
   "source": [
    "# Check the data type\n",
    "X_train.dtypes"
   ]
  },
  {
   "cell_type": "code",
   "execution_count": 8,
   "id": "56f117b6",
   "metadata": {},
   "outputs": [
    {
     "data": {
      "text/html": [
       "<div>\n",
       "<style scoped>\n",
       "    .dataframe tbody tr th:only-of-type {\n",
       "        vertical-align: middle;\n",
       "    }\n",
       "\n",
       "    .dataframe tbody tr th {\n",
       "        vertical-align: top;\n",
       "    }\n",
       "\n",
       "    .dataframe thead th {\n",
       "        text-align: right;\n",
       "    }\n",
       "</style>\n",
       "<table border=\"1\" class=\"dataframe\">\n",
       "  <thead>\n",
       "    <tr style=\"text-align: right;\">\n",
       "      <th></th>\n",
       "      <th>so2</th>\n",
       "      <th>no2</th>\n",
       "      <th>spm</th>\n",
       "      <th>pm2_5</th>\n",
       "      <th>rainfall</th>\n",
       "    </tr>\n",
       "  </thead>\n",
       "  <tbody>\n",
       "    <tr>\n",
       "      <th>count</th>\n",
       "      <td>202025.000000</td>\n",
       "      <td>216741.000000</td>\n",
       "      <td>90875.000000</td>\n",
       "      <td>4583.000000</td>\n",
       "      <td>188881.000000</td>\n",
       "    </tr>\n",
       "    <tr>\n",
       "      <th>mean</th>\n",
       "      <td>11.133270</td>\n",
       "      <td>26.389450</td>\n",
       "      <td>217.544524</td>\n",
       "      <td>40.501726</td>\n",
       "      <td>79.911407</td>\n",
       "    </tr>\n",
       "    <tr>\n",
       "      <th>std</th>\n",
       "      <td>11.093978</td>\n",
       "      <td>17.986456</td>\n",
       "      <td>147.514219</td>\n",
       "      <td>30.202104</td>\n",
       "      <td>20.036673</td>\n",
       "    </tr>\n",
       "    <tr>\n",
       "      <th>min</th>\n",
       "      <td>0.000000</td>\n",
       "      <td>-66.400000</td>\n",
       "      <td>0.000000</td>\n",
       "      <td>4.000000</td>\n",
       "      <td>-24.682525</td>\n",
       "    </tr>\n",
       "    <tr>\n",
       "      <th>25%</th>\n",
       "      <td>5.000000</td>\n",
       "      <td>14.400000</td>\n",
       "      <td>110.333333</td>\n",
       "      <td>24.000000</td>\n",
       "      <td>66.362289</td>\n",
       "    </tr>\n",
       "    <tr>\n",
       "      <th>50%</th>\n",
       "      <td>8.200000</td>\n",
       "      <td>23.000000</td>\n",
       "      <td>184.000000</td>\n",
       "      <td>32.000000</td>\n",
       "      <td>79.861002</td>\n",
       "    </tr>\n",
       "    <tr>\n",
       "      <th>75%</th>\n",
       "      <td>14.000000</td>\n",
       "      <td>33.000000</td>\n",
       "      <td>289.000000</td>\n",
       "      <td>46.000000</td>\n",
       "      <td>93.447692</td>\n",
       "    </tr>\n",
       "    <tr>\n",
       "      <th>max</th>\n",
       "      <td>909.000000</td>\n",
       "      <td>876.000000</td>\n",
       "      <td>2610.000000</td>\n",
       "      <td>395.000000</td>\n",
       "      <td>166.455104</td>\n",
       "    </tr>\n",
       "  </tbody>\n",
       "</table>\n",
       "</div>"
      ],
      "text/plain": [
       "                 so2            no2           spm        pm2_5       rainfall\n",
       "count  202025.000000  216741.000000  90875.000000  4583.000000  188881.000000\n",
       "mean       11.133270      26.389450    217.544524    40.501726      79.911407\n",
       "std        11.093978      17.986456    147.514219    30.202104      20.036673\n",
       "min         0.000000     -66.400000      0.000000     4.000000     -24.682525\n",
       "25%         5.000000      14.400000    110.333333    24.000000      66.362289\n",
       "50%         8.200000      23.000000    184.000000    32.000000      79.861002\n",
       "75%        14.000000      33.000000    289.000000    46.000000      93.447692\n",
       "max       909.000000     876.000000   2610.000000   395.000000     166.455104"
      ]
     },
     "execution_count": 8,
     "metadata": {},
     "output_type": "execute_result"
    }
   ],
   "source": [
    "# Find the statistics on the numerical values\n",
    "X_train.describe()"
   ]
  },
  {
   "cell_type": "code",
   "execution_count": 9,
   "id": "90abecc2",
   "metadata": {},
   "outputs": [
    {
     "data": {
      "text/plain": [
       "location\n",
       "Nagpur         6060\n",
       "Navi Mumbai    5037\n",
       "Guwahati       4784\n",
       "Nashik         4485\n",
       "Pune           4354\n",
       "               ... \n",
       "Bhuj              9\n",
       "Nizamabad         8\n",
       "Sarigam           7\n",
       "Khajuraho         7\n",
       "Gangtok           1\n",
       "Name: count, Length: 287, dtype: int64"
      ]
     },
     "execution_count": 9,
     "metadata": {},
     "output_type": "execute_result"
    }
   ],
   "source": [
    "# Count different locations\n",
    "X_train[\"location\"].value_counts()"
   ]
  },
  {
   "cell_type": "code",
   "execution_count": 10,
   "id": "7758520c",
   "metadata": {},
   "outputs": [
    {
     "data": {
      "image/png": "[encoded data removed]",
      "text/plain": [
       "<Figure size 1000x1000 with 6 Axes>"
      ]
     },
     "metadata": {},
     "output_type": "display_data"
    }
   ],
   "source": [
    "# Plot a histogram for numerical features\n",
    "hist = X_train.hist(bins=50, figsize=(10, 10));"
   ]
  },
  {
   "cell_type": "code",
   "execution_count": 11,
   "id": "b6c50b4c",
   "metadata": {},
   "outputs": [],
   "source": [
    "num_cols = X_train.select_dtypes(include=np.number).columns  # numerical columns\n",
    "cat_cols = X_train.select_dtypes(exclude=np.number).columns  # categorical columns"
   ]
  },
  {
   "cell_type": "code",
   "execution_count": 12,
   "id": "485dfd0c",
   "metadata": {},
   "outputs": [
    {
     "data": {
      "text/html": [
       "<div>\n",
       "<style scoped>\n",
       "    .dataframe tbody tr th:only-of-type {\n",
       "        vertical-align: middle;\n",
       "    }\n",
       "\n",
       "    .dataframe tbody tr th {\n",
       "        vertical-align: top;\n",
       "    }\n",
       "\n",
       "    .dataframe thead th {\n",
       "        text-align: right;\n",
       "    }\n",
       "</style>\n",
       "<table border=\"1\" class=\"dataframe\">\n",
       "  <thead>\n",
       "    <tr style=\"text-align: right;\">\n",
       "      <th></th>\n",
       "      <th>so2</th>\n",
       "      <th>no2</th>\n",
       "      <th>spm</th>\n",
       "      <th>pm2_5</th>\n",
       "      <th>rainfall</th>\n",
       "    </tr>\n",
       "  </thead>\n",
       "  <tbody>\n",
       "    <tr>\n",
       "      <th>so2</th>\n",
       "      <td>1.000000</td>\n",
       "      <td>0.342506</td>\n",
       "      <td>0.111831</td>\n",
       "      <td>0.030533</td>\n",
       "      <td>-0.001289</td>\n",
       "    </tr>\n",
       "    <tr>\n",
       "      <th>no2</th>\n",
       "      <td>0.342506</td>\n",
       "      <td>1.000000</td>\n",
       "      <td>0.341463</td>\n",
       "      <td>0.492185</td>\n",
       "      <td>-0.000142</td>\n",
       "    </tr>\n",
       "    <tr>\n",
       "      <th>spm</th>\n",
       "      <td>0.111831</td>\n",
       "      <td>0.341463</td>\n",
       "      <td>1.000000</td>\n",
       "      <td>NaN</td>\n",
       "      <td>-0.008428</td>\n",
       "    </tr>\n",
       "    <tr>\n",
       "      <th>pm2_5</th>\n",
       "      <td>0.030533</td>\n",
       "      <td>0.492185</td>\n",
       "      <td>NaN</td>\n",
       "      <td>1.000000</td>\n",
       "      <td>-0.027691</td>\n",
       "    </tr>\n",
       "    <tr>\n",
       "      <th>rainfall</th>\n",
       "      <td>-0.001289</td>\n",
       "      <td>-0.000142</td>\n",
       "      <td>-0.008428</td>\n",
       "      <td>-0.027691</td>\n",
       "      <td>1.000000</td>\n",
       "    </tr>\n",
       "  </tbody>\n",
       "</table>\n",
       "</div>"
      ],
      "text/plain": [
       "               so2       no2       spm     pm2_5  rainfall\n",
       "so2       1.000000  0.342506  0.111831  0.030533 -0.001289\n",
       "no2       0.342506  1.000000  0.341463  0.492185 -0.000142\n",
       "spm       0.111831  0.341463  1.000000       NaN -0.008428\n",
       "pm2_5     0.030533  0.492185       NaN  1.000000 -0.027691\n",
       "rainfall -0.001289 -0.000142 -0.008428 -0.027691  1.000000"
      ]
     },
     "execution_count": 12,
     "metadata": {},
     "output_type": "execute_result"
    }
   ],
   "source": [
    "# Correlation matrix\n",
    "corr = X_train[num_cols].corr()\n",
    "corr"
   ]
  },
  {
   "cell_type": "markdown",
   "id": "2bb0a6f5",
   "metadata": {},
   "source": [
    "## Data pre-processing"
   ]
  },
  {
   "cell_type": "markdown",
   "id": "642443e7",
   "metadata": {},
   "source": [
    "### Dropping outliers/non-sense values\n",
    "\n",
    "เอา outlier หรือ non-sense values ออก หรือแปลงเป็นค่า missing value (เช่น `NaN`, large negative (e.g., `-999`), `?`, `inf`) แล้วเอาออกทีหลังก็ได้"
   ]
  },
  {
   "cell_type": "code",
   "execution_count": 13,
   "id": "4c13757b",
   "metadata": {},
   "outputs": [
    {
     "data": {
      "image/png": "[encoded data removed]",
      "text/plain": [
       "<Figure size 300x300 with 1 Axes>"
      ]
     },
     "metadata": {},
     "output_type": "display_data"
    }
   ],
   "source": [
    "# จาก EDA จะเห็นว่ามีบางค่าใน \"no2\" กับ \"rainfall\" column ที่เป็นลบ (non-sense)\n",
    "# Create boxplots\n",
    "X_train[['no2']].boxplot(figsize=(3, 3));"
   ]
  },
  {
   "cell_type": "code",
   "execution_count": 14,
   "id": "9d0edce7",
   "metadata": {},
   "outputs": [
    {
     "data": {
      "image/png": "[encoded data removed]",
      "text/plain": [
       "<Figure size 300x300 with 1 Axes>"
      ]
     },
     "metadata": {},
     "output_type": "display_data"
    }
   ],
   "source": [
    "X_train[['rainfall']].boxplot(figsize=(3, 3));"
   ]
  },
  {
   "cell_type": "code",
   "execution_count": 15,
   "id": "82c89320",
   "metadata": {},
   "outputs": [],
   "source": [
    "# Drop row containing non-sense values\n",
    "X_train = X_train.drop(X_train[(X_train['no2'] < 0) | (X_train['rainfall'] < 0)].index)\n",
    "y_train = y_train[X_train.index]"
   ]
  },
  {
   "cell_type": "markdown",
   "id": "38811b0d",
   "metadata": {},
   "source": [
    "### Handling missing values\n",
    "\n",
    "จัดการกับ missing values หรือจะเก็บไว้ก็ได้ถ้ามีความหมาย\n",
    "- ถ้าใน feature หนึ่งมีสัดส่วนของ missing value มากกว่า 30% ควรเอา column นั้นออก หรือเอาแถวที่มี missing value ใน column นั้นออก\n",
    "- ถ้าใน feature หนึ่งมีสัดส่วนของ missing value น้อยกว่า 30% ควร impute (แทนที่) missing value ด้วย mean/median/mode\n",
    "    - ใช้ `sklearn.impute.SimpleImputer`\n",
    "    - Numerical data ที่ discrete หรือมีค่าที่ซ้ำเยอะเป็นพิเศษ ควรใช้ mode  \n",
    "    - Categorical data บางอย่างไม่ควรถูกแทนด้วย mode แต่สามารถแทนด้วย `\"not known\"` หรืออะไรทำนองนี้ได้ เช่น สถานที่ หรือข้อมูลที่ไม่มี mode ที่โดดเด่น\n"
   ]
  },
  {
   "cell_type": "code",
   "execution_count": 16,
   "id": "3a56d01d",
   "metadata": {},
   "outputs": [
    {
     "data": {
      "text/plain": [
       "stn_code    34.168151\n",
       "state        0.000000\n",
       "location     0.000000\n",
       "type         0.047062\n",
       "so2          6.789890\n",
       "no2          0.000000\n",
       "spm         58.072568\n",
       "pm2_5       97.885888\n",
       "date         0.001384\n",
       "rainfall    12.854467\n",
       "dtype: float64"
      ]
     },
     "execution_count": 16,
     "metadata": {},
     "output_type": "execute_result"
    }
   ],
   "source": [
    "# Find NaN percentage of each feature\n",
    "nan_percentages = X_train.isnull().sum() / len(X_train) * 100\n",
    "nan_percentages"
   ]
  },
  {
   "cell_type": "code",
   "execution_count": 17,
   "id": "9158608f",
   "metadata": {},
   "outputs": [],
   "source": [
    "# Drop features with missing values >30%\n",
    "features_to_be_removed = nan_percentages[nan_percentages > 30].index\n",
    "X_train = X_train.drop(columns=features_to_be_removed)"
   ]
  },
  {
   "cell_type": "code",
   "execution_count": 18,
   "id": "c31f31ef",
   "metadata": {},
   "outputs": [],
   "source": [
    "# Update\n",
    "num_cols = X_train.select_dtypes(include=np.number).columns  # numerical columns\n",
    "cat_cols = X_train.select_dtypes(exclude=np.number).columns  # categorical columns"
   ]
  },
  {
   "cell_type": "code",
   "execution_count": 19,
   "id": "08754598",
   "metadata": {},
   "outputs": [
    {
     "data": {
      "text/plain": [
       "type\n",
       "Residential    91348\n",
       "Industrial     72152\n",
       "Others         45689\n",
       "Sensitive       7443\n",
       "Name: count, dtype: int64"
      ]
     },
     "execution_count": 19,
     "metadata": {},
     "output_type": "execute_result"
    }
   ],
   "source": [
    "# Check the number of each category in the \"type\" feature\n",
    "X_train[\"type\"].value_counts()"
   ]
  },
  {
   "cell_type": "code",
   "execution_count": 20,
   "id": "043d921a",
   "metadata": {},
   "outputs": [],
   "source": [
    "# Replace NaN with the most generic type\n",
    "X_train[\"type\"].replace(np.nan, \"Others\", inplace=True)"
   ]
  },
  {
   "cell_type": "code",
   "execution_count": 21,
   "id": "56382ae6",
   "metadata": {},
   "outputs": [],
   "source": [
    "# Instantiate a SimpleImputer object with strategy of choice\n",
    "num_imputer = SimpleImputer(strategy=\"mean\")"
   ]
  },
  {
   "cell_type": "code",
   "execution_count": 22,
   "id": "84a16ad4",
   "metadata": {},
   "outputs": [
    {
     "data": {
      "text/html": [
       "<style>#sk-container-id-1 {color: black;}#sk-container-id-1 pre{padding: 0;}#sk-container-id-1 div.sk-toggleable {background-color: white;}#sk-container-id-1 label.sk-toggleable__label {cursor: pointer;display: block;width: 100%;margin-bottom: 0;padding: 0.3em;box-sizing: border-box;text-align: center;}#sk-container-id-1 label.sk-toggleable__label-arrow:before {content: \"▸\";float: left;margin-right: 0.25em;color: #696969;}#sk-container-id-1 label.sk-toggleable__label-arrow:hover:before {color: black;}#sk-container-id-1 div.sk-estimator:hover label.sk-toggleable__label-arrow:before {color: black;}#sk-container-id-1 div.sk-toggleable__content {max-height: 0;max-width: 0;overflow: hidden;text-align: left;background-color: #f0f8ff;}#sk-container-id-1 div.sk-toggleable__content pre {margin: 0.2em;color: black;border-radius: 0.25em;background-color: #f0f8ff;}#sk-container-id-1 input.sk-toggleable__control:checked~div.sk-toggleable__content {max-height: 200px;max-width: 100%;overflow: auto;}#sk-container-id-1 input.sk-toggleable__control:checked~label.sk-toggleable__label-arrow:before {content: \"▾\";}#sk-container-id-1 div.sk-estimator input.sk-toggleable__control:checked~label.sk-toggleable__label {background-color: #d4ebff;}#sk-container-id-1 div.sk-label input.sk-toggleable__control:checked~label.sk-toggleable__label {background-color: #d4ebff;}#sk-container-id-1 input.sk-hidden--visually {border: 0;clip: rect(1px 1px 1px 1px);clip: rect(1px, 1px, 1px, 1px);height: 1px;margin: -1px;overflow: hidden;padding: 0;position: absolute;width: 1px;}#sk-container-id-1 div.sk-estimator {font-family: monospace;background-color: #f0f8ff;border: 1px dotted black;border-radius: 0.25em;box-sizing: border-box;margin-bottom: 0.5em;}#sk-container-id-1 div.sk-estimator:hover {background-color: #d4ebff;}#sk-container-id-1 div.sk-parallel-item::after {content: \"\";width: 100%;border-bottom: 1px solid gray;flex-grow: 1;}#sk-container-id-1 div.sk-label:hover label.sk-toggleable__label {background-color: #d4ebff;}#sk-container-id-1 div.sk-serial::before {content: \"\";position: absolute;border-left: 1px solid gray;box-sizing: border-box;top: 0;bottom: 0;left: 50%;z-index: 0;}#sk-container-id-1 div.sk-serial {display: flex;flex-direction: column;align-items: center;background-color: white;padding-right: 0.2em;padding-left: 0.2em;position: relative;}#sk-container-id-1 div.sk-item {position: relative;z-index: 1;}#sk-container-id-1 div.sk-parallel {display: flex;align-items: stretch;justify-content: center;background-color: white;position: relative;}#sk-container-id-1 div.sk-item::before, #sk-container-id-1 div.sk-parallel-item::before {content: \"\";position: absolute;border-left: 1px solid gray;box-sizing: border-box;top: 0;bottom: 0;left: 50%;z-index: -1;}#sk-container-id-1 div.sk-parallel-item {display: flex;flex-direction: column;z-index: 1;position: relative;background-color: white;}#sk-container-id-1 div.sk-parallel-item:first-child::after {align-self: flex-end;width: 50%;}#sk-container-id-1 div.sk-parallel-item:last-child::after {align-self: flex-start;width: 50%;}#sk-container-id-1 div.sk-parallel-item:only-child::after {width: 0;}#sk-container-id-1 div.sk-dashed-wrapped {border: 1px dashed gray;margin: 0 0.4em 0.5em 0.4em;box-sizing: border-box;padding-bottom: 0.4em;background-color: white;}#sk-container-id-1 div.sk-label label {font-family: monospace;font-weight: bold;display: inline-block;line-height: 1.2em;}#sk-container-id-1 div.sk-label-container {text-align: center;}#sk-container-id-1 div.sk-container {/* jupyter's `normalize.less` sets `[hidden] { display: none; }` but bootstrap.min.css set `[hidden] { display: none !important; }` so we also need the `!important` here to be able to override the default hidden behavior on the sphinx rendered scikit-learn.org. See: https://github.com/scikit-learn/scikit-learn/issues/21755 */display: inline-block !important;position: relative;}#sk-container-id-1 div.sk-text-repr-fallback {display: none;}</style><div id=\"sk-container-id-1\" class=\"sk-top-container\"><div class=\"sk-text-repr-fallback\"><pre>SimpleImputer()</pre><b>In a Jupyter environment, please rerun this cell to show the HTML representation or trust the notebook. <br />On GitHub, the HTML representation is unable to render, please try loading this page with nbviewer.org.</b></div><div class=\"sk-container\" hidden><div class=\"sk-item\"><div class=\"sk-estimator sk-toggleable\"><input class=\"sk-toggleable__control sk-hidden--visually\" id=\"sk-estimator-id-1\" type=\"checkbox\" checked><label for=\"sk-estimator-id-1\" class=\"sk-toggleable__label sk-toggleable__label-arrow\">SimpleImputer</label><div class=\"sk-toggleable__content\"><pre>SimpleImputer()</pre></div></div></div></div></div>"
      ],
      "text/plain": [
       "SimpleImputer()"
      ]
     },
     "execution_count": 22,
     "metadata": {},
     "output_type": "execute_result"
    }
   ],
   "source": [
    "# Call the \"fit\" method on the object to compute the strategy for numerical features\n",
    "# and store the strategy values as an attribute\n",
    "num_imputer.fit(X_train[num_cols])"
   ]
  },
  {
   "cell_type": "code",
   "execution_count": 23,
   "id": "bf045e80",
   "metadata": {},
   "outputs": [],
   "source": [
    "# Call the \"transform\" method on the object to identify missing values\n",
    "# and replace them with previously calculated strategy values\n",
    "X_train[num_cols] = num_imputer.transform(X_train[num_cols])  "
   ]
  },
  {
   "cell_type": "code",
   "execution_count": 24,
   "id": "3f4ac509",
   "metadata": {},
   "outputs": [
    {
     "data": {
      "text/plain": [
       "array([11.13318779, 26.39035904, 79.91341849])"
      ]
     },
     "execution_count": 24,
     "metadata": {},
     "output_type": "execute_result"
    }
   ],
   "source": [
    "num_imputer.statistics_  # Strategy values"
   ]
  },
  {
   "cell_type": "markdown",
   "id": "5a5909ad",
   "metadata": {},
   "source": [
    "เราสามารถรวม\n",
    "\n",
    "`num_imputer.fit(X_train[num_cols])` <br />\n",
    "`X_train[num_cols] = num_imputer.transform(X_train[num_cols])`\n",
    "\n",
    "ได้เป็น\n",
    "\n",
    "`X_train[num_cols] = num_imputer.fit_transform(X_train[num_cols])`"
   ]
  },
  {
   "cell_type": "code",
   "execution_count": 25,
   "id": "849d689b",
   "metadata": {},
   "outputs": [],
   "source": [
    "# Replace missing values in categorical features with the most frequent values\n",
    "cat_imputer = SimpleImputer(strategy=\"most_frequent\")\n",
    "X_train[cat_cols] = cat_imputer.fit_transform(X_train[cat_cols])"
   ]
  },
  {
   "cell_type": "markdown",
   "id": "284f927f",
   "metadata": {},
   "source": [
    "### Feature scaling\n",
    "\n",
    "เป็นการแปลงข้อมูลจากหลาย ๆ แหล่งให้อยู่ใน scale เดียวกัน <span style=\"color: red;\">แต่ไม่ต้อง scale target (`y`)</span>\n",
    "\n",
    "มี 3 วิธีที่นิยม ได้แก่\n",
    "\n",
    "#### Standardising\n",
    "\n",
    "- ใช้ `sklearn.preprocessing.StandardScaler`\n",
    "- ใช้ได้ดีที่สุดเมื่อข้อมูลกระจายตัวแบบ normal distribution\n",
    "- ข้อมูลแต่ละแหล่งอาจมี range ไม่เท่ากันหลังจากถูก scaled \n",
    "- อ่อนไหวต่อ outlier\n",
    "- Distort relative distances between feature values\n",
    "    \n",
    "$$z = \\frac{x - mean}{std}$$\n",
    "\n",
    "#### Robust scaling\n",
    "\n",
    "- ใช้ `sklearn.preprocessing.RobustScaler`\n",
    "- เหมือน standardizing แค่ไม่อ่อนไหวต่อ outlier เท่า\n",
    "- ใช้ได้เมื่อข้อมูลไม่กระจายตัวแบบ normal distribution หรือกระจายตัวแบบ normal distribution แต่มี outlier\n",
    "    \n",
    "$$z = \\frac{x - median}{IQR}$$\n",
    "    \n",
    "#### Normalising\n",
    "\n",
    "- ใช้ `sklearn.preprocessing.MinMaxScaler`\n",
    "- มีช่วงของข้อมูลหลังถูก scaled แน่นอน (0-1)\n",
    "- ใช้ได้ดีไม่ว่าข้อมูลมีการกระจายตัวแบบใด\n",
    "- ไม่ลดผลจาก outlier\n",
    "- ไม่ลดความเบ้ (skewness) ของการกระจายตัวของข้อมูล\n",
    "    \n",
    "$$z = \\frac{x - x_{min}}{x_{max} - x_{min}}$$\n"
   ]
  },
  {
   "cell_type": "markdown",
   "id": "9d5d6274",
   "metadata": {},
   "source": [
    "### Balancing datasets\n",
    "\n",
    "ในการทำ classification task หากข้อมูล imbalanced จะทำให้ model ทำนาย class ที่มีข้อมูลน้อยกว่าได้แย่กว่า\n",
    "\n",
    "สำหรับ binary classification task ถ้าสัดส่วนของข้อมูล class 1 : class 2 น้อยกว่า 30:70 จะถือว่า imbalanced\n",
    "\n",
    "เพื่อทำให้ข้อมูล balanced เราจะทำสิ่งที่เรียกว่า balancing <span style=\"color: red;\">เราจะทำ balancing เฉพาะกับ training set เท่านั้น</span>\n",
    "\n",
    "#### Oversampling and undersampling\n",
    "\n",
    "เราสามารถทำ balancing ได้ 2 วิธีหลัก\n",
    "- ก็อปปี้ข้อมูลใน class ที่เล็กกว่า (<b>oversampling</b>)\n",
    "- เอาข้อมูลแค่บางส่วนจาก class ที่ใหญ่กว่า (<b>undersampling</b>)\n",
    "\n",
    "<img src=\"../images/over_under_sampling.png\" width=\"600\" /><br />\n",
    "\n",
    "#### Synthetic Minority Over-sampling TEchnique – SMOTE\n",
    "\n",
    "SMOTE เป็นวิธีการ oversampling ที่สร้างข้อมูลใหม่ใน class ที่เล็กกว่าโดยการเอาข้อมูลสองจุดที่ใกล้กันมาทำ linear combination กัน ได้ข้อมูลใหม่ (ไม่ใช่วิธี balancing ที่ดี)\n",
    "\n",
    "<img src=\"../images/smote.png\" width=\"600\" /><br />"
   ]
  },
  {
   "cell_type": "markdown",
   "id": "1b251f80",
   "metadata": {},
   "source": [
    "## Feature engineering\n",
    "\n",
    "Feature engineering is a category of preprocessing that includes encoding, discretizing and creating new features."
   ]
  },
  {
   "cell_type": "markdown",
   "id": "0c520b2f",
   "metadata": {},
   "source": [
    "### Creating / transforming features \n",
    "\n",
    "เช่น เอา feature หนึ่งมา take log หรือเอา 2 feature มาหารกัน\n",
    "- Create additional information\n",
    "- Reduce the number of features by combining them\n",
    "- Change data distribution\n",
    "- Potentially improve model performance"
   ]
  },
  {
   "cell_type": "code",
   "execution_count": 26,
   "id": "c67d05d7",
   "metadata": {},
   "outputs": [
    {
     "data": {
      "image/png": "[encoded data removed]",
      "text/plain": [
       "<Figure size 800x300 with 2 Axes>"
      ]
     },
     "metadata": {},
     "output_type": "display_data"
    }
   ],
   "source": [
    "X_train[[\"so2\", \"no2\"]].hist(bins=100, figsize=(8, 3));"
   ]
  },
  {
   "cell_type": "code",
   "execution_count": 27,
   "id": "c62e6704",
   "metadata": {},
   "outputs": [],
   "source": [
    "# Transform \"so2\" and \"no2\" features by taking log (+0.001 to avoid log(0))\n",
    "X_train[\"so2\"] = np.log(X_train[\"so2\"] + 0.001)\n",
    "X_train[\"no2\"] = np.log(X_train[\"no2\"] + 0.001)"
   ]
  },
  {
   "cell_type": "code",
   "execution_count": 28,
   "id": "7656d6ff",
   "metadata": {},
   "outputs": [
    {
     "data": {
      "image/png": "[encoded data removed]",
      "text/plain": [
       "<Figure size 800x300 with 2 Axes>"
      ]
     },
     "metadata": {},
     "output_type": "display_data"
    }
   ],
   "source": [
    "X_train[[\"so2\", \"no2\"]].hist(bins=100, figsize=(8, 3));"
   ]
  },
  {
   "cell_type": "markdown",
   "id": "83a3c02f",
   "metadata": {},
   "source": [
    "### Discretizing / Binning\n",
    "\n",
    "ทำเมื่อต้องการแปลงจาก regression task เป็น classification task\n",
    "- ใช้ `pandas.cut`\n",
    "- เช่น แปลงจากปริมาณฝุ่นเป็นการบอกว่ามีฝุ่นเยอะหรือน้อย"
   ]
  },
  {
   "cell_type": "code",
   "execution_count": 29,
   "id": "2b6ae4c2",
   "metadata": {},
   "outputs": [
    {
     "data": {
      "text/plain": [
       "67566      low\n",
       "295410    high\n",
       "118557     low\n",
       "227449     low\n",
       "180266     low\n",
       "          ... \n",
       "119927    high\n",
       "259456     low\n",
       "131993    high\n",
       "146945     low\n",
       "122007    high\n",
       "Name: rspm, Length: 216734, dtype: category\n",
       "Categories (2, object): ['low' < 'high']"
      ]
     },
     "execution_count": 29,
     "metadata": {},
     "output_type": "execute_result"
    }
   ],
   "source": [
    "y_train_discretised = pd.cut(x=y_train,\n",
    "                             bins=[y_train.min()-1, y_train.mean()-0.25*y_train.std(), y_train.max()+1], \n",
    "                             labels=['low', 'high'])\n",
    "\n",
    "y_train_discretised"
   ]
  },
  {
   "cell_type": "markdown",
   "id": "92570022",
   "metadata": {},
   "source": [
    "### Encoding\n",
    "\n",
    "แปลง non-numeric data เป็น numeric data ทำได้ 3 วิธี ได้แก่\n",
    "\n",
    "#### Target encoding\n",
    "    \n",
    "- ใช้ `sklearn.preprocessing.LabelEncoder`\n",
    "- ค่าที่ได้อาจถูกนำไปใช้แบบผิด ๆ เช่น สีน้ำเงิน เป็น 3 เท่าของสีแดง\n",
    "       \n",
    "<img src=\"../images/target_encoding.png\" width=\"250\" /><br />\n",
    "\n",
    "#### One-hot encoding\n",
    "\n",
    "- ใช้ `sklearn.preprocessing.OneHotEncoder`\n",
    "- All columns are preserved.\n",
    "- Can create colinearity between variables in linear models without regularization.\n",
    "- จัดการ unknown category (category ที่มีใน test set แต่ไม่มีใน training set) โดยใส่ `handle_unknown=\"ignore\"` เพื่อทำให้ค่าที่เป็น unknown category เป็น 0 ในทุก column\n",
    "        \n",
    "<img src=\"../images/one_hot_encoding.png\" width=\"400\" /><br />\n",
    "        \n",
    "#### Dummy encoding\n",
    "\n",
    "- ใช้ `sklearn.preprocessing.OneHotEncoder` แต่เอาออก 1 category โดยใส่ `drop=[\"Others\"]`\n",
    "- No colinearity.\n",
    "- Dimensionality of data is reduced.\n",
    "- Lose some information.\n",
    "\n",
    "<img src=\"../images/dummy_encoding.png\" width=\"350\" /><br />\n"
   ]
  },
  {
   "cell_type": "code",
   "execution_count": 30,
   "id": "178883c7",
   "metadata": {},
   "outputs": [
    {
     "data": {
      "text/plain": [
       "type\n",
       "Residential    91348\n",
       "Industrial     72152\n",
       "Others         45791\n",
       "Sensitive       7443\n",
       "Name: count, dtype: int64"
      ]
     },
     "execution_count": 30,
     "metadata": {},
     "output_type": "execute_result"
    }
   ],
   "source": [
    "X_train['type'].value_counts()"
   ]
  },
  {
   "cell_type": "code",
   "execution_count": 31,
   "id": "4ae304a7",
   "metadata": {},
   "outputs": [],
   "source": [
    "# Instantiate encoder: sparse_output=False => returns a numpy array or dataframe (as opposed to a sparse matrix)\n",
    "ohe = OneHotEncoder(sparse_output=False)\n",
    "type_encoded = ohe.fit_transform(X_train[['type']])"
   ]
  },
  {
   "cell_type": "code",
   "execution_count": 32,
   "id": "d13197e5",
   "metadata": {},
   "outputs": [
    {
     "data": {
      "text/plain": [
       "array(['Industrial', 'Others', 'Residential', 'Sensitive'], dtype=object)"
      ]
     },
     "execution_count": 32,
     "metadata": {},
     "output_type": "execute_result"
    }
   ],
   "source": [
    "type_categories = ohe.categories_[0]  # Categories in the \"type\" feature\n",
    "type_categories"
   ]
  },
  {
   "cell_type": "code",
   "execution_count": 33,
   "id": "8dae6191",
   "metadata": {
    "scrolled": true
   },
   "outputs": [
    {
     "data": {
      "text/html": [
       "<div>\n",
       "<style scoped>\n",
       "    .dataframe tbody tr th:only-of-type {\n",
       "        vertical-align: middle;\n",
       "    }\n",
       "\n",
       "    .dataframe tbody tr th {\n",
       "        vertical-align: top;\n",
       "    }\n",
       "\n",
       "    .dataframe thead th {\n",
       "        text-align: right;\n",
       "    }\n",
       "</style>\n",
       "<table border=\"1\" class=\"dataframe\">\n",
       "  <thead>\n",
       "    <tr style=\"text-align: right;\">\n",
       "      <th></th>\n",
       "      <th>state</th>\n",
       "      <th>location</th>\n",
       "      <th>so2</th>\n",
       "      <th>no2</th>\n",
       "      <th>date</th>\n",
       "      <th>rainfall</th>\n",
       "      <th>Industrial</th>\n",
       "      <th>Others</th>\n",
       "      <th>Residential</th>\n",
       "      <th>Sensitive</th>\n",
       "    </tr>\n",
       "  </thead>\n",
       "  <tbody>\n",
       "    <tr>\n",
       "      <th>67566</th>\n",
       "      <td>Assam</td>\n",
       "      <td>Guwahati</td>\n",
       "      <td>1.791926</td>\n",
       "      <td>2.565026</td>\n",
       "      <td>05/01/2015</td>\n",
       "      <td>92.268021</td>\n",
       "      <td>0.0</td>\n",
       "      <td>0.0</td>\n",
       "      <td>1.0</td>\n",
       "      <td>0.0</td>\n",
       "    </tr>\n",
       "    <tr>\n",
       "      <th>295410</th>\n",
       "      <td>Maharashtra</td>\n",
       "      <td>Latur</td>\n",
       "      <td>1.609638</td>\n",
       "      <td>2.772651</td>\n",
       "      <td>18/10/2011</td>\n",
       "      <td>79.913418</td>\n",
       "      <td>0.0</td>\n",
       "      <td>0.0</td>\n",
       "      <td>1.0</td>\n",
       "      <td>0.0</td>\n",
       "    </tr>\n",
       "    <tr>\n",
       "      <th>118557</th>\n",
       "      <td>Maharashtra</td>\n",
       "      <td>Navi Mumbai</td>\n",
       "      <td>2.484990</td>\n",
       "      <td>3.784212</td>\n",
       "      <td>05/10/2011</td>\n",
       "      <td>79.913418</td>\n",
       "      <td>0.0</td>\n",
       "      <td>0.0</td>\n",
       "      <td>1.0</td>\n",
       "      <td>0.0</td>\n",
       "    </tr>\n",
       "    <tr>\n",
       "      <th>227449</th>\n",
       "      <td>Tamil Nadu</td>\n",
       "      <td>Madurai</td>\n",
       "      <td>2.809463</td>\n",
       "      <td>3.226884</td>\n",
       "      <td>22/05/2006</td>\n",
       "      <td>59.468407</td>\n",
       "      <td>0.0</td>\n",
       "      <td>1.0</td>\n",
       "      <td>0.0</td>\n",
       "      <td>0.0</td>\n",
       "    </tr>\n",
       "    <tr>\n",
       "      <th>180266</th>\n",
       "      <td>Karnataka</td>\n",
       "      <td>Hassan</td>\n",
       "      <td>1.609638</td>\n",
       "      <td>2.890427</td>\n",
       "      <td>06/08/2012</td>\n",
       "      <td>75.121742</td>\n",
       "      <td>0.0</td>\n",
       "      <td>0.0</td>\n",
       "      <td>1.0</td>\n",
       "      <td>0.0</td>\n",
       "    </tr>\n",
       "    <tr>\n",
       "      <th>...</th>\n",
       "      <td>...</td>\n",
       "      <td>...</td>\n",
       "      <td>...</td>\n",
       "      <td>...</td>\n",
       "      <td>...</td>\n",
       "      <td>...</td>\n",
       "      <td>...</td>\n",
       "      <td>...</td>\n",
       "      <td>...</td>\n",
       "      <td>...</td>\n",
       "    </tr>\n",
       "    <tr>\n",
       "      <th>119927</th>\n",
       "      <td>Uttar Pradesh</td>\n",
       "      <td>Jhansi</td>\n",
       "      <td>2.174865</td>\n",
       "      <td>3.349939</td>\n",
       "      <td>27/03/2009</td>\n",
       "      <td>85.948820</td>\n",
       "      <td>0.0</td>\n",
       "      <td>1.0</td>\n",
       "      <td>0.0</td>\n",
       "      <td>0.0</td>\n",
       "    </tr>\n",
       "    <tr>\n",
       "      <th>259456</th>\n",
       "      <td>West Bengal</td>\n",
       "      <td>Durgapur</td>\n",
       "      <td>2.410020</td>\n",
       "      <td>3.786482</td>\n",
       "      <td>06/08/2004</td>\n",
       "      <td>91.441883</td>\n",
       "      <td>1.0</td>\n",
       "      <td>0.0</td>\n",
       "      <td>0.0</td>\n",
       "      <td>0.0</td>\n",
       "    </tr>\n",
       "    <tr>\n",
       "      <th>131993</th>\n",
       "      <td>Andhra Pradesh</td>\n",
       "      <td>Hyderabad</td>\n",
       "      <td>1.609638</td>\n",
       "      <td>3.091088</td>\n",
       "      <td>23/02/2012</td>\n",
       "      <td>108.806373</td>\n",
       "      <td>0.0</td>\n",
       "      <td>0.0</td>\n",
       "      <td>1.0</td>\n",
       "      <td>0.0</td>\n",
       "    </tr>\n",
       "    <tr>\n",
       "      <th>146945</th>\n",
       "      <td>Andhra Pradesh</td>\n",
       "      <td>Guntur</td>\n",
       "      <td>1.609638</td>\n",
       "      <td>2.772651</td>\n",
       "      <td>09/12/2013</td>\n",
       "      <td>75.351849</td>\n",
       "      <td>0.0</td>\n",
       "      <td>0.0</td>\n",
       "      <td>1.0</td>\n",
       "      <td>0.0</td>\n",
       "    </tr>\n",
       "    <tr>\n",
       "      <th>122007</th>\n",
       "      <td>Gujarat</td>\n",
       "      <td>Vadodara</td>\n",
       "      <td>2.091988</td>\n",
       "      <td>2.791226</td>\n",
       "      <td>20/10/2006</td>\n",
       "      <td>76.943539</td>\n",
       "      <td>0.0</td>\n",
       "      <td>1.0</td>\n",
       "      <td>0.0</td>\n",
       "      <td>0.0</td>\n",
       "    </tr>\n",
       "  </tbody>\n",
       "</table>\n",
       "<p>216734 rows × 10 columns</p>\n",
       "</div>"
      ],
      "text/plain": [
       "                 state     location       so2       no2        date  \\\n",
       "67566            Assam     Guwahati  1.791926  2.565026  05/01/2015   \n",
       "295410     Maharashtra        Latur  1.609638  2.772651  18/10/2011   \n",
       "118557     Maharashtra  Navi Mumbai  2.484990  3.784212  05/10/2011   \n",
       "227449      Tamil Nadu      Madurai  2.809463  3.226884  22/05/2006   \n",
       "180266       Karnataka       Hassan  1.609638  2.890427  06/08/2012   \n",
       "...                ...          ...       ...       ...         ...   \n",
       "119927   Uttar Pradesh       Jhansi  2.174865  3.349939  27/03/2009   \n",
       "259456     West Bengal     Durgapur  2.410020  3.786482  06/08/2004   \n",
       "131993  Andhra Pradesh    Hyderabad  1.609638  3.091088  23/02/2012   \n",
       "146945  Andhra Pradesh       Guntur  1.609638  2.772651  09/12/2013   \n",
       "122007         Gujarat     Vadodara  2.091988  2.791226  20/10/2006   \n",
       "\n",
       "          rainfall  Industrial  Others  Residential  Sensitive  \n",
       "67566    92.268021         0.0     0.0          1.0        0.0  \n",
       "295410   79.913418         0.0     0.0          1.0        0.0  \n",
       "118557   79.913418         0.0     0.0          1.0        0.0  \n",
       "227449   59.468407         0.0     1.0          0.0        0.0  \n",
       "180266   75.121742         0.0     0.0          1.0        0.0  \n",
       "...            ...         ...     ...          ...        ...  \n",
       "119927   85.948820         0.0     1.0          0.0        0.0  \n",
       "259456   91.441883         1.0     0.0          0.0        0.0  \n",
       "131993  108.806373         0.0     0.0          1.0        0.0  \n",
       "146945   75.351849         0.0     0.0          1.0        0.0  \n",
       "122007   76.943539         0.0     1.0          0.0        0.0  \n",
       "\n",
       "[216734 rows x 10 columns]"
      ]
     },
     "execution_count": 33,
     "metadata": {},
     "output_type": "execute_result"
    }
   ],
   "source": [
    "X_train[type_categories] = type_encoded  # Add encoded columns\n",
    "X_train.drop(columns=\"type\", inplace=True)  # Drop the \"type\" column\n",
    "X_train"
   ]
  }
 ],
 "metadata": {
  "kernelspec": {
   "display_name": "Python 3 (ipykernel)",
   "language": "python",
   "name": "python3"
  },
  "language_info": {
   "codemirror_mode": {
    "name": "ipython",
    "version": 3
   },
   "file_extension": ".py",
   "mimetype": "text/x-python",
   "name": "python",
   "nbconvert_exporter": "python",
   "pygments_lexer": "ipython3",
   "version": "3.11.3"
  }
 },
 "nbformat": 4,
 "nbformat_minor": 5
}