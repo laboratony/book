{
 "cells": [
  {
   "cell_type": "markdown",
   "id": "30097027",
   "metadata": {},
   "source": [
    "# Logistic Regression"
   ]
  },
  {
   "cell_type": "code",
   "execution_count": 1,
   "id": "3f0d0958",
   "metadata": {},
   "outputs": [],
   "source": [
    "import pandas as pd\n",
    "from sklearn.model_selection import train_test_split\n",
    "from sklearn.preprocessing import StandardScaler\n",
    "from sklearn.linear_model import LogisticRegression"
   ]
  },
  {
   "cell_type": "markdown",
   "id": "72ceb5e5",
   "metadata": {},
   "source": [
    "เราจะใช้ logistic function ในการทำ binary classification นั่นคือ ทำนาย probability ที่ outcome ($y$) จะอยู่ใน Class 0 หรือ Class 1\n",
    "\n",
    "Logistic function เป็น sigmoid function ดังนี้\n",
    "\n",
    "$$\\sigma(X)=\\frac{1}{1+e^{-X}}$$\n",
    "\n",
    "การแปลง logistic function ให้เป็น linear function\n",
    "1. นิยามให้ probability ที่ทำให้ $y=1$ คือ $P_{y=1} = P > \\text{threshold}$ <br/>ดังนั้น probability ที่ทำให้ $y=0$ ก็คือ $P_{y=0} = 1-P < \\text{threshold}$ <br />($\\textbf{threshold} = 0.5$ by default ถ้า $P$ มากกว่าค่านี้ $y$ จะเท่ากับ 1 (ถูกจัดอยู่ใน Class 1) ถ้า $P$ น้อยกว่าค่านี้ $y$ จะเท่ากับ 0 (ถูกจัดอยู่ใน Class 0))\n",
    "\n",
    "2. นิยามให้\n",
    "\n",
    "$$\\text{odds}=\\frac{P_{y=1}}{P_{y=0}}=\\frac{P}{1-P}$$ \n",
    "\n",
    "$\\qquad$และ \n",
    "\n",
    "$$\\text{logit}=\\ln(\\text{odds})=\\ln{\\frac{P}{1-P}}$$\n",
    "\n",
    "3. เมื่อ plot ระหว่าง $\\text{logit}$ กับ $X$ จะได้สมการเส้นตรง\n",
    "\n",
    "$$\\ln(\\frac{P}{1-P})=\\beta_0 + \\beta_1\\boldsymbol{x}_1 + ... + \\beta_n\\boldsymbol{x}_n = \\beta X$$\n",
    "\n",
    "<img src=\"../images/logistic_regression.png\" width=\"800\" /><br />\n",
    "\n",
    "สิ่งที่เราต้องทำคือหา $\\beta$ ที่ทำให้ error ต่ำสุด เมื่อเราได้เส้นตรงแล้ว มี $X$ หา $P$ ได้\n",
    "\n",
    "เราสามารถทำ logistic regression โดยใช้ `sklearn.linear_model.LogisticRegression`\n",
    "\n",
    "Weight และ bias สามารถเข้าถึงได้จาก attribute ชื่อ `coef_` และ `intercept_` ตามลำดับ โดย feature ที่มี weight มากกว่าจะมีความสำคัญมากกว่า ดังนั้น เราสามารถเอา feature ที่สำคัญน้อยออกเพื่อลดจำนวน feature ที่จะใช้ใน model ได้ (feature selection)"
   ]
  },
  {
   "cell_type": "code",
   "execution_count": 2,
   "id": "8dd45bfe",
   "metadata": {},
   "outputs": [],
   "source": [
    "# Perform data pre-processing\n",
    "\n",
    "# Import data and drop duplicate\n",
    "data = pd.read_csv('../data/wines_binary.csv').drop_duplicates()\n",
    "# Prepare X and y\n",
    "X, y = data.drop(columns=['is_good_quality']), data['is_good_quality']\n",
    "# Train-test split\n",
    "X_train, X_test, y_train, y_test = train_test_split(X, y, train_size=.7, random_state=42)\n",
    "# Scale features\n",
    "scaler = StandardScaler().fit(X_train)\n",
    "X_train = pd.DataFrame(scaler.transform(X_train), columns=X_train.columns)\n",
    "X_test = pd.DataFrame(scaler.transform(X_test), columns=X_test.columns)"
   ]
  },
  {
   "cell_type": "code",
   "execution_count": 3,
   "id": "3446ca8a",
   "metadata": {},
   "outputs": [
    {
     "data": {
      "text/html": [
       "<style>#sk-container-id-1 {color: black;}#sk-container-id-1 pre{padding: 0;}#sk-container-id-1 div.sk-toggleable {background-color: white;}#sk-container-id-1 label.sk-toggleable__label {cursor: pointer;display: block;width: 100%;margin-bottom: 0;padding: 0.3em;box-sizing: border-box;text-align: center;}#sk-container-id-1 label.sk-toggleable__label-arrow:before {content: \"▸\";float: left;margin-right: 0.25em;color: #696969;}#sk-container-id-1 label.sk-toggleable__label-arrow:hover:before {color: black;}#sk-container-id-1 div.sk-estimator:hover label.sk-toggleable__label-arrow:before {color: black;}#sk-container-id-1 div.sk-toggleable__content {max-height: 0;max-width: 0;overflow: hidden;text-align: left;background-color: #f0f8ff;}#sk-container-id-1 div.sk-toggleable__content pre {margin: 0.2em;color: black;border-radius: 0.25em;background-color: #f0f8ff;}#sk-container-id-1 input.sk-toggleable__control:checked~div.sk-toggleable__content {max-height: 200px;max-width: 100%;overflow: auto;}#sk-container-id-1 input.sk-toggleable__control:checked~label.sk-toggleable__label-arrow:before {content: \"▾\";}#sk-container-id-1 div.sk-estimator input.sk-toggleable__control:checked~label.sk-toggleable__label {background-color: #d4ebff;}#sk-container-id-1 div.sk-label input.sk-toggleable__control:checked~label.sk-toggleable__label {background-color: #d4ebff;}#sk-container-id-1 input.sk-hidden--visually {border: 0;clip: rect(1px 1px 1px 1px);clip: rect(1px, 1px, 1px, 1px);height: 1px;margin: -1px;overflow: hidden;padding: 0;position: absolute;width: 1px;}#sk-container-id-1 div.sk-estimator {font-family: monospace;background-color: #f0f8ff;border: 1px dotted black;border-radius: 0.25em;box-sizing: border-box;margin-bottom: 0.5em;}#sk-container-id-1 div.sk-estimator:hover {background-color: #d4ebff;}#sk-container-id-1 div.sk-parallel-item::after {content: \"\";width: 100%;border-bottom: 1px solid gray;flex-grow: 1;}#sk-container-id-1 div.sk-label:hover label.sk-toggleable__label {background-color: #d4ebff;}#sk-container-id-1 div.sk-serial::before {content: \"\";position: absolute;border-left: 1px solid gray;box-sizing: border-box;top: 0;bottom: 0;left: 50%;z-index: 0;}#sk-container-id-1 div.sk-serial {display: flex;flex-direction: column;align-items: center;background-color: white;padding-right: 0.2em;padding-left: 0.2em;position: relative;}#sk-container-id-1 div.sk-item {position: relative;z-index: 1;}#sk-container-id-1 div.sk-parallel {display: flex;align-items: stretch;justify-content: center;background-color: white;position: relative;}#sk-container-id-1 div.sk-item::before, #sk-container-id-1 div.sk-parallel-item::before {content: \"\";position: absolute;border-left: 1px solid gray;box-sizing: border-box;top: 0;bottom: 0;left: 50%;z-index: -1;}#sk-container-id-1 div.sk-parallel-item {display: flex;flex-direction: column;z-index: 1;position: relative;background-color: white;}#sk-container-id-1 div.sk-parallel-item:first-child::after {align-self: flex-end;width: 50%;}#sk-container-id-1 div.sk-parallel-item:last-child::after {align-self: flex-start;width: 50%;}#sk-container-id-1 div.sk-parallel-item:only-child::after {width: 0;}#sk-container-id-1 div.sk-dashed-wrapped {border: 1px dashed gray;margin: 0 0.4em 0.5em 0.4em;box-sizing: border-box;padding-bottom: 0.4em;background-color: white;}#sk-container-id-1 div.sk-label label {font-family: monospace;font-weight: bold;display: inline-block;line-height: 1.2em;}#sk-container-id-1 div.sk-label-container {text-align: center;}#sk-container-id-1 div.sk-container {/* jupyter's `normalize.less` sets `[hidden] { display: none; }` but bootstrap.min.css set `[hidden] { display: none !important; }` so we also need the `!important` here to be able to override the default hidden behavior on the sphinx rendered scikit-learn.org. See: https://github.com/scikit-learn/scikit-learn/issues/21755 */display: inline-block !important;position: relative;}#sk-container-id-1 div.sk-text-repr-fallback {display: none;}</style><div id=\"sk-container-id-1\" class=\"sk-top-container\"><div class=\"sk-text-repr-fallback\"><pre>LogisticRegression()</pre><b>In a Jupyter environment, please rerun this cell to show the HTML representation or trust the notebook. <br />On GitHub, the HTML representation is unable to render, please try loading this page with nbviewer.org.</b></div><div class=\"sk-container\" hidden><div class=\"sk-item\"><div class=\"sk-estimator sk-toggleable\"><input class=\"sk-toggleable__control sk-hidden--visually\" id=\"sk-estimator-id-1\" type=\"checkbox\" checked><label for=\"sk-estimator-id-1\" class=\"sk-toggleable__label sk-toggleable__label-arrow\">LogisticRegression</label><div class=\"sk-toggleable__content\"><pre>LogisticRegression()</pre></div></div></div></div></div>"
      ],
      "text/plain": [
       "LogisticRegression()"
      ]
     },
     "execution_count": 3,
     "metadata": {},
     "output_type": "execute_result"
    }
   ],
   "source": [
    "# Perform logistic regression\n",
    "lr = LogisticRegression()\n",
    "lr.fit(X_train, y_train)"
   ]
  },
  {
   "cell_type": "code",
   "execution_count": 4,
   "id": "1762da4f",
   "metadata": {},
   "outputs": [
    {
     "data": {
      "text/plain": [
       "array([[-1.15085593, -0.3486938 , -2.13656154, -0.20949814, -0.05702076,\n",
       "         0.00414695, -0.01329913,  0.01752251,  0.01356849, -0.41939859]])"
      ]
     },
     "execution_count": 4,
     "metadata": {},
     "output_type": "execute_result"
    }
   ],
   "source": [
    "# Weights (beta_1, ..., beta_n)\n",
    "lr.coef_"
   ]
  },
  {
   "cell_type": "code",
   "execution_count": 5,
   "id": "098a39b9",
   "metadata": {},
   "outputs": [
    {
     "data": {
      "text/plain": [
       "array([0.23356493])"
      ]
     },
     "execution_count": 5,
     "metadata": {},
     "output_type": "execute_result"
    }
   ],
   "source": [
    "# Bias (beta_0)\n",
    "lr.intercept_"
   ]
  },
  {
   "cell_type": "code",
   "execution_count": 6,
   "id": "3d1d13a8",
   "metadata": {},
   "outputs": [
    {
     "data": {
      "text/plain": [
       "array([1., 1., 0., ..., 1., 1., 0.])"
      ]
     },
     "execution_count": 6,
     "metadata": {},
     "output_type": "execute_result"
    }
   ],
   "source": [
    "# Predict using test set\n",
    "y_pred = lr.predict(X_test)\n",
    "y_pred"
   ]
  },
  {
   "cell_type": "code",
   "execution_count": 7,
   "id": "efd1e760",
   "metadata": {},
   "outputs": [
    {
     "data": {
      "text/plain": [
       "array([[0.00901364, 0.99098636],\n",
       "       [0.09197031, 0.90802969],\n",
       "       [0.84573164, 0.15426836],\n",
       "       ...,\n",
       "       [0.06110844, 0.93889156],\n",
       "       [0.01401553, 0.98598447],\n",
       "       [0.90254191, 0.09745809]])"
      ]
     },
     "execution_count": 7,
     "metadata": {},
     "output_type": "execute_result"
    }
   ],
   "source": [
    "# Compute probability P(y=0) and P(y=1) \n",
    "y_prob = lr.predict_proba(X_test) \n",
    "y_prob"
   ]
  }
 ],
 "metadata": {
  "kernelspec": {
   "display_name": "Python 3 (ipykernel)",
   "language": "python",
   "name": "python3"
  },
  "language_info": {
   "codemirror_mode": {
    "name": "ipython",
    "version": 3
   },
   "file_extension": ".py",
   "mimetype": "text/x-python",
   "name": "python",
   "nbconvert_exporter": "python",
   "pygments_lexer": "ipython3",
   "version": "3.11.3"
  }
 },
 "nbformat": 4,
 "nbformat_minor": 5
}