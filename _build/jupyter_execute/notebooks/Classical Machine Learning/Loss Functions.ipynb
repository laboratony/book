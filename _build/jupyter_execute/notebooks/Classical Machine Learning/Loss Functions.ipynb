{
 "cells": [
  {
   "cell_type": "markdown",
   "id": "7e92a916",
   "metadata": {},
   "source": [
    "# Loss Functions"
   ]
  },
  {
   "cell_type": "code",
   "execution_count": 1,
   "id": "411a9270",
   "metadata": {},
   "outputs": [],
   "source": [
    "import pandas as pd\n",
    "import matplotlib.pyplot as plt\n",
    "from sklearn.preprocessing import MinMaxScaler\n",
    "from sklearn.linear_model import LinearRegression, SGDRegressor"
   ]
  },
  {
   "cell_type": "markdown",
   "id": "854e2f0d",
   "metadata": {},
   "source": [
    "## Loss functions\n",
    "\n",
    "เราสามารถเขียนสมการของ OLS regression ได้ดังนี้\n",
    "\n",
    "$$y = h(X, \\beta) + \\text{error}$$\n",
    "\n",
    "- $h(X, \\beta) = \\beta_0 + \\beta_1\\boldsymbol{x}_1 + \\beta_2\\boldsymbol{x}_2 + ...$ เรียกว่า <b>hypothesis function</b> (ฟังก์ชันที่แปลงจาก input เป็น prediction)\n",
    "- $\\hat{y} = h(X, \\beta)$ เป็น prediction\n",
    "\n",
    "`.fit` method ใน `scikit-learn` มีหน้าที่ทำให้ error ต่ำสุด error นี้คือ <b>loss function</b> ($L(\\text{error})$)\n",
    "- Loss function มีหลายแบบ แต่สำหรับ OLS regression เราใช้ $L = ||\\text{error}||^2 = ||y - \\hat{y}||^2$\n",
    "- Loss function ใช้ในการ fit model ซึ่งต่างจาก performance metric ที่ใช้วัด performance ของ model หลังการ fit\n",
    "- Loss function กับ performance metric อาจเหมือนกันในบางครั้ง เช่น MSE\n",
    "- อย่างไรก็ตาม loss function ต้องเป็น smooth function เพื่อที่เราจะสามารถ diff เพื่อหาค่าต่ำสุดได้"
   ]
  },
  {
   "cell_type": "markdown",
   "id": "aca582ce",
   "metadata": {},
   "source": [
    "## Optimisation\n",
    "\n",
    "<b>Optimisation</b> คือการหาชุด trainable parameter ที่ทำให้ loss function ($L$) มีค่าต่ำสุด (global minima) เราเรียกวิธีที่ใช้ทำ optimisation ว่า <b>solver</b>\n",
    "\n",
    "### Gradient descent\n",
    "\n",
    "Gradient descent (steepest descent) เป็น optimisation วิธีหนึ่ง หลักการคือ กำหนด parameter เริ่มต้น แล้วปรับมันไปในทิศทางตรงข้ามกับ gradient ของ loss function เพื่อเข้าใกล้ local minima ของ loss function\n",
    "\n",
    "<img src=\"../images/gradient_descent.png\" width=\"350\" /><br />\n",
    "\n",
    "Gradient descent มีขั้นตอนดังนี้ (พิจารณา trainable parameter ตัวเดียวก่อน ($\\beta_0$) เพื่อความง่าย)\n",
    "- กำหนดค่าเริ่มต้นของ $\\beta_0$\n",
    "- หา gradient ($\\frac{\\partial L}{\\partial\\beta_0}$) ที่จุด $\\beta_0$\n",
    "- ปรับค่า $\\beta_0$ ค่าที่เปลี่ยนไปจะขึ้นกับ gradient และ step size (<b>learning rate</b> ($\\eta$))\n",
    "\n",
    "$$\\beta_0^{(k+1)} = \\beta_0^{(k)} - \\eta\\frac{\\partial L}{\\partial\\beta_0} (\\beta_0^{(k)})$$\n",
    "\n",
    "- รอบของการอัพเดต parameter โดยใช้ training set ครบทั้งชุด 1 ครั้ง เรียกว่า <b>epoch</b>\n",
    "- ทำไปเรื่อย ๆ จนเข้าสู่เกณฑ์ที่จะหยุด (stopping criterion) เช่น gradient เข้าใกล้ 0 มากพอ หรือ จำนวน epoch ครบตามกำหนด\n",
    "\n",
    "เราต้องกำหนด learning rate ($\\eta$) ให้พอดี (เป็น hyperparameter)\n",
    "- ถ้า $\\eta$ น้อยไป ต้องทำ epoch มากขึ้น และอาจติดอยู่ใน local minima เดียว\n",
    "- ถ้า $\\eta$ มากไป อาจวนอยู่รอบ minima นาน หรืออาจลู่ออกจาก minima ก็ได้\n",
    "    \n",
    "<img src=\"../images/gradient_descent_different_steps.png\" width=\"800\" /><br />\n",
    "\n",
    "การทำ feature scaling จะช่วยให้ loss function converge เข้าสู่ local minima เร็วขึ้น\n",
    "\n",
    "ถ้าเรา optimise 2 parameter พร้อมกัน ($\\beta_0$, $\\beta_1$) loss function จะเป็น surface plot เราเรียกมันว่า <b>energy landscape</b>\n",
    "\n",
    "Gradient descent สามารถถูก generalised ให้ optimise ทุก parameter พร้อมกันได้ สำหรับ OLS regression ที่มี trainable parameter ได้แก่ $\\beta_0$ ถึง $\\beta_n$ (เขียนรวมกันได้เป็นเวกเตอร์ $\\boldsymbol{\\beta}$) เราสามารถทำ gradient descent ได้ดังนี้\n",
    "\n",
    "$$\\boldsymbol{\\beta}^{(k+1)} = \\boldsymbol{\\beta}^{(k)} - \\eta\\nabla L(\\boldsymbol{\\beta}^{(k)})$$\n",
    "\n",
    "หาก dataset มีขนาดใหญ่ แล้วเราอัพเดต trainable parameter ทุกตัวโดยใช้ข้อมูลทั้งชุด จะทำให้ computationally expensive (เรียกว่า <b>batch gradient descent</b>) เราสามารถปรับปรุง  gradient descent ได้ดังนี้\n",
    "- Classical <b>Stochastic Gradient Descent (SGD)</b>\n",
    "    - สุ่มเลือกข้อมูลมา 1 จุด คำนวณ gradient โดยใช้ข้อมูลจุดนั้น และใช้ gradient ที่ได้ไปอัพเดต trainable parameter ทุกตัว ทำแบบนี้จนใช้ข้อมูลครบทุกจุด จึงจะครบ 1 epoch\n",
    "    - ใช้ `sklearn.linear_model.SGDRegressor` หรือ `sklearn.linear_model.SGDClassifier`\n",
    "- <b>Mini-batch Gradient Descent</b>\n",
    "    - แบ่ง dataset ออกเป็นหลาย ๆ ชุด (mini-batch) เลือกมา 1 ชุด คำนวณ gradient โดยใช้ข้อมูลชุดนั้น และใช้ gradient ที่ได้ไปอัพเดต trainable parameter ทุกตัว ทำแบบนี้จนใช้ข้อมูลครบทุกชุด จึงจะครบ 1 epoch\n",
    "    \n",
    "ทั้งสองวิธีข้างต้นคำนวณ gradient โดยใช้ข้อมูลบางส่วน ดังนั้นค่าของ loss function จะ fluctuate จาก epoch หนึ่งไปอีก epoch หนึ่ง โดยที่ SGD จะ fluctuate มากกว่า\n",
    "\n",
    "ข้อดีของ SGD เทียบกับ mini-batch gradient descent เช่น\n",
    "- เร็วกว่าเมื่อใช้ dataset ขนาดใหญ่\n",
    "- ไม่ติดอยู่ใน local minima เดิม\n",
    "- ใช้ RAM น้อยกว่า\n",
    "\n",
    "ข้อเสียของ SGD เทียบกับ mini-batch gradient descent เช่น \n",
    "- ต้องเพิ่ม epoch \n",
    "- อาจจะไม่ converge\n",
    "- อาจช้ากว่าเมื่อใช้ dataset ขนาดเล็ก\n",
    "\n",
    "<img src=\"../images/batch_and_stochastic_gd.png\" width=\"600\" /><br />"
   ]
  },
  {
   "cell_type": "code",
   "execution_count": 2,
   "id": "1652c809",
   "metadata": {},
   "outputs": [],
   "source": [
    "# Data pre-processing\n",
    "\n",
    "# Import data and drop duplicates\n",
    "data = pd.read_csv('../data/fish.csv').drop_duplicates()\n",
    "# Use only \"Width\" feature and normalise it\n",
    "X = MinMaxScaler().fit_transform(data[['Width']])\n",
    "# Use \"Height\" as the label\n",
    "y = data['Height']"
   ]
  },
  {
   "cell_type": "code",
   "execution_count": 3,
   "id": "a108122b",
   "metadata": {},
   "outputs": [],
   "source": [
    "# Create models\n",
    "lr = LinearRegression().fit(X, y)  # linear regressor\n",
    "sgd = SGDRegressor(loss='squared_error', eta0=0.5).fit(X, y)  # SGD regressor"
   ]
  },
  {
   "cell_type": "code",
   "execution_count": 4,
   "id": "792fbdcb",
   "metadata": {},
   "outputs": [
    {
     "data": {
      "text/plain": [
       "array([14.36140863])"
      ]
     },
     "execution_count": 4,
     "metadata": {},
     "output_type": "execute_result"
    }
   ],
   "source": [
    "# Weight (beta_1)\n",
    "sgd.coef_"
   ]
  },
  {
   "cell_type": "code",
   "execution_count": 5,
   "id": "1f92755e",
   "metadata": {},
   "outputs": [
    {
     "data": {
      "text/plain": [
       "array([2.23497859])"
      ]
     },
     "execution_count": 5,
     "metadata": {},
     "output_type": "execute_result"
    }
   ],
   "source": [
    "# Bias (beta_0)\n",
    "sgd.intercept_"
   ]
  },
  {
   "cell_type": "code",
   "execution_count": 6,
   "id": "72c5971f",
   "metadata": {},
   "outputs": [
    {
     "name": "stdout",
     "output_type": "stream",
     "text": [
      "Linear regressor: y = 2.177560230008516 + 14.30177197137537x\n",
      "SGD regressor: y = 2.2349785931880284 + 14.361408627949546x\n"
     ]
    }
   ],
   "source": [
    "# Print the equation of each of the models (y_pred = beta0 + beta1.x)\n",
    "print(\"Linear regressor:\", f\"y = {lr.intercept_} + {lr.coef_[0]}x\")\n",
    "print(\"SGD regressor:\", f\"y = {sgd.intercept_[0]} + {sgd.coef_[0]}x\")"
   ]
  },
  {
   "cell_type": "code",
   "execution_count": 7,
   "id": "ee11163c",
   "metadata": {},
   "outputs": [
    {
     "data": {
      "image/png": "[encoded data removed]",
      "text/plain": [
       "<Figure size 1000x500 with 1 Axes>"
      ]
     },
     "metadata": {},
     "output_type": "display_data"
    }
   ],
   "source": [
    "# Plot data and prediction\n",
    "fig, ax = plt.subplots(figsize=(10, 5))\n",
    "ax.scatter(X, y)  # Plot data\n",
    "ax.plot(X, lr.predict(X), c='r', label='LinearRegression()')  # Plot prediction from the linear regressor\n",
    "ax.plot(X, sgd.predict(X), c='g', label='SGDRegressor(loss=\"squared_error\")')  # Plot prediction from the SGD regressor\n",
    "ax.set(xlabel=\"Normalized Fish Width\", ylabel=\"Fish Height\", xlim=(0, 1))\n",
    "ax.legend();"
   ]
  },
  {
   "cell_type": "markdown",
   "id": "8a9bbb14",
   "metadata": {},
   "source": [
    "### Second-order (Hessian) optimisation\n",
    "\n",
    "Gradient descent เป็น first-order optimisation มีวิธี optimisation ที่ converge เร็วกว่า คือ second-order (Hessian) optimisation (เช่น Newton's method, Quasi-Newton's method (e.g., Limited-memory Broyden–Fletcher–Goldfarb–Shanno algorithm (L-BFGS)))"
   ]
  },
  {
   "cell_type": "markdown",
   "id": "0dbf06a9",
   "metadata": {},
   "source": [
    "## Regression loss functions\n",
    "\n",
    "Loss function ที่ใช้ใน regression task เช่น\n",
    "\n",
    "- $L_1$ (MAE) loss\n",
    "    - ข้อเสียคือ ต้องปรับ learning rate ให้น้อยลงเรื่อย ๆ ขณะลู่เข้า\n",
    "\n",
    "$$L_1 = \\text{MAE} = \\frac{1}{n}\\sum_{i=1}^n |y_i - \\hat{y}_i|$$\n",
    "\n",
    "$\\quad\\quad\\quad y_i$ = true label <br />\n",
    "$\\quad\\quad\\quad \\hat{y}_i$ = predicted label <br />\n",
    "$\\quad\\quad\\quad n$ = จำนวนข้อมูล\n",
    "\n",
    "- $L_2$ (MSE) loss\n",
    "    - ข้อเสียคือ Very sensitive to outliers\n",
    "\n",
    "$$L_2 = \\text{MSE} = \\frac{1}{n}\\sum_{i=1}^n (y_i - \\hat{y}_i)^2$$\n",
    "\n",
    "$\\quad\\quad\\quad y_i$ = true label <br />\n",
    "$\\quad\\quad\\quad \\hat{y}_i$ = predicted label <br />\n",
    "$\\quad\\quad\\quad n$ = จำนวนข้อมูล\n",
    "\n",
    "- Huber loss (mixed $L_1$ and $L_2$, smooth absolute, smooth $L_1$)\n",
    "    - ข้อดีคือ\n",
    "        - Adjustable for outliers \n",
    "        - Slope บ่งบอกว่าเราเข้าใกล้ minima แล้วหรือไม่\n",
    "\n",
    "$$L_{\\delta} = \\left\\{\n",
    "    \\begin{array}{lr}\n",
    "        \\frac{1}{n}\\sum_{i=1}^n \\frac{1}{2}(y - \\hat{y})^{2} & : |y - \\hat{y}| \\leq \\delta\\\\\n",
    "        \\frac{1}{n}\\sum_{i=1}^n \\delta\\cdot\\left(|y-\\hat{y}|-\\frac{\\delta}{2}\\right) & :  |y - \\hat{y}| > \\delta\n",
    "    \\end{array}\n",
    "\\right.$$\n",
    "\n",
    "$\\quad\\quad\\quad y_i$ = true label <br />\n",
    "$\\quad\\quad\\quad \\hat{y}_i$ = predicted label <br />\n",
    "$\\quad\\quad\\quad n$ = จำนวนข้อมูล <br />\n",
    "$\\quad\\quad\\quad \\delta$ = จุดที่ loss function เปลี่ยนจาก quadratic เป็น linear (ดูกราฟด้านล่างประกอบ)\n",
    "\n",
    "Loss function เหล่านี้มีลักษณะดังกราฟ\n",
    "\n",
    "<img src=\"../images/regression_loss.png\" width=\"400\" /><br />"
   ]
  },
  {
   "cell_type": "markdown",
   "id": "8afcdad7",
   "metadata": {},
   "source": [
    "## Classification loss functions\n",
    "\n",
    "พิจารณา binary classification ซึ่งมีผลจากการทำนาย (outcome) เป็นได้แค่ 0 กับ 1 หากใช้ MAE หรือ MSE จะได้ error เท่ากับ 1 เราควรใช้ loss function ที่มี penalty เมื่อทำนายผิดมากกว่านี้ ดังนั้น MAE หรือ MSE จึงเป็น loss function ที่ไม่เหมาะกับ classification task\n",
    "\n",
    "Loss function ที่ใช้ใน classification task คือ <b>log loss (cross-entropy loss)</b>\n",
    "\n",
    "$$L_{CE} = \\sum_{i=0}^{N-1} y_i \\log{(\\hat{y}_i)}$$\n",
    "\n",
    "$\\quad y_i$ = true probability ของ sample หนึ่งที่จะอยู่ใน class $i$ (เท่ากับ 0 หรือ 1 สำหรับ binary classification) <br />\n",
    "$\\quad \\hat{y}_i$ = predicted probability ของ sample นั้นที่อยู่ใน class $i$ (คำนวณโดยใช้ sigmoid สำหรับ binary classification) <br />\n",
    "$\\quad N$ = จำนวน class\n",
    "\n",
    "<img src=\"../images/log_loss.png\" width=\"800\" /><br />"
   ]
  },
  {
   "attachments": {},
   "cell_type": "markdown",
   "id": "f50800bd",
   "metadata": {},
   "source": [
    "## Regularisation\n",
    "\n",
    "หาก validation accuracy ต่ำกว่า training accuracy (หรือ validation loss สูงกว่า training loss) แสดงว่าเราได้ overfitting model \n",
    "\n",
    "<img src=\"../images/learning_curve_overfitting.png\" width=\"700\" /><br />\n",
    "\n",
    "วิธีการหนึ่งที่แก้ overfitting ได้ คือ regularisation\n",
    "\n",
    "Regularisation คือการปรับค่า (penalise) parameter ใน model เพราะบาง parameter มีขนาดใหญ่ และ loss ของ model นั้นแปรผันตามขนาดของ parameter\n",
    "\n",
    "$$\\text{Regularized Loss} = \\text{Loss}(X,y, \\beta) + \\text{Penalty}(\\beta)$$\n",
    "\n",
    "Regularisation ทำให้ parameter บางตัวมีขนาดเล็กลงหรือเป็น 0 (ถูกเอาออก) เพื่อ<b style=\"color: #32a852\">ป้องกัน overfitting</b>\n",
    "\n",
    "Regularisation มี 2 วิธีที่นิยม ได้แก่\n",
    "- Lasso (L1) ใช้ `sklearn.linear_model.Lasso`\n",
    "\n",
    "$$\\text{L1} = \\text{Loss}  + \\alpha \\sum_{i=1}^n |\\beta_i|$$\n",
    "\n",
    "- Ridge (L2) ใช้ `sklearn.linear_model.Ridge`\n",
    "\n",
    "$$\\text{L2} = \\text{Loss}  + \\alpha \\sum_{i=1}^n (\\beta_i)^2$$\n",
    "\n",
    "ข้อสังเกต\n",
    "- $\\alpha$ คือ <b>regularisation strength</b>\n",
    "    - เป็น hyperparameter ตัวหนึ่งที่กำหนดว่า model จะถูก penalized มากแค่ไหน (ถ้า $\\alpha$ มีขนาดใหญ่ จะลด complexity และ variance ของ model แต่จะมีความ bias มากขึ้น)\n",
    "    - เราควรเลือกค่าที่ทำให้ validation accuracy กับ training accuracy ใกล้เคียงกัน แต่ accuracy ก็ต้องมากที่สุดเท่าที่จะทำได้ด้วย\n",
    "    \n",
    "<img src=\"../images/regularisation.png\" width=\"350\" /><br />\n",
    "\n",
    "- สังเกตว่าพจน์ sum เริ่มจาก $i=1$ นั่นหมายความว่า intercept ($\\beta_0$) ไม่ถูก penalised\n",
    "\n",
    "<span style=\"color: red\">อย่าลืมทำ feature scaling ก่อนทำ regularisation</span>"
   ]
  }
 ],
 "metadata": {
  "kernelspec": {
   "display_name": "Python 3 (ipykernel)",
   "language": "python",
   "name": "python3"
  },
  "language_info": {
   "codemirror_mode": {
    "name": "ipython",
    "version": 3
   },
   "file_extension": ".py",
   "mimetype": "text/x-python",
   "name": "python",
   "nbconvert_exporter": "python",
   "pygments_lexer": "ipython3",
   "version": "3.11.3"
  }
 },
 "nbformat": 4,
 "nbformat_minor": 5
}