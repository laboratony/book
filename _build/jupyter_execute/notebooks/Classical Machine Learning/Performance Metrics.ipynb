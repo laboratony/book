{
 "cells": [
  {
   "cell_type": "markdown",
   "id": "9523e347",
   "metadata": {},
   "source": [
    "# Performance Metrics"
   ]
  },
  {
   "cell_type": "code",
   "execution_count": 1,
   "id": "1ef9680b",
   "metadata": {},
   "outputs": [],
   "source": [
    "import math\n",
    "import numpy as np\n",
    "import pandas as pd\n",
    "import matplotlib.pyplot as plt\n",
    "from sklearn.model_selection import train_test_split, cross_validate, cross_val_predict\n",
    "from sklearn.preprocessing import StandardScaler\n",
    "from sklearn.linear_model import LinearRegression, LogisticRegression\n",
    "from sklearn.neighbors import KNeighborsClassifier\n",
    "from sklearn.metrics import (\n",
    "    mean_squared_error,\n",
    "    mean_absolute_error,\n",
    "    max_error, r2_score,\n",
    "    accuracy_score,\n",
    "    precision_score,\n",
    "    recall_score,\n",
    "    f1_score,\n",
    "    ConfusionMatrixDisplay,\n",
    "    classification_report,\n",
    "    precision_recall_curve,\n",
    "    PrecisionRecallDisplay,\n",
    "    roc_curve,\n",
    "    roc_auc_score\n",
    ")"
   ]
  },
  {
   "cell_type": "markdown",
   "id": "99865d21",
   "metadata": {},
   "source": [
    "## Regression metrics\n",
    "\n",
    "เราสามารถประเมิน performance ของ regression task ได้ดังนี้\n",
    "\n",
    "### Distance measures\n",
    "\n",
    "วัดระยะห่างระหว่าง $y$ กับ $\\hat{y}$\n",
    "\n",
    "<img src=\"../images/distance_measures.png\" width=\"500\" /><br />\n",
    "\n",
    "### Errors\n",
    "\n",
    "- <b>Mean Squared Error</b> (MSE)\n",
    "    - ใช้ `sklearn.metrics.mean_squared_error` \n",
    "\n",
    "$$\\text{MSE} = {\\frac{1}{n} \\sum_{i=1}^{n} (y_i - \\hat{y}_i)^2}$$\n",
    "    \n",
    "- <b>Root Mean Squared Error</b> (RMSE) \n",
    "\n",
    "$$\\text{RMSE} = \\sqrt{\\frac{1}{n} \\sum_{i=1}^{n} (y_i - \\hat{y}_i)^2}$$\n",
    "    \n",
    "- <b>Mean Absolute Error</b> (MAE)\n",
    "    - ใช้ `sklearn.metrics.mean_absolute_error`\n",
    "    - Less sensitive to outliers\n",
    "\n",
    "$$\\text{MAE} = \\frac{1}{n} \\sum_{i=1}^{n} |y_i - \\hat{y}_i|$$\n",
    "        \n",
    "- <b>Max Error</b> (ME)\n",
    "    - ใช้ `sklearn.metrics.max_error` \n",
    "\n",
    "$$\\text{ME} = \\max_{i=1}^{n} |y_i - \\hat{y}_i|$$\n",
    "    \n",
    "- <b>Coefficient of determination</b> ($R^2$)\n",
    "    - ใช้ `sklearn.metrics.r2_score`\n",
    "    - มีค่าระหว่าง 1 ถึง $-\\infty$ (ไม่มีหน่วย)\n",
    "\n",
    "$$R^2 = 1 - \\frac{\\sum_{i=1}^{n}(y_i - \\hat{y}_i)^2}{\\sum_{i=1}^{n}(y_i - \\overline{y})^2}$$\n",
    "\n",
    "How to choose the right regression error?\n",
    "- Use $\\text{MSE}$ when you need to penalize large errors / sign of error not important\n",
    "- Use $\\text{RMSE}$ when you want to penalize large errors, but see it in the unit of the target.\n",
    "- Use $\\text{MAE}$ when all errors, large or small, have equal importance.\n",
    "- Use $\\text{ME}$ when you want to limit the magnitude of the errors.\n",
    "- Use $R^{2}$ when you want a general/comparable performance metric / units not required."
   ]
  },
  {
   "cell_type": "code",
   "execution_count": 2,
   "id": "90028075",
   "metadata": {},
   "outputs": [],
   "source": [
    "# Perform data pre-processing\n",
    "\n",
    "# Import data and drop duplicate\n",
    "data = pd.read_csv('../data/fish.csv').drop_duplicates()\n",
    "# Prepare X and y\n",
    "X = data[['Length1', 'Length2', 'Length3', 'Height', 'Width']]\n",
    "y = data['Weight']\n",
    "# Train-test split\n",
    "X_train, X_test, y_train, y_test = train_test_split(X, y, train_size=.7, random_state=42)\n",
    "# Scale features\n",
    "scaler = StandardScaler().fit(X_train)\n",
    "X_train = pd.DataFrame(scaler.transform(X_train), columns=X_train.columns)\n",
    "X_test = pd.DataFrame(scaler.transform(X_test), columns=X_test.columns)\n",
    "\n",
    "# Predict by linear regression\n",
    "model = LinearRegression().fit(X_train, y_train)\n",
    "y_pred = model.predict(X_test)"
   ]
  },
  {
   "cell_type": "code",
   "execution_count": 3,
   "id": "0318b3b9",
   "metadata": {},
   "outputs": [
    {
     "name": "stdout",
     "output_type": "stream",
     "text": [
      "MSE = 16217.63\n",
      "RMSE = 127.35\n",
      "MAE = 95.58\n",
      "Max Error = 282.65\n",
      "R2 = 0.87\n"
     ]
    }
   ],
   "source": [
    "# Compute regression error\n",
    "mse = mean_squared_error(y_test, y_pred)\n",
    "rmse = math.sqrt(mse)\n",
    "mae = mean_absolute_error(y_test, y_pred)\n",
    "rsquared = r2_score(y_test, y_pred)\n",
    "max_error = max_error(y_test, y_pred)\n",
    "print('MSE =', round(mse, 2))\n",
    "print('RMSE =', round(rmse, 2))\n",
    "print('MAE =', round(mae, 2))\n",
    "print('Max Error =', round(max_error, 2))\n",
    "print('R2 =', round(rsquared, 2))"
   ]
  },
  {
   "cell_type": "markdown",
   "id": "526fcb5f",
   "metadata": {},
   "source": [
    "ขนาดของ error จะขึ้นกับหน่วยด้วย ไม่มี standardised value (ยกเว้น $R^2$)"
   ]
  },
  {
   "cell_type": "markdown",
   "id": "0ce363b2",
   "metadata": {},
   "source": [
    "metric ใช้ใน cross validation ได้ โดยกำหนดใน `scoring`"
   ]
  },
  {
   "cell_type": "code",
   "execution_count": 4,
   "id": "28261757",
   "metadata": {},
   "outputs": [
    {
     "data": {
      "text/html": [
       "<div>\n",
       "<style scoped>\n",
       "    .dataframe tbody tr th:only-of-type {\n",
       "        vertical-align: middle;\n",
       "    }\n",
       "\n",
       "    .dataframe tbody tr th {\n",
       "        vertical-align: top;\n",
       "    }\n",
       "\n",
       "    .dataframe thead th {\n",
       "        text-align: right;\n",
       "    }\n",
       "</style>\n",
       "<table border=\"1\" class=\"dataframe\">\n",
       "  <thead>\n",
       "    <tr style=\"text-align: right;\">\n",
       "      <th></th>\n",
       "      <th>fit_time</th>\n",
       "      <th>score_time</th>\n",
       "      <th>test_max_error</th>\n",
       "      <th>test_r2</th>\n",
       "      <th>test_neg_mean_absolute_error</th>\n",
       "      <th>test_neg_mean_squared_error</th>\n",
       "    </tr>\n",
       "  </thead>\n",
       "  <tbody>\n",
       "    <tr>\n",
       "      <th>0</th>\n",
       "      <td>0.003011</td>\n",
       "      <td>0.003000</td>\n",
       "      <td>-336.080723</td>\n",
       "      <td>0.840449</td>\n",
       "      <td>-89.720506</td>\n",
       "      <td>-15567.300902</td>\n",
       "    </tr>\n",
       "    <tr>\n",
       "      <th>1</th>\n",
       "      <td>0.002002</td>\n",
       "      <td>0.002998</td>\n",
       "      <td>-423.829702</td>\n",
       "      <td>0.879118</td>\n",
       "      <td>-115.563939</td>\n",
       "      <td>-23011.831620</td>\n",
       "    </tr>\n",
       "    <tr>\n",
       "      <th>2</th>\n",
       "      <td>0.002002</td>\n",
       "      <td>0.003000</td>\n",
       "      <td>-396.512088</td>\n",
       "      <td>0.919412</td>\n",
       "      <td>-74.969312</td>\n",
       "      <td>-11763.339562</td>\n",
       "    </tr>\n",
       "    <tr>\n",
       "      <th>3</th>\n",
       "      <td>0.003000</td>\n",
       "      <td>0.002011</td>\n",
       "      <td>-316.379705</td>\n",
       "      <td>0.852831</td>\n",
       "      <td>-104.515769</td>\n",
       "      <td>-18943.822954</td>\n",
       "    </tr>\n",
       "    <tr>\n",
       "      <th>4</th>\n",
       "      <td>0.001484</td>\n",
       "      <td>0.003012</td>\n",
       "      <td>-234.342973</td>\n",
       "      <td>0.809597</td>\n",
       "      <td>-102.697382</td>\n",
       "      <td>-13985.709798</td>\n",
       "    </tr>\n",
       "  </tbody>\n",
       "</table>\n",
       "</div>"
      ],
      "text/plain": [
       "   fit_time  score_time  test_max_error   test_r2  \\\n",
       "0  0.003011    0.003000     -336.080723  0.840449   \n",
       "1  0.002002    0.002998     -423.829702  0.879118   \n",
       "2  0.002002    0.003000     -396.512088  0.919412   \n",
       "3  0.003000    0.002011     -316.379705  0.852831   \n",
       "4  0.001484    0.003012     -234.342973  0.809597   \n",
       "\n",
       "   test_neg_mean_absolute_error  test_neg_mean_squared_error  \n",
       "0                    -89.720506                -15567.300902  \n",
       "1                   -115.563939                -23011.831620  \n",
       "2                    -74.969312                -11763.339562  \n",
       "3                   -104.515769                -18943.822954  \n",
       "4                   -102.697382                -13985.709798  "
      ]
     },
     "execution_count": 4,
     "metadata": {},
     "output_type": "execute_result"
    }
   ],
   "source": [
    "# 5-Fold cross validation\n",
    "metrics = ['max_error', 'r2', 'neg_mean_absolute_error', 'neg_mean_squared_error']\n",
    "cv_results = cross_validate(LinearRegression(), X_train, y_train, cv=5, scoring=metrics)\n",
    "pd.DataFrame(cv_results)"
   ]
  },
  {
   "cell_type": "markdown",
   "id": "907274b3",
   "metadata": {},
   "source": [
    "## Classification metrics\n",
    "\n",
    "เราใช้ confusion matrix ในการประเมิน performance ของ classification task\n",
    "\n",
    "<b>Confusion matrix</b> เป็นผลการทำนายของ classification task มีสมาชิกที่เป็นจำนวนหรือสัดส่วนการทำนายที่ถูกต้อง (อยู่ใน diagonal) และที่ไม่ถูกต้อง สร้างได้โดยใช้ `sklearn.metrics.ConfusionMatrixDisplay`\n",
    "\n",
    "สำหรับ binary classification (การจำแนกระหว่าง negative (Class 0) กับ positive (Class 1)) จะมี confusion matrix ลักษณะดังนี้\n",
    "- TN = True negative = ข้อมูลที่ถูกทำนายได้ถูกต้องว่าเป็น negative \n",
    "- FN = False negative = ข้อมูลที่ถูกทำนายผิดจาก positive เป็น negative (Type I error) \n",
    "- TP = True positive = ข้อมูลที่ถูกทำนายได้ถูกต้องว่าเป็น positive \n",
    "- FP = False positive = ข้อมูลที่ถูกทำนายผิดจาก negative เป็น positive (Type II error)\n",
    "\n",
    "<img src=\"../images/binary_confusion_matrix.png\" width=\"400\" /><br />\n",
    "\n",
    "Metric ที่หาได้จาก confusion matrix เช่น\n",
    "\n",
    "- <b>Accuracy</b> \n",
    "    - ใช้ `sklearn.metrics.accuracy_score`\n",
    "    - บอกสัดส่วนการทำนายที่ถูกต้องของ model\n",
    "    - ใช้เมื่อทุก class สำคัญ และข้อมูลที่อยู่ในแต่ละ class มีความ balanced (ปริมาณใกล้เคียงกัน) \n",
    "    - หากข้อมูลไม่ balanced จะได้ค่า accuracy ที่ดีเกินจริง\n",
    "\n",
    "$$\\text{accuracy} = \\frac{\\text{TP} + \\text{TN}}{\\text{TP} + \\text{TN} + \\text{FP} + \\text{FN}}$$\n",
    "\n",
    "- <b>Recall</b> = True positive rate = Sensitivity\n",
    "    - ใช้ `sklearn.metrics.recall_score`\n",
    "    - บอกสัดส่วนของ positive ที่ model เจอ\n",
    "    - ใช้เมื่อเราต้องการให้ model ตรวจเจอข้อมูลใน class ๆ หนึ่งให้มากที่สุด\n",
    "\n",
    "$$\\text{recall} = \\frac{\\text{TP}}{\\text{TP} + \\text{FN}}$$\n",
    "\n",
    "- <b>Precision</b> \n",
    "    - ใช้ `sklearn.metrics.precision_score`\n",
    "    - บอกความสามารถของ model ในการระบุ positive อย่างถูกต้อง\n",
    "    - ใช้เมื่อเราให้ความสำคัญกับการระบุ positive\n",
    "\n",
    "$$\\text{precision} = \\frac{\\text{TP}}{\\text{TP} + \\text{FP}}$$\n",
    "\n",
    "- <b>$F_1$-score</b>\n",
    "    - ใช้ `sklearn.metrics.f1_score`\n",
    "    - บ่งบอกความสามารถของ model ในการตรวจเจอ positive โดยทำให้ FP น้อยที่สุด\n",
    "    - ใช้เป็น metric เทียบกับ model อื่นหรือใช้ dataset อื่น\n",
    "\n",
    "$$F_1 = 2 \\times \\frac{\\text{precision}\\times\\text{recall}}{\\text{precision}+\\text{recall}}$$\n",
    "\n",
    "- <b>Specificity</b>\n",
    "    - มีค่าเท่ากับ recall\n",
    "\n",
    "$$\\text{specificity} = \\frac{\\text{TN}}{\\text{TN} + \\text{FP}}$$\n",
    "\n",
    "- <b>False positive rate</b>\n",
    "    - มีค่าเท่ากับ 1-Specificity\n",
    "\n",
    "$$\\text{false positive rate} = \\frac{\\text{FP}}{\\text{TN} + \\text{FP}}$$"
   ]
  },
  {
   "cell_type": "code",
   "execution_count": 5,
   "id": "1bf87340",
   "metadata": {},
   "outputs": [],
   "source": [
    "# Perform data pre-processing\n",
    "\n",
    "# Import data and drop duplicate\n",
    "data = pd.read_csv('../data/wines_binary.csv').drop_duplicates()\n",
    "# Prepare X and y\n",
    "X, y = data.drop(columns=['is_good_quality']), data['is_good_quality']\n",
    "# Train-test split\n",
    "X_train, X_test, y_train, y_test = train_test_split(X, y, train_size=.7, random_state=42)\n",
    "# Scale features\n",
    "scaler = StandardScaler().fit(X_train)\n",
    "X_train = pd.DataFrame(scaler.transform(X_train), columns=X_train.columns)\n",
    "X_test = pd.DataFrame(scaler.transform(X_test), columns=X_test.columns)"
   ]
  },
  {
   "cell_type": "code",
   "execution_count": 6,
   "id": "62539d7f",
   "metadata": {},
   "outputs": [],
   "source": [
    "# Predict by logistic regression\n",
    "lr = LogisticRegression().fit(X_train, y_train)\n",
    "y_pred_lr = lr.predict(X_test)\n",
    "y_prob_lr = lr.predict_proba(X_test)"
   ]
  },
  {
   "cell_type": "code",
   "execution_count": 7,
   "id": "a706d280",
   "metadata": {},
   "outputs": [
    {
     "name": "stdout",
     "output_type": "stream",
     "text": [
      "Accuracy = 0.86\n",
      "Precision = 0.88\n",
      "Recall = 0.84\n",
      "F1 score = 0.86\n"
     ]
    }
   ],
   "source": [
    "# Compute classification metrics\n",
    "print('Accuracy =', round(accuracy_score(y_test, y_pred_lr), 2))\n",
    "print('Precision =', round(precision_score(y_test, y_pred_lr), 2))\n",
    "print('Recall =', round(recall_score(y_test, y_pred_lr), 2))\n",
    "print('F1 score =', round(f1_score(y_test, y_pred_lr), 2))"
   ]
  },
  {
   "cell_type": "code",
   "execution_count": 8,
   "id": "6186351f",
   "metadata": {},
   "outputs": [
    {
     "data": {
      "text/html": [
       "<div>\n",
       "<style scoped>\n",
       "    .dataframe tbody tr th:only-of-type {\n",
       "        vertical-align: middle;\n",
       "    }\n",
       "\n",
       "    .dataframe tbody tr th {\n",
       "        vertical-align: top;\n",
       "    }\n",
       "\n",
       "    .dataframe thead th {\n",
       "        text-align: right;\n",
       "    }\n",
       "</style>\n",
       "<table border=\"1\" class=\"dataframe\">\n",
       "  <thead>\n",
       "    <tr style=\"text-align: right;\">\n",
       "      <th></th>\n",
       "      <th>fit_time</th>\n",
       "      <th>score_time</th>\n",
       "      <th>test_accuracy</th>\n",
       "      <th>test_precision</th>\n",
       "      <th>test_recall</th>\n",
       "      <th>test_f1</th>\n",
       "    </tr>\n",
       "  </thead>\n",
       "  <tbody>\n",
       "    <tr>\n",
       "      <th>0</th>\n",
       "      <td>0.107733</td>\n",
       "      <td>0.029072</td>\n",
       "      <td>0.857571</td>\n",
       "      <td>0.868949</td>\n",
       "      <td>0.841864</td>\n",
       "      <td>0.855192</td>\n",
       "    </tr>\n",
       "    <tr>\n",
       "      <th>1</th>\n",
       "      <td>0.094324</td>\n",
       "      <td>0.028136</td>\n",
       "      <td>0.861929</td>\n",
       "      <td>0.875724</td>\n",
       "      <td>0.843294</td>\n",
       "      <td>0.859203</td>\n",
       "    </tr>\n",
       "    <tr>\n",
       "      <th>2</th>\n",
       "      <td>0.099524</td>\n",
       "      <td>0.029431</td>\n",
       "      <td>0.861714</td>\n",
       "      <td>0.874667</td>\n",
       "      <td>0.844152</td>\n",
       "      <td>0.859139</td>\n",
       "    </tr>\n",
       "    <tr>\n",
       "      <th>3</th>\n",
       "      <td>0.101598</td>\n",
       "      <td>0.030288</td>\n",
       "      <td>0.861429</td>\n",
       "      <td>0.871489</td>\n",
       "      <td>0.847562</td>\n",
       "      <td>0.859359</td>\n",
       "    </tr>\n",
       "    <tr>\n",
       "      <th>4</th>\n",
       "      <td>0.106469</td>\n",
       "      <td>0.028872</td>\n",
       "      <td>0.859643</td>\n",
       "      <td>0.873108</td>\n",
       "      <td>0.841270</td>\n",
       "      <td>0.856893</td>\n",
       "    </tr>\n",
       "  </tbody>\n",
       "</table>\n",
       "</div>"
      ],
      "text/plain": [
       "   fit_time  score_time  test_accuracy  test_precision  test_recall   test_f1\n",
       "0  0.107733    0.029072       0.857571        0.868949     0.841864  0.855192\n",
       "1  0.094324    0.028136       0.861929        0.875724     0.843294  0.859203\n",
       "2  0.099524    0.029431       0.861714        0.874667     0.844152  0.859139\n",
       "3  0.101598    0.030288       0.861429        0.871489     0.847562  0.859359\n",
       "4  0.106469    0.028872       0.859643        0.873108     0.841270  0.856893"
      ]
     },
     "execution_count": 8,
     "metadata": {},
     "output_type": "execute_result"
    }
   ],
   "source": [
    "# 5-Fold cross validation\n",
    "metrics = ['accuracy', 'precision', 'recall', 'f1']\n",
    "cv_results = cross_validate(LogisticRegression(), X_train, y_train, cv=5, scoring=metrics)\n",
    "pd.DataFrame(cv_results)"
   ]
  },
  {
   "cell_type": "code",
   "execution_count": 9,
   "id": "19c1a62b",
   "metadata": {},
   "outputs": [
    {
     "data": {
      "image/png": "[encoded data removed]",
      "text/plain": [
       "<Figure size 640x480 with 2 Axes>"
      ]
     },
     "metadata": {},
     "output_type": "display_data"
    }
   ],
   "source": [
    "# Plot confusion matrix\n",
    "ConfusionMatrixDisplay.from_estimator(lr, X_test, y_test, normalize=\"all\");"
   ]
  },
  {
   "cell_type": "code",
   "execution_count": 10,
   "id": "9fb3c0a2",
   "metadata": {},
   "outputs": [],
   "source": [
    "# Predict by KNN\n",
    "knn = KNeighborsClassifier().fit(X_train, y_train)\n",
    "y_pred_knn = knn.predict(X_test)\n",
    "y_prob_knn = knn.predict_proba(X_test)"
   ]
  },
  {
   "cell_type": "code",
   "execution_count": 11,
   "id": "b295d675",
   "metadata": {},
   "outputs": [
    {
     "name": "stdout",
     "output_type": "stream",
     "text": [
      "Accuracy = 0.91\n",
      "Precision = 0.92\n",
      "Recall = 0.91\n",
      "F1 score = 0.91\n"
     ]
    }
   ],
   "source": [
    "# Compute classification metrics\n",
    "print('Accuracy =', round(accuracy_score(y_test, y_pred_knn), 2))\n",
    "print('Precision =', round(precision_score(y_test, y_pred_knn), 2))\n",
    "print('Recall =', round(recall_score(y_test, y_pred_knn), 2))\n",
    "print('F1 score =', round(f1_score(y_test, y_pred_knn), 2))"
   ]
  },
  {
   "cell_type": "code",
   "execution_count": 12,
   "id": "f9c2479c",
   "metadata": {},
   "outputs": [
    {
     "data": {
      "image/png": "[encoded data removed]",
      "text/plain": [
       "<Figure size 640x480 with 2 Axes>"
      ]
     },
     "metadata": {},
     "output_type": "display_data"
    }
   ],
   "source": [
    "# Plot confusion matrix\n",
    "ConfusionMatrixDisplay.from_estimator(knn, X_test, y_test, normalize=\"all\");"
   ]
  },
  {
   "cell_type": "code",
   "execution_count": 13,
   "id": "2da2e6b3",
   "metadata": {},
   "outputs": [
    {
     "data": {
      "text/html": [
       "<div>\n",
       "<style scoped>\n",
       "    .dataframe tbody tr th:only-of-type {\n",
       "        vertical-align: middle;\n",
       "    }\n",
       "\n",
       "    .dataframe tbody tr th {\n",
       "        vertical-align: top;\n",
       "    }\n",
       "\n",
       "    .dataframe thead th {\n",
       "        text-align: right;\n",
       "    }\n",
       "</style>\n",
       "<table border=\"1\" class=\"dataframe\">\n",
       "  <thead>\n",
       "    <tr style=\"text-align: right;\">\n",
       "      <th></th>\n",
       "      <th>0.0</th>\n",
       "      <th>1.0</th>\n",
       "      <th>accuracy</th>\n",
       "      <th>macro avg</th>\n",
       "      <th>weighted avg</th>\n",
       "    </tr>\n",
       "  </thead>\n",
       "  <tbody>\n",
       "    <tr>\n",
       "      <th>precision</th>\n",
       "      <td>0.909194</td>\n",
       "      <td>0.914185</td>\n",
       "      <td>0.911671</td>\n",
       "      <td>0.911689</td>\n",
       "      <td>0.911687</td>\n",
       "    </tr>\n",
       "    <tr>\n",
       "      <th>recall</th>\n",
       "      <td>0.914878</td>\n",
       "      <td>0.908459</td>\n",
       "      <td>0.911671</td>\n",
       "      <td>0.911668</td>\n",
       "      <td>0.911671</td>\n",
       "    </tr>\n",
       "    <tr>\n",
       "      <th>f1-score</th>\n",
       "      <td>0.912027</td>\n",
       "      <td>0.911313</td>\n",
       "      <td>0.911671</td>\n",
       "      <td>0.911670</td>\n",
       "      <td>0.911670</td>\n",
       "    </tr>\n",
       "    <tr>\n",
       "      <th>support</th>\n",
       "      <td>35032.000000</td>\n",
       "      <td>34968.000000</td>\n",
       "      <td>0.911671</td>\n",
       "      <td>70000.000000</td>\n",
       "      <td>70000.000000</td>\n",
       "    </tr>\n",
       "  </tbody>\n",
       "</table>\n",
       "</div>"
      ],
      "text/plain": [
       "                    0.0           1.0  accuracy     macro avg  weighted avg\n",
       "precision      0.909194      0.914185  0.911671      0.911689      0.911687\n",
       "recall         0.914878      0.908459  0.911671      0.911668      0.911671\n",
       "f1-score       0.912027      0.911313  0.911671      0.911670      0.911670\n",
       "support    35032.000000  34968.000000  0.911671  70000.000000  70000.000000"
      ]
     },
     "execution_count": 13,
     "metadata": {},
     "output_type": "execute_result"
    }
   ],
   "source": [
    "# Cross-validation and classification report\n",
    "results = cross_val_predict(knn, X_train, y_train)\n",
    "pd.DataFrame(classification_report(y_train, results, output_dict=True))"
   ]
  },
  {
   "cell_type": "markdown",
   "id": "3ef7d103",
   "metadata": {},
   "source": [
    "## Precision-recall curve\n",
    "\n",
    "สำหรับ binary classification task \n",
    "- Precision กับ recall มีความสัมพันธ์แบบ inverse relationship\n",
    "- เราใช้ precision-recall curve เพื่อเปรียบเทียบ precision กับ recall ที่ threshold ต่าง ๆ\n",
    "- เราสามารถสร้าง precision-recall curve โดยใช้ `sklearn.metrics.precision_recall_curve` และ `sklearn.metrics.PrecisionRecallDisplay`\n",
    "\n",
    "classification task ที่เราทำมาด้านบน มี precision-recall curve เป็นดังภาพ (model มี threshold = 0.5 (by default))\n",
    "\n",
    "<img src=\"../images/precision_recall_curve_thr_0.5.png\" width=\"500\" /><br />\n",
    "\n",
    "หากต้องการพัฒนา model ให้มี precision/recall เพิ่มขึ้น เราสามารถปรับ threshold ได้ เช่น ถ้าเราต้องการให้ model มี precision มากกว่า 90% เราต้องปรับ threshold ให้มากกว่า 0.57 ดังภาพ\n",
    "\n",
    "<img src=\"../images/precision_recall_curve_thr_0.57.png\" width=\"500\" /><br />"
   ]
  },
  {
   "cell_type": "code",
   "execution_count": 14,
   "id": "5deeac17",
   "metadata": {},
   "outputs": [
    {
     "data": {
      "image/png": "[encoded data removed]",
      "text/plain": [
       "<Figure size 1100x500 with 2 Axes>"
      ]
     },
     "metadata": {},
     "output_type": "display_data"
    }
   ],
   "source": [
    "# Plot precision-recall curve for the \"lr\" and \"knn\" models\n",
    "fig, axs = plt.subplots(1, 2, figsize=(11, 5))\n",
    "PrecisionRecallDisplay.from_estimator(lr, X_train, y_train, ax=axs[0], color='r')\n",
    "PrecisionRecallDisplay.from_estimator(knn, X_train, y_train, ax=axs[1], color='g');"
   ]
  },
  {
   "cell_type": "code",
   "execution_count": 15,
   "id": "bd5943a9",
   "metadata": {},
   "outputs": [
    {
     "data": {
      "text/html": [
       "<div>\n",
       "<style scoped>\n",
       "    .dataframe tbody tr th:only-of-type {\n",
       "        vertical-align: middle;\n",
       "    }\n",
       "\n",
       "    .dataframe tbody tr th {\n",
       "        vertical-align: top;\n",
       "    }\n",
       "\n",
       "    .dataframe thead th {\n",
       "        text-align: right;\n",
       "    }\n",
       "</style>\n",
       "<table border=\"1\" class=\"dataframe\">\n",
       "  <thead>\n",
       "    <tr style=\"text-align: right;\">\n",
       "      <th></th>\n",
       "      <th>Precision</th>\n",
       "      <th>Recall</th>\n",
       "      <th>Threshold</th>\n",
       "    </tr>\n",
       "  </thead>\n",
       "  <tbody>\n",
       "    <tr>\n",
       "      <th>0</th>\n",
       "      <td>0.500733</td>\n",
       "      <td>1.000000</td>\n",
       "      <td>0.000042</td>\n",
       "    </tr>\n",
       "    <tr>\n",
       "      <th>1</th>\n",
       "      <td>0.500750</td>\n",
       "      <td>1.000000</td>\n",
       "      <td>0.000064</td>\n",
       "    </tr>\n",
       "    <tr>\n",
       "      <th>2</th>\n",
       "      <td>0.500767</td>\n",
       "      <td>1.000000</td>\n",
       "      <td>0.000091</td>\n",
       "    </tr>\n",
       "    <tr>\n",
       "      <th>3</th>\n",
       "      <td>0.500783</td>\n",
       "      <td>1.000000</td>\n",
       "      <td>0.000103</td>\n",
       "    </tr>\n",
       "    <tr>\n",
       "      <th>4</th>\n",
       "      <td>0.500800</td>\n",
       "      <td>1.000000</td>\n",
       "      <td>0.000118</td>\n",
       "    </tr>\n",
       "    <tr>\n",
       "      <th>...</th>\n",
       "      <td>...</td>\n",
       "      <td>...</td>\n",
       "      <td>...</td>\n",
       "    </tr>\n",
       "    <tr>\n",
       "      <th>29961</th>\n",
       "      <td>1.000000</td>\n",
       "      <td>0.002596</td>\n",
       "      <td>0.999967</td>\n",
       "    </tr>\n",
       "    <tr>\n",
       "      <th>29962</th>\n",
       "      <td>1.000000</td>\n",
       "      <td>0.002530</td>\n",
       "      <td>0.999968</td>\n",
       "    </tr>\n",
       "    <tr>\n",
       "      <th>29963</th>\n",
       "      <td>1.000000</td>\n",
       "      <td>0.002463</td>\n",
       "      <td>0.999968</td>\n",
       "    </tr>\n",
       "    <tr>\n",
       "      <th>29949</th>\n",
       "      <td>1.000000</td>\n",
       "      <td>0.003395</td>\n",
       "      <td>0.999959</td>\n",
       "    </tr>\n",
       "    <tr>\n",
       "      <th>29999</th>\n",
       "      <td>1.000000</td>\n",
       "      <td>0.000067</td>\n",
       "      <td>0.999997</td>\n",
       "    </tr>\n",
       "  </tbody>\n",
       "</table>\n",
       "<p>30000 rows × 3 columns</p>\n",
       "</div>"
      ],
      "text/plain": [
       "       Precision    Recall  Threshold\n",
       "0       0.500733  1.000000   0.000042\n",
       "1       0.500750  1.000000   0.000064\n",
       "2       0.500767  1.000000   0.000091\n",
       "3       0.500783  1.000000   0.000103\n",
       "4       0.500800  1.000000   0.000118\n",
       "...          ...       ...        ...\n",
       "29961   1.000000  0.002596   0.999967\n",
       "29962   1.000000  0.002530   0.999968\n",
       "29963   1.000000  0.002463   0.999968\n",
       "29949   1.000000  0.003395   0.999959\n",
       "29999   1.000000  0.000067   0.999997\n",
       "\n",
       "[30000 rows x 3 columns]"
      ]
     },
     "execution_count": 15,
     "metadata": {},
     "output_type": "execute_result"
    }
   ],
   "source": [
    "# Show threshold corresponding to each (recall, precision) coordinate for the \"lr\" model\n",
    "precisions_lr, recalls_lr, thresholds_lr = precision_recall_curve(y_test, y_prob_lr[:, 1])\n",
    "prc_df_lr = pd.DataFrame({\n",
    "    \"Precision\": precisions_lr[:-1],\n",
    "    \"Recall\": recalls_lr[:-1],\n",
    "    \"Threshold\": thresholds_lr,\n",
    "}).sort_values('Precision')\n",
    "prc_df_lr"
   ]
  },
  {
   "cell_type": "code",
   "execution_count": 16,
   "id": "fc91ac6e",
   "metadata": {},
   "outputs": [
    {
     "data": {
      "text/html": [
       "<div>\n",
       "<style scoped>\n",
       "    .dataframe tbody tr th:only-of-type {\n",
       "        vertical-align: middle;\n",
       "    }\n",
       "\n",
       "    .dataframe tbody tr th {\n",
       "        vertical-align: top;\n",
       "    }\n",
       "\n",
       "    .dataframe thead th {\n",
       "        text-align: right;\n",
       "    }\n",
       "</style>\n",
       "<table border=\"1\" class=\"dataframe\">\n",
       "  <thead>\n",
       "    <tr style=\"text-align: right;\">\n",
       "      <th></th>\n",
       "      <th>Precision</th>\n",
       "      <th>Recall</th>\n",
       "      <th>Threshold</th>\n",
       "    </tr>\n",
       "  </thead>\n",
       "  <tbody>\n",
       "    <tr>\n",
       "      <th>16450</th>\n",
       "      <td>0.900000</td>\n",
       "      <td>0.811809</td>\n",
       "      <td>0.570544</td>\n",
       "    </tr>\n",
       "    <tr>\n",
       "      <th>16449</th>\n",
       "      <td>0.900007</td>\n",
       "      <td>0.811876</td>\n",
       "      <td>0.570502</td>\n",
       "    </tr>\n",
       "    <tr>\n",
       "      <th>16448</th>\n",
       "      <td>0.900015</td>\n",
       "      <td>0.811942</td>\n",
       "      <td>0.570414</td>\n",
       "    </tr>\n",
       "    <tr>\n",
       "      <th>16455</th>\n",
       "      <td>0.900037</td>\n",
       "      <td>0.811543</td>\n",
       "      <td>0.571219</td>\n",
       "    </tr>\n",
       "    <tr>\n",
       "      <th>16454</th>\n",
       "      <td>0.900044</td>\n",
       "      <td>0.811610</td>\n",
       "      <td>0.570866</td>\n",
       "    </tr>\n",
       "    <tr>\n",
       "      <th>...</th>\n",
       "      <td>...</td>\n",
       "      <td>...</td>\n",
       "      <td>...</td>\n",
       "    </tr>\n",
       "    <tr>\n",
       "      <th>29961</th>\n",
       "      <td>1.000000</td>\n",
       "      <td>0.002596</td>\n",
       "      <td>0.999967</td>\n",
       "    </tr>\n",
       "    <tr>\n",
       "      <th>29962</th>\n",
       "      <td>1.000000</td>\n",
       "      <td>0.002530</td>\n",
       "      <td>0.999968</td>\n",
       "    </tr>\n",
       "    <tr>\n",
       "      <th>29963</th>\n",
       "      <td>1.000000</td>\n",
       "      <td>0.002463</td>\n",
       "      <td>0.999968</td>\n",
       "    </tr>\n",
       "    <tr>\n",
       "      <th>29949</th>\n",
       "      <td>1.000000</td>\n",
       "      <td>0.003395</td>\n",
       "      <td>0.999959</td>\n",
       "    </tr>\n",
       "    <tr>\n",
       "      <th>29999</th>\n",
       "      <td>1.000000</td>\n",
       "      <td>0.000067</td>\n",
       "      <td>0.999997</td>\n",
       "    </tr>\n",
       "  </tbody>\n",
       "</table>\n",
       "<p>13550 rows × 3 columns</p>\n",
       "</div>"
      ],
      "text/plain": [
       "       Precision    Recall  Threshold\n",
       "16450   0.900000  0.811809   0.570544\n",
       "16449   0.900007  0.811876   0.570502\n",
       "16448   0.900015  0.811942   0.570414\n",
       "16455   0.900037  0.811543   0.571219\n",
       "16454   0.900044  0.811610   0.570866\n",
       "...          ...       ...        ...\n",
       "29961   1.000000  0.002596   0.999967\n",
       "29962   1.000000  0.002530   0.999968\n",
       "29963   1.000000  0.002463   0.999968\n",
       "29949   1.000000  0.003395   0.999959\n",
       "29999   1.000000  0.000067   0.999997\n",
       "\n",
       "[13550 rows x 3 columns]"
      ]
     },
     "execution_count": 16,
     "metadata": {},
     "output_type": "execute_result"
    }
   ],
   "source": [
    "# Show the dataframe where precision > 90%\n",
    "prc_df_lr[prc_df_lr['Precision'] >= 0.9]"
   ]
  },
  {
   "cell_type": "code",
   "execution_count": 17,
   "id": "3cc2cc8d",
   "metadata": {},
   "outputs": [
    {
     "data": {
      "text/plain": [
       "0.5705443272071143"
      ]
     },
     "execution_count": 17,
     "metadata": {},
     "output_type": "execute_result"
    }
   ],
   "source": [
    "# Find the lowest threshold with the precision at least 90%\n",
    "new_threshold_lr_index = prc_df_lr[prc_df_lr['Precision'] >= 0.9].index[0]\n",
    "new_threshold_lr = thresholds_lr[new_threshold_lr_index]\n",
    "new_threshold_lr"
   ]
  },
  {
   "cell_type": "code",
   "execution_count": 18,
   "id": "441d3d3f",
   "metadata": {},
   "outputs": [
    {
     "data": {
      "text/plain": [
       "0.9"
      ]
     },
     "execution_count": 18,
     "metadata": {},
     "output_type": "execute_result"
    }
   ],
   "source": [
    "# Make new predictions using the \"lr\" model with the new threshold\n",
    "new_y_pred_lr = []\n",
    "for proba_0, proba_1 in y_prob_lr:\n",
    "    if proba_1 >= new_threshold_lr:\n",
    "        new_y_pred_lr.append(1)\n",
    "    else:\n",
    "        new_y_pred_lr.append(0)\n",
    "precision_score(y_test, new_y_pred_lr)  # new precision score"
   ]
  },
  {
   "cell_type": "code",
   "execution_count": 19,
   "id": "ea67cfa6",
   "metadata": {},
   "outputs": [
    {
     "data": {
      "text/html": [
       "<div>\n",
       "<style scoped>\n",
       "    .dataframe tbody tr th:only-of-type {\n",
       "        vertical-align: middle;\n",
       "    }\n",
       "\n",
       "    .dataframe tbody tr th {\n",
       "        vertical-align: top;\n",
       "    }\n",
       "\n",
       "    .dataframe thead th {\n",
       "        text-align: right;\n",
       "    }\n",
       "</style>\n",
       "<table border=\"1\" class=\"dataframe\">\n",
       "  <thead>\n",
       "    <tr style=\"text-align: right;\">\n",
       "      <th></th>\n",
       "      <th>Precision</th>\n",
       "      <th>Recall</th>\n",
       "      <th>Threshold</th>\n",
       "    </tr>\n",
       "  </thead>\n",
       "  <tbody>\n",
       "    <tr>\n",
       "      <th>0</th>\n",
       "      <td>0.500733</td>\n",
       "      <td>1.000000</td>\n",
       "      <td>0.0</td>\n",
       "    </tr>\n",
       "    <tr>\n",
       "      <th>1</th>\n",
       "      <td>0.774774</td>\n",
       "      <td>0.980562</td>\n",
       "      <td>0.2</td>\n",
       "    </tr>\n",
       "    <tr>\n",
       "      <th>2</th>\n",
       "      <td>0.868049</td>\n",
       "      <td>0.952936</td>\n",
       "      <td>0.4</td>\n",
       "    </tr>\n",
       "    <tr>\n",
       "      <th>3</th>\n",
       "      <td>0.918868</td>\n",
       "      <td>0.909999</td>\n",
       "      <td>0.6</td>\n",
       "    </tr>\n",
       "    <tr>\n",
       "      <th>4</th>\n",
       "      <td>0.955386</td>\n",
       "      <td>0.842498</td>\n",
       "      <td>0.8</td>\n",
       "    </tr>\n",
       "    <tr>\n",
       "      <th>5</th>\n",
       "      <td>0.978801</td>\n",
       "      <td>0.716150</td>\n",
       "      <td>1.0</td>\n",
       "    </tr>\n",
       "  </tbody>\n",
       "</table>\n",
       "</div>"
      ],
      "text/plain": [
       "   Precision    Recall  Threshold\n",
       "0   0.500733  1.000000        0.0\n",
       "1   0.774774  0.980562        0.2\n",
       "2   0.868049  0.952936        0.4\n",
       "3   0.918868  0.909999        0.6\n",
       "4   0.955386  0.842498        0.8\n",
       "5   0.978801  0.716150        1.0"
      ]
     },
     "execution_count": 19,
     "metadata": {},
     "output_type": "execute_result"
    }
   ],
   "source": [
    "# Show threshold corresponding to each (recall, precision) coordinate for the \"knn\" model\n",
    "precisions_knn, recalls_knn, thresholds_knn = precision_recall_curve(y_test, y_prob_knn[:, 1])\n",
    "prc_df_knn = pd.DataFrame({\n",
    "    \"Precision\": precisions_knn[:-1],\n",
    "    \"Recall\": recalls_knn[:-1],\n",
    "    \"Threshold\": thresholds_knn,\n",
    "}).sort_values('Precision')\n",
    "prc_df_knn"
   ]
  },
  {
   "cell_type": "code",
   "execution_count": 20,
   "id": "7d998d3c",
   "metadata": {},
   "outputs": [
    {
     "data": {
      "text/html": [
       "<div>\n",
       "<style scoped>\n",
       "    .dataframe tbody tr th:only-of-type {\n",
       "        vertical-align: middle;\n",
       "    }\n",
       "\n",
       "    .dataframe tbody tr th {\n",
       "        vertical-align: top;\n",
       "    }\n",
       "\n",
       "    .dataframe thead th {\n",
       "        text-align: right;\n",
       "    }\n",
       "</style>\n",
       "<table border=\"1\" class=\"dataframe\">\n",
       "  <thead>\n",
       "    <tr style=\"text-align: right;\">\n",
       "      <th></th>\n",
       "      <th>Precision</th>\n",
       "      <th>Recall</th>\n",
       "      <th>Threshold</th>\n",
       "    </tr>\n",
       "  </thead>\n",
       "  <tbody>\n",
       "    <tr>\n",
       "      <th>3</th>\n",
       "      <td>0.918868</td>\n",
       "      <td>0.909999</td>\n",
       "      <td>0.6</td>\n",
       "    </tr>\n",
       "    <tr>\n",
       "      <th>4</th>\n",
       "      <td>0.955386</td>\n",
       "      <td>0.842498</td>\n",
       "      <td>0.8</td>\n",
       "    </tr>\n",
       "    <tr>\n",
       "      <th>5</th>\n",
       "      <td>0.978801</td>\n",
       "      <td>0.716150</td>\n",
       "      <td>1.0</td>\n",
       "    </tr>\n",
       "  </tbody>\n",
       "</table>\n",
       "</div>"
      ],
      "text/plain": [
       "   Precision    Recall  Threshold\n",
       "3   0.918868  0.909999        0.6\n",
       "4   0.955386  0.842498        0.8\n",
       "5   0.978801  0.716150        1.0"
      ]
     },
     "execution_count": 20,
     "metadata": {},
     "output_type": "execute_result"
    }
   ],
   "source": [
    "# Show the dataframe where precision > 90%\n",
    "prc_df_knn[prc_df_knn['Precision'] >= 0.9]"
   ]
  },
  {
   "cell_type": "code",
   "execution_count": 21,
   "id": "796cbe71",
   "metadata": {},
   "outputs": [
    {
     "data": {
      "text/plain": [
       "0.6"
      ]
     },
     "execution_count": 21,
     "metadata": {},
     "output_type": "execute_result"
    }
   ],
   "source": [
    "# Find the lowest threshold with the precision at least 90%\n",
    "new_threshold_knn_index = prc_df_knn[prc_df_knn['Precision'] >= 0.9].index[0]\n",
    "new_threshold_knn = thresholds_knn[new_threshold_knn_index]\n",
    "new_threshold_knn"
   ]
  },
  {
   "cell_type": "code",
   "execution_count": 22,
   "id": "911c60a3",
   "metadata": {},
   "outputs": [
    {
     "data": {
      "text/plain": [
       "0.9188680513544397"
      ]
     },
     "execution_count": 22,
     "metadata": {},
     "output_type": "execute_result"
    }
   ],
   "source": [
    "# Make new predictions using the \"knn\" model with the new threshold\n",
    "new_y_pred_knn = []\n",
    "for proba_0, proba_1 in y_prob_knn:\n",
    "    if proba_1 >= new_threshold_knn:\n",
    "        new_y_pred_knn.append(1)\n",
    "    else:\n",
    "        new_y_pred_knn.append(0)\n",
    "precision_score(y_test, new_y_pred_knn)  # new precision score"
   ]
  },
  {
   "cell_type": "markdown",
   "id": "b932d281",
   "metadata": {},
   "source": [
    "## Receiver-Operator Curve Area Under the Curve (ROC-AUC)\n",
    "\n",
    "หากต้องการคำนวณหรือเปรียบเทียบ performance ของแต่ละ classifier เราไม่สามารถใช้ precision/recall/accuracy ได้ เพราะ performance เปลี่ยนตาม threshold แต่เราจะใช้ <b>receiver-operator curve (ROC)</b> ซึ่งเป็น plot ระหว่าง true positive rate (TPR) กับ false positive rate (FPR)\n",
    "\n",
    "<img src=\"../images/roc1.png\" width=\"250\" /><br />\n",
    "\n",
    "พิจารณาภาพด้านบน\n",
    "- เส้นทึบ เป็น ROC ของ random classifier\n",
    "- เราต้องการ classifier ที่มีเส้น ROC (เส้นประ) อยู่เหนือเส้น ROC ของ random classifier มากที่สุด\n",
    "- ความชันของ ROC ($m_{\\text{ROC}}=\\frac{\\text{TPR}}{\\text{FPR}}$) เปลี่ยนตาม threshold\n",
    "- แต่พื้นที่ใต้ ROC (<b>Area Under the Curve, AUC</b>) ไม่ขึ้นกับ threshold จึงใช้เปรียบเทียบ performance ของแต่ละ classifier ได้ โดย classifier ที่มี AUC มากกว่าจะมี performance ดีกว่า\n",
    "- ROC สร้างได้โดยใช้ `sklearn.metrics.roc_curve`\n",
    "- AUC หาได้โดยใช้ `sklearn.metrics.roc_auc_score`\n",
    "\n",
    "ภาพด้านล่างแสดง ROC หลาย ๆ แบบ\n",
    "\n",
    "<img src=\"../images/roc2.png\" width=\"250\" /><br />\n",
    "\n",
    "ภาพด้านล่างแสดง threshold ที่ดีที่สุดที่จะหาได้จาก ROC\n",
    "\n",
    "<img src=\"../images/roc3.png\" width=\"400\" /><br />\n"
   ]
  },
  {
   "cell_type": "code",
   "execution_count": 23,
   "id": "0aca05d4",
   "metadata": {},
   "outputs": [
    {
     "data": {
      "image/png": "[encoded data removed]",
      "text/plain": [
       "<Figure size 500x500 with 1 Axes>"
      ]
     },
     "metadata": {},
     "output_type": "display_data"
    }
   ],
   "source": [
    "# Create ROC curve\n",
    "fpr_lr, tpr_lr, thresholds_lr = roc_curve(y_test, y_prob_lr[:, 1], drop_intermediate=False)\n",
    "fpr_knn, tpr_knn, thresholds_knn = roc_curve(y_test, y_prob_knn[:, 1], drop_intermediate=False)\n",
    "\n",
    "fig, ax = plt.subplots(figsize=(5, 5))\n",
    "ax.plot(fpr_lr, tpr_lr, label='Logistic Regression', linewidth=2)\n",
    "ax.plot(fpr_knn, tpr_knn, label='KNN classifier', linewidth=2)\n",
    "ax.plot(np.linspace(0, 1, 5), np.linspace(0, 1, 5), color='k',linestyle='--')\n",
    "ax.set(xlabel='FPR', ylabel='TPR', title='ROC')\n",
    "ax.legend();"
   ]
  },
  {
   "cell_type": "code",
   "execution_count": 24,
   "id": "83880d5a",
   "metadata": {},
   "outputs": [
    {
     "name": "stdout",
     "output_type": "stream",
     "text": [
      "AUC score of the logistic regression model = 0.8627286958252834\n",
      "AUC score of the KNN model = 0.9147069054139655\n"
     ]
    }
   ],
   "source": [
    "# Compute AUC score\n",
    "print(\"AUC score of the logistic regression model =\", roc_auc_score(y_test, y_pred_lr))\n",
    "print(\"AUC score of the KNN model =\", roc_auc_score(y_test, y_pred_knn))"
   ]
  }
 ],
 "metadata": {
  "kernelspec": {
   "display_name": "Python 3 (ipykernel)",
   "language": "python",
   "name": "python3"
  },
  "language_info": {
   "codemirror_mode": {
    "name": "ipython",
    "version": 3
   },
   "file_extension": ".py",
   "mimetype": "text/x-python",
   "name": "python",
   "nbconvert_exporter": "python",
   "pygments_lexer": "ipython3",
   "version": "3.11.3"
  }
 },
 "nbformat": 4,
 "nbformat_minor": 5
}