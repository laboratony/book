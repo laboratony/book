{
 "cells": [
  {
   "cell_type": "markdown",
   "id": "3efe0024",
   "metadata": {},
   "source": [
    "# Baseline"
   ]
  },
  {
   "cell_type": "code",
   "execution_count": 1,
   "id": "201a3a63",
   "metadata": {},
   "outputs": [],
   "source": [
    "import pandas as pd\n",
    "from sklearn.model_selection import train_test_split\n",
    "from sklearn.preprocessing import StandardScaler\n",
    "from sklearn.dummy import DummyRegressor\n",
    "from sklearn.linear_model import LinearRegression"
   ]
  },
  {
   "cell_type": "markdown",
   "id": "0d5bfa5f",
   "metadata": {},
   "source": [
    "Baseline model เป็น model ที่เรียบง่ายที่สุดที่สามารถทำ task หนึ่งได้ มีคะแนน performance คือ baseline score (เราต้องการ model ที่มีคะแนนมากกว่านี้)  \n",
    "ก่อนจะหา model ที่ดีที่สุด เราควรสร้าง baseline model ก่อน \n",
    "\n",
    "Baseline model ที่ใช้ได้ เช่น dummy model (model ที่ทำนายโดยไม่มี input โดยเอาค่าที่กำหนดใน strategy มาทำนาย)\n",
    "- Dummy classifier สร้างได้โดยใช้ `sklearn.dummy.DummyClassifier` <br />ตัวอย่าง strategy ที่ใช้ได้ เช่น\n",
    "    - Most Frequent: The classifier always predicts the most frequent class label in the training data.\n",
    "    - Stratified: It generates predictions by respecting the class distribution of the training data. It is different from the \"most frequent\" strategy as it instead associates a probability with each data point of being the most frequent class label.\n",
    "    - Uniform: It generates predictions uniformly at random.\n",
    "    - Constant: The classifier always predicts a constant label and is primarily used when classifying non-majority class labels.\n",
    "- Dummy regressor ทำนายโดยใช้ค่ากลาง เช่น mean, median, mode สร้างได้โดยใช้ `sklearn.dummy.DummyRegressor`"
   ]
  },
  {
   "cell_type": "code",
   "execution_count": 3,
   "id": "cfb829c8",
   "metadata": {},
   "outputs": [],
   "source": [
    "# Perform data pre-processing\n",
    "\n",
    "# Import data and drop duplicate\n",
    "data = pd.read_csv('../data/fish.csv').drop_duplicates()\n",
    "# Prepare X and y\n",
    "X = data[['Length1', 'Length2', 'Length3', 'Height', 'Width']]\n",
    "y = data['Weight']\n",
    "# Train-test split\n",
    "X_train, X_test, y_train, y_test = train_test_split(X, y, train_size=.7, random_state=42)\n",
    "# Scale features\n",
    "scaler = StandardScaler().fit(X_train)\n",
    "X_train = pd.DataFrame(scaler.transform(X_train), columns=X_train.columns)\n",
    "X_test = pd.DataFrame(scaler.transform(X_test), columns=X_test.columns)"
   ]
  },
  {
   "cell_type": "code",
   "execution_count": 10,
   "id": "acf1f2d9",
   "metadata": {},
   "outputs": [
    {
     "data": {
      "text/plain": [
       "-0.00069268305185477"
      ]
     },
     "execution_count": 10,
     "metadata": {},
     "output_type": "execute_result"
    }
   ],
   "source": [
    "# Create dummy regressor that predicts using mean\n",
    "dummy = DummyRegressor(strategy=\"mean\").fit(X_train, y_train)\n",
    "dummy.score(X_test, y_test)  # Score model"
   ]
  },
  {
   "cell_type": "code",
   "execution_count": 9,
   "id": "69f8158f",
   "metadata": {},
   "outputs": [
    {
     "data": {
      "text/plain": [
       "0.8676045498644969"
      ]
     },
     "execution_count": 9,
     "metadata": {},
     "output_type": "execute_result"
    }
   ],
   "source": [
    "# Create regression baseline\n",
    "baseline_model = LinearRegression().fit(X_train, y_train)\n",
    "baseline_model.score(X_test, y_test)  # Score model"
   ]
  }
 ],
 "metadata": {
  "kernelspec": {
   "display_name": "Python 3 (ipykernel)",
   "language": "python",
   "name": "python3"
  },
  "language_info": {
   "codemirror_mode": {
    "name": "ipython",
    "version": 3
   },
   "file_extension": ".py",
   "mimetype": "text/x-python",
   "name": "python",
   "nbconvert_exporter": "python",
   "pygments_lexer": "ipython3",
   "version": "3.9.13"
  }
 },
 "nbformat": 4,
 "nbformat_minor": 5
}
