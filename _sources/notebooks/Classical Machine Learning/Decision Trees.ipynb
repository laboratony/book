{
 "cells": [
  {
   "cell_type": "markdown",
   "id": "2ac4e28b",
   "metadata": {},
   "source": [
    "# Decision Trees"
   ]
  },
  {
   "cell_type": "code",
   "execution_count": 12,
   "id": "92803f01",
   "metadata": {},
   "outputs": [],
   "source": [
    "import numpy as np\n",
    "import pandas as pd\n",
    "import matplotlib.pyplot as plt\n",
    "from sklearn.datasets import load_iris\n",
    "from sklearn.tree import DecisionTreeClassifier\n",
    "import graphviz\n",
    "from sklearn.tree import export_graphviz\n",
    "from mlxtend.plotting import plot_decision_regions"
   ]
  },
  {
   "cell_type": "markdown",
   "id": "4198dff2",
   "metadata": {},
   "source": [
    "## Decision trees\n",
    "\n",
    "แยกข้อมูลออกจากกันไปเรื่อย ๆ\n",
    "\n",
    "## Decision tree classifiers\n",
    "\n",
    "เริ่มจาก root node ที่เก็บทั้ง dataset เอาไว้ กำหนด threshold ต่าง ๆ ของแต่ละ feature มาแบ่ง dataset ออกเป็น 2 child node นำผลที่ได้จากการแบ่งแต่ละแบบมาคำนวณ gini index เฉลี่ยของทั้ง 2 child node ถ่วงน้ำหนักโดยจำนวนข้อมูลในแต่ละ node เลือกการแบ่งข้อมูลที่ทำให้ gini index เฉลี่ยต่ำสุด (child node บริสุทธิ์ที่สุด นั่นคือ มีปริมาณข้อมูลที่ถูก classified ผิดน้อยที่สุด) จากนั้นแบ่งข้อมูลใน child node ออกไปอีก ทำไปเรื่อย ๆ จนไม่เหลือ feature ใดที่แยกข้อมูลต่อได้อีก\n",
    "\n",
    "<b>Gini index</b> เป็นค่าที่วัดความสามารถของ feature ในการแยกข้อมูลเป็น 2 ชุด\n",
    "\n",
    "$$\\text{Gini(node)} = 1 - \\sum_{i=1}^N p_i^2$$\n",
    "\n",
    "- $p_i$ = สัดส่วนของข้อมูลใน class $i$ ที่ถูกแยกไว้ใน node นั้น\n",
    "- Gini index มีค่าระหว่าง 0 กับ 1\n",
    "- Node ที่มี gini index น้อยกว่าจะบริสุทธิ์กว่า\n",
    "\n",
    "พิจารณาตัวอย่าง tree classifier ในภาพด้านล่าง ซึ่งแบ่งดอกไม้ออกเป็น 3 กลุ่ม (Class 0, 1, 2) โดยใช้ \"petal length\" และ \"petal width\" feature และกำหนด threshold ไว้ที่ 2.45 และ 1.75 ตามลำดับ\n",
    "\n",
    "<img src=\"../images/tree_classifier.png\" width=\"500\" /><br />\n",
    "\n",
    "เราสามารถคำนวณ Gini index ของ root node กับ leaf node สีเขียวได้ดังนี้\n",
    "\n",
    "$$\\text{Gini(root node)} = 1 - \\left[ \\left(\\frac{50}{150}\\right)^2 + \\left(\\frac{50}{150}\\right)^2 + \\left(\\frac{50}{150}\\right)^2 \\right] = 0.667$$\n",
    "\n",
    "$$\\text{Gini(green leaf node)} = 1 - \\left[ \\left(\\frac{0}{54}\\right)^2 + \\left(\\frac{49}{54}\\right)^2 + \\left(\\frac{5}{54}\\right)^2 \\right] = 0.168$$\n",
    "\n",
    "ดังนั้น leaf node สีเขียว บริสุทธิ์กว่า root node (leaf node สีเขียว มีปริมาณข้อมูลที่ถูก classified ผิด น้อยกว่าใน root node)\n",
    "\n",
    "เมื่อได้ tree ที่ดีที่สุดแล้ว เราจะเอา test data มาทำนายโดยผ่านเข้าไปใน root node ลงไปหา internal node ที่เข้าเงื่อนไขเรื่อย ๆ จนถึง leaf node ตัวอย่างเช่น ถ้าข้อมูลของดอกไม้ดอกหนึ่งมี petal length = 4 และ petal width = 1 ใช้ tree ด้านบนทำนายจะได้ว่าดอกไม้นี้อยู่ใน Class 1\n",
    "\n",
    "เมื่อ plot decision region จะเห็นได้ว่า decision boundary ตั้งฉากกัน\n",
    "\n",
    "<img src=\"../images/decision_region_classifier.png\" width=\"500\" /><br />\n",
    "\n",
    "การเพิ่ม tree depth จะสามารถทำให้ boundary ซับซ้อนขึ้น\n",
    "\n",
    "<img src=\"../images/complicated_decision_regions.png\" width=\"800\" /><br />\n",
    "\n",
    "เราสามารถสร้าง decision tree classifier ได้โดยใช้ `sklearn.tree.DecisionTreeClassifier`"
   ]
  },
  {
   "cell_type": "code",
   "execution_count": 13,
   "id": "1b3e2597",
   "metadata": {},
   "outputs": [
    {
     "data": {
      "text/html": [
       "<div>\n",
       "<style scoped>\n",
       "    .dataframe tbody tr th:only-of-type {\n",
       "        vertical-align: middle;\n",
       "    }\n",
       "\n",
       "    .dataframe tbody tr th {\n",
       "        vertical-align: top;\n",
       "    }\n",
       "\n",
       "    .dataframe thead th {\n",
       "        text-align: right;\n",
       "    }\n",
       "</style>\n",
       "<table border=\"1\" class=\"dataframe\">\n",
       "  <thead>\n",
       "    <tr style=\"text-align: right;\">\n",
       "      <th></th>\n",
       "      <th>sepal length (cm)</th>\n",
       "      <th>sepal width (cm)</th>\n",
       "      <th>petal length (cm)</th>\n",
       "      <th>petal width (cm)</th>\n",
       "      <th>target</th>\n",
       "    </tr>\n",
       "  </thead>\n",
       "  <tbody>\n",
       "    <tr>\n",
       "      <th>0</th>\n",
       "      <td>5.1</td>\n",
       "      <td>3.5</td>\n",
       "      <td>1.4</td>\n",
       "      <td>0.2</td>\n",
       "      <td>0.0</td>\n",
       "    </tr>\n",
       "    <tr>\n",
       "      <th>1</th>\n",
       "      <td>4.9</td>\n",
       "      <td>3.0</td>\n",
       "      <td>1.4</td>\n",
       "      <td>0.2</td>\n",
       "      <td>0.0</td>\n",
       "    </tr>\n",
       "    <tr>\n",
       "      <th>2</th>\n",
       "      <td>4.7</td>\n",
       "      <td>3.2</td>\n",
       "      <td>1.3</td>\n",
       "      <td>0.2</td>\n",
       "      <td>0.0</td>\n",
       "    </tr>\n",
       "    <tr>\n",
       "      <th>3</th>\n",
       "      <td>4.6</td>\n",
       "      <td>3.1</td>\n",
       "      <td>1.5</td>\n",
       "      <td>0.2</td>\n",
       "      <td>0.0</td>\n",
       "    </tr>\n",
       "    <tr>\n",
       "      <th>4</th>\n",
       "      <td>5.0</td>\n",
       "      <td>3.6</td>\n",
       "      <td>1.4</td>\n",
       "      <td>0.2</td>\n",
       "      <td>0.0</td>\n",
       "    </tr>\n",
       "    <tr>\n",
       "      <th>...</th>\n",
       "      <td>...</td>\n",
       "      <td>...</td>\n",
       "      <td>...</td>\n",
       "      <td>...</td>\n",
       "      <td>...</td>\n",
       "    </tr>\n",
       "    <tr>\n",
       "      <th>145</th>\n",
       "      <td>6.7</td>\n",
       "      <td>3.0</td>\n",
       "      <td>5.2</td>\n",
       "      <td>2.3</td>\n",
       "      <td>2.0</td>\n",
       "    </tr>\n",
       "    <tr>\n",
       "      <th>146</th>\n",
       "      <td>6.3</td>\n",
       "      <td>2.5</td>\n",
       "      <td>5.0</td>\n",
       "      <td>1.9</td>\n",
       "      <td>2.0</td>\n",
       "    </tr>\n",
       "    <tr>\n",
       "      <th>147</th>\n",
       "      <td>6.5</td>\n",
       "      <td>3.0</td>\n",
       "      <td>5.2</td>\n",
       "      <td>2.0</td>\n",
       "      <td>2.0</td>\n",
       "    </tr>\n",
       "    <tr>\n",
       "      <th>148</th>\n",
       "      <td>6.2</td>\n",
       "      <td>3.4</td>\n",
       "      <td>5.4</td>\n",
       "      <td>2.3</td>\n",
       "      <td>2.0</td>\n",
       "    </tr>\n",
       "    <tr>\n",
       "      <th>149</th>\n",
       "      <td>5.9</td>\n",
       "      <td>3.0</td>\n",
       "      <td>5.1</td>\n",
       "      <td>1.8</td>\n",
       "      <td>2.0</td>\n",
       "    </tr>\n",
       "  </tbody>\n",
       "</table>\n",
       "<p>149 rows × 5 columns</p>\n",
       "</div>"
      ],
      "text/plain": [
       "     sepal length (cm)  sepal width (cm)  petal length (cm)  petal width (cm)  \\\n",
       "0                  5.1               3.5                1.4               0.2   \n",
       "1                  4.9               3.0                1.4               0.2   \n",
       "2                  4.7               3.2                1.3               0.2   \n",
       "3                  4.6               3.1                1.5               0.2   \n",
       "4                  5.0               3.6                1.4               0.2   \n",
       "..                 ...               ...                ...               ...   \n",
       "145                6.7               3.0                5.2               2.3   \n",
       "146                6.3               2.5                5.0               1.9   \n",
       "147                6.5               3.0                5.2               2.0   \n",
       "148                6.2               3.4                5.4               2.3   \n",
       "149                5.9               3.0                5.1               1.8   \n",
       "\n",
       "     target  \n",
       "0       0.0  \n",
       "1       0.0  \n",
       "2       0.0  \n",
       "3       0.0  \n",
       "4       0.0  \n",
       "..      ...  \n",
       "145     2.0  \n",
       "146     2.0  \n",
       "147     2.0  \n",
       "148     2.0  \n",
       "149     2.0  \n",
       "\n",
       "[149 rows x 5 columns]"
      ]
     },
     "execution_count": 13,
     "metadata": {},
     "output_type": "execute_result"
    }
   ],
   "source": [
    "# Load iris dataset and drop duplicates\n",
    "iris = load_iris()\n",
    "data = pd.DataFrame(\n",
    "    data=np.c_[iris['data'], iris['target']],\n",
    "    columns=(iris['feature_names'] + ['target'])\n",
    ").drop_duplicates()\n",
    "data"
   ]
  },
  {
   "cell_type": "code",
   "execution_count": 14,
   "id": "13129d92",
   "metadata": {},
   "outputs": [],
   "source": [
    "# Features (X) and target (y)\n",
    "# Convert them to numpy arrays as required when ploting decision regions\n",
    "X = data[['petal length (cm)', 'petal width (cm)']].values\n",
    "y = data['target'].values.astype(int)"
   ]
  },
  {
   "cell_type": "code",
   "execution_count": 15,
   "id": "332673a8",
   "metadata": {},
   "outputs": [],
   "source": [
    "# Tree classifier\n",
    "tree_clf = DecisionTreeClassifier(max_depth=2, random_state=2).fit(X, y)"
   ]
  },
  {
   "cell_type": "code",
   "execution_count": 16,
   "id": "3a9f6bc9",
   "metadata": {},
   "outputs": [],
   "source": [
    "# Export tree\n",
    "export_graphviz(tree_clf,\n",
    "                out_file=\"../data/iris_tree.dot\",\n",
    "                feature_names=['petal length (cm)', 'petal width (cm)'],\n",
    "                class_names=['0', '1', '2'],\n",
    "                rounded=True,\n",
    "                filled=True)"
   ]
  },
  {
   "cell_type": "code",
   "execution_count": 17,
   "id": "5d4e9d5f",
   "metadata": {},
   "outputs": [
    {
     "data": {
      "image/svg+xml": [
       "<?xml version=\"1.0\" encoding=\"UTF-8\" standalone=\"no\"?>\n",
       "<!DOCTYPE svg PUBLIC \"-//W3C//DTD SVG 1.1//EN\"\n",
       " \"http://www.w3.org/Graphics/SVG/1.1/DTD/svg11.dtd\">\n",
       "<!-- Generated by graphviz version 2.50.0 (0)\n",
       " -->\n",
       "<!-- Title: Tree Pages: 1 -->\n",
       "<svg width=\"350pt\" height=\"314pt\"\n",
       " viewBox=\"0.00 0.00 350.00 314.00\" xmlns=\"http://www.w3.org/2000/svg\" xmlns:xlink=\"http://www.w3.org/1999/xlink\">\n",
       "<g id=\"graph0\" class=\"graph\" transform=\"scale(1 1) rotate(0) translate(4 310)\">\n",
       "<title>Tree</title>\n",
       "<polygon fill=\"white\" stroke=\"transparent\" points=\"-4,4 -4,-310 346,-310 346,4 -4,4\"/>\n",
       "<!-- 0 -->\n",
       "<g id=\"node1\" class=\"node\">\n",
       "<title>0</title>\n",
       "<path fill=\"#ffffff\" stroke=\"black\" d=\"M209.5,-306C209.5,-306 65.5,-306 65.5,-306 59.5,-306 53.5,-300 53.5,-294 53.5,-294 53.5,-235 53.5,-235 53.5,-229 59.5,-223 65.5,-223 65.5,-223 209.5,-223 209.5,-223 215.5,-223 221.5,-229 221.5,-235 221.5,-235 221.5,-294 221.5,-294 221.5,-300 215.5,-306 209.5,-306\"/>\n",
       "<text text-anchor=\"middle\" x=\"137.5\" y=\"-290.8\" font-family=\"Helvetica,sans-Serif\" font-size=\"14.00\">petal length (cm) &lt;= 2.45</text>\n",
       "<text text-anchor=\"middle\" x=\"137.5\" y=\"-275.8\" font-family=\"Helvetica,sans-Serif\" font-size=\"14.00\">gini = 0.667</text>\n",
       "<text text-anchor=\"middle\" x=\"137.5\" y=\"-260.8\" font-family=\"Helvetica,sans-Serif\" font-size=\"14.00\">samples = 149</text>\n",
       "<text text-anchor=\"middle\" x=\"137.5\" y=\"-245.8\" font-family=\"Helvetica,sans-Serif\" font-size=\"14.00\">value = [50, 50, 49]</text>\n",
       "<text text-anchor=\"middle\" x=\"137.5\" y=\"-230.8\" font-family=\"Helvetica,sans-Serif\" font-size=\"14.00\">class = 0</text>\n",
       "</g>\n",
       "<!-- 1 -->\n",
       "<g id=\"node2\" class=\"node\">\n",
       "<title>1</title>\n",
       "<path fill=\"#e58139\" stroke=\"black\" d=\"M105,-179.5C105,-179.5 12,-179.5 12,-179.5 6,-179.5 0,-173.5 0,-167.5 0,-167.5 0,-123.5 0,-123.5 0,-117.5 6,-111.5 12,-111.5 12,-111.5 105,-111.5 105,-111.5 111,-111.5 117,-117.5 117,-123.5 117,-123.5 117,-167.5 117,-167.5 117,-173.5 111,-179.5 105,-179.5\"/>\n",
       "<text text-anchor=\"middle\" x=\"58.5\" y=\"-164.3\" font-family=\"Helvetica,sans-Serif\" font-size=\"14.00\">gini = 0.0</text>\n",
       "<text text-anchor=\"middle\" x=\"58.5\" y=\"-149.3\" font-family=\"Helvetica,sans-Serif\" font-size=\"14.00\">samples = 50</text>\n",
       "<text text-anchor=\"middle\" x=\"58.5\" y=\"-134.3\" font-family=\"Helvetica,sans-Serif\" font-size=\"14.00\">value = [50, 0, 0]</text>\n",
       "<text text-anchor=\"middle\" x=\"58.5\" y=\"-119.3\" font-family=\"Helvetica,sans-Serif\" font-size=\"14.00\">class = 0</text>\n",
       "</g>\n",
       "<!-- 0&#45;&gt;1 -->\n",
       "<g id=\"edge1\" class=\"edge\">\n",
       "<title>0&#45;&gt;1</title>\n",
       "<path fill=\"none\" stroke=\"black\" d=\"M110.09,-222.91C102.49,-211.65 94.23,-199.42 86.59,-188.11\"/>\n",
       "<polygon fill=\"black\" stroke=\"black\" points=\"89.39,-186 80.89,-179.67 83.59,-189.91 89.39,-186\"/>\n",
       "<text text-anchor=\"middle\" x=\"76.14\" y=\"-200.51\" font-family=\"Helvetica,sans-Serif\" font-size=\"14.00\">True</text>\n",
       "</g>\n",
       "<!-- 2 -->\n",
       "<g id=\"node3\" class=\"node\">\n",
       "<title>2</title>\n",
       "<path fill=\"#fbfefc\" stroke=\"black\" d=\"M286,-187C286,-187 147,-187 147,-187 141,-187 135,-181 135,-175 135,-175 135,-116 135,-116 135,-110 141,-104 147,-104 147,-104 286,-104 286,-104 292,-104 298,-110 298,-116 298,-116 298,-175 298,-175 298,-181 292,-187 286,-187\"/>\n",
       "<text text-anchor=\"middle\" x=\"216.5\" y=\"-171.8\" font-family=\"Helvetica,sans-Serif\" font-size=\"14.00\">petal width (cm) &lt;= 1.75</text>\n",
       "<text text-anchor=\"middle\" x=\"216.5\" y=\"-156.8\" font-family=\"Helvetica,sans-Serif\" font-size=\"14.00\">gini = 0.5</text>\n",
       "<text text-anchor=\"middle\" x=\"216.5\" y=\"-141.8\" font-family=\"Helvetica,sans-Serif\" font-size=\"14.00\">samples = 99</text>\n",
       "<text text-anchor=\"middle\" x=\"216.5\" y=\"-126.8\" font-family=\"Helvetica,sans-Serif\" font-size=\"14.00\">value = [0, 50, 49]</text>\n",
       "<text text-anchor=\"middle\" x=\"216.5\" y=\"-111.8\" font-family=\"Helvetica,sans-Serif\" font-size=\"14.00\">class = 1</text>\n",
       "</g>\n",
       "<!-- 0&#45;&gt;2 -->\n",
       "<g id=\"edge2\" class=\"edge\">\n",
       "<title>0&#45;&gt;2</title>\n",
       "<path fill=\"none\" stroke=\"black\" d=\"M164.91,-222.91C170.91,-214.01 177.33,-204.51 183.53,-195.33\"/>\n",
       "<polygon fill=\"black\" stroke=\"black\" points=\"186.44,-197.27 189.14,-187.02 180.64,-193.35 186.44,-197.27\"/>\n",
       "<text text-anchor=\"middle\" x=\"193.9\" y=\"-207.86\" font-family=\"Helvetica,sans-Serif\" font-size=\"14.00\">False</text>\n",
       "</g>\n",
       "<!-- 3 -->\n",
       "<g id=\"node4\" class=\"node\">\n",
       "<title>3</title>\n",
       "<path fill=\"#4de88e\" stroke=\"black\" d=\"M195,-68C195,-68 102,-68 102,-68 96,-68 90,-62 90,-56 90,-56 90,-12 90,-12 90,-6 96,0 102,0 102,0 195,0 195,0 201,0 207,-6 207,-12 207,-12 207,-56 207,-56 207,-62 201,-68 195,-68\"/>\n",
       "<text text-anchor=\"middle\" x=\"148.5\" y=\"-52.8\" font-family=\"Helvetica,sans-Serif\" font-size=\"14.00\">gini = 0.168</text>\n",
       "<text text-anchor=\"middle\" x=\"148.5\" y=\"-37.8\" font-family=\"Helvetica,sans-Serif\" font-size=\"14.00\">samples = 54</text>\n",
       "<text text-anchor=\"middle\" x=\"148.5\" y=\"-22.8\" font-family=\"Helvetica,sans-Serif\" font-size=\"14.00\">value = [0, 49, 5]</text>\n",
       "<text text-anchor=\"middle\" x=\"148.5\" y=\"-7.8\" font-family=\"Helvetica,sans-Serif\" font-size=\"14.00\">class = 1</text>\n",
       "</g>\n",
       "<!-- 2&#45;&gt;3 -->\n",
       "<g id=\"edge3\" class=\"edge\">\n",
       "<title>2&#45;&gt;3</title>\n",
       "<path fill=\"none\" stroke=\"black\" d=\"M191.18,-103.73C185.74,-94.97 179.99,-85.7 174.52,-76.91\"/>\n",
       "<polygon fill=\"black\" stroke=\"black\" points=\"177.43,-74.95 169.18,-68.3 171.48,-78.64 177.43,-74.95\"/>\n",
       "</g>\n",
       "<!-- 4 -->\n",
       "<g id=\"node5\" class=\"node\">\n",
       "<title>4</title>\n",
       "<path fill=\"#843de6\" stroke=\"black\" d=\"M330,-68C330,-68 237,-68 237,-68 231,-68 225,-62 225,-56 225,-56 225,-12 225,-12 225,-6 231,0 237,0 237,0 330,0 330,0 336,0 342,-6 342,-12 342,-12 342,-56 342,-56 342,-62 336,-68 330,-68\"/>\n",
       "<text text-anchor=\"middle\" x=\"283.5\" y=\"-52.8\" font-family=\"Helvetica,sans-Serif\" font-size=\"14.00\">gini = 0.043</text>\n",
       "<text text-anchor=\"middle\" x=\"283.5\" y=\"-37.8\" font-family=\"Helvetica,sans-Serif\" font-size=\"14.00\">samples = 45</text>\n",
       "<text text-anchor=\"middle\" x=\"283.5\" y=\"-22.8\" font-family=\"Helvetica,sans-Serif\" font-size=\"14.00\">value = [0, 1, 44]</text>\n",
       "<text text-anchor=\"middle\" x=\"283.5\" y=\"-7.8\" font-family=\"Helvetica,sans-Serif\" font-size=\"14.00\">class = 2</text>\n",
       "</g>\n",
       "<!-- 2&#45;&gt;4 -->\n",
       "<g id=\"edge4\" class=\"edge\">\n",
       "<title>2&#45;&gt;4</title>\n",
       "<path fill=\"none\" stroke=\"black\" d=\"M241.45,-103.73C246.81,-94.97 252.48,-85.7 257.86,-76.91\"/>\n",
       "<polygon fill=\"black\" stroke=\"black\" points=\"260.89,-78.66 263.12,-68.3 254.92,-75 260.89,-78.66\"/>\n",
       "</g>\n",
       "</g>\n",
       "</svg>\n"
      ],
      "text/plain": [
       "<graphviz.sources.Source at 0x245119b0460>"
      ]
     },
     "metadata": {},
     "output_type": "display_data"
    }
   ],
   "source": [
    "# Import tree\n",
    "with open(\"../data/iris_tree.dot\") as f:\n",
    "    dot_graph = f.read()\n",
    "    display(graphviz.Source(dot_graph))"
   ]
  },
  {
   "cell_type": "code",
   "execution_count": 18,
   "id": "0dc96a8c",
   "metadata": {},
   "outputs": [
    {
     "name": "stdout",
     "output_type": "stream",
     "text": [
      "Class [1]\n"
     ]
    }
   ],
   "source": [
    "# Make a prediction (petal length = 4, petal width = 1)\n",
    "petal_length = 4\n",
    "petal_width = 1\n",
    "print(\"Class\", tree_clf.predict([[petal_length, petal_width]]))"
   ]
  },
  {
   "cell_type": "code",
   "execution_count": 19,
   "id": "f5541e7e",
   "metadata": {},
   "outputs": [
    {
     "name": "stdout",
     "output_type": "stream",
     "text": [
      "[[0.         0.90740741 0.09259259]]\n",
      "True\n"
     ]
    }
   ],
   "source": [
    "# predict_proba of a tree classifier doesn't return the probability of the outcome to be classified in each class\n",
    "# but returns the proportion of flowers in each class are classified in the same class as the prediction\n",
    "proportions_classified_in_class_1 = tree_clf.predict_proba([[petal_length, petal_width]])\n",
    "print(proportions_classified_in_class_1)\n",
    "print(np.allclose(proportions_classified_in_class_1, [[0/54, 49/54, 5/54]]))"
   ]
  },
  {
   "cell_type": "code",
   "execution_count": 20,
   "id": "a69b6466",
   "metadata": {},
   "outputs": [
    {
     "data": {
      "image/png": "[encoded data removed]",
      "text/plain": [
       "<Figure size 600x400 with 1 Axes>"
      ]
     },
     "metadata": {},
     "output_type": "display_data"
    }
   ],
   "source": [
    "# Plot decision regions\n",
    "fig, ax = plt.subplots(figsize=(6, 4))\n",
    "fig = plot_decision_regions(X, y, clf=tree_clf)\n",
    "ax.set(\n",
    "    xlabel='petal length (cm)',\n",
    "    ylabel='petal width (cm)',\n",
    "    title='Decision regions of the tree classifier'\n",
    ");"
   ]
  },
  {
   "cell_type": "markdown",
   "id": "d668ca24",
   "metadata": {},
   "source": [
    "## Decision tree regressors\n",
    "\n",
    "แบ่งข้อมูลออกเป็นสองฝั่งโดยใช้ threshold ค่าต่าง ๆ จากนั้นคำนวณ SSR (sum of square residuals = ผลรวมของกำลังสองของผลต่างระหว่างค่าจริงกับค่าเฉลี่ย) ของข้อมูลแต่ละฝั่ง แล้วเอามาเฉลี่ยกันถ่วงน้ำหนักด้วยจำนวนข้อมูลในแต่ละฝั่ง เลือก threshold ที่ทำให้ SSR เฉลี่ยต่ำสุด \n",
    "\n",
    "<img src=\"../images/training_tree_regressor.png\" width=\"1000\" /><br />\n",
    "\n",
    "เมื่อได้ tree ที่ดีที่สุดแล้ว ค่าเฉลี่ยของ training data ในแต่ละ region จะถูกใช้เป็นค่าทำนาย\n",
    "\n",
    "<img src=\"../images/tree_regressor.png\" width=\"500\" /><br />\n",
    "\n",
    "เราสามารถสร้าง decision tree regressor ได้โดยใช้ `sklearn.tree.DecisionTreeRegressor`"
   ]
  },
  {
   "cell_type": "markdown",
   "id": "8a8de8aa",
   "metadata": {},
   "source": [
    "## Dealing with overfitting\n",
    "\n",
    "ถ้าสร้าง decision boundary มากเกินไปจะทำให้เกิด overfitting\n",
    "\n",
    "<img src=\"../images/overfitting_trees.png\" width=\"800\" /><br />\n",
    "\n",
    "วิธีแก้ คือต้องทำ hyperparameter tuning เพราะ default parameter มักจะทำให้ tree overfit\n",
    "\n",
    "Parameter ที่สำคัญที่เราต้อง tune ให้ดี เช่น\n",
    "- `min_samples_split` = จำนวนข้อมูลอย่างน้อยที่ต้องมีใน internal node หนึ่ง\n",
    "- `max_depth` = ความลึกที่มากที่สุดของ tree มักไม่ควรเกิน 5\n",
    "- `min_samples_leaf` = จำนวนข้อมูลอย่างน้อยที่ต้องมีใน leaf node หนึ่ง"
   ]
  },
  {
   "cell_type": "markdown",
   "id": "5abebd85",
   "metadata": {},
   "source": [
    "## Pros and cons of decision trees\n",
    "\n",
    "ข้อดีของ decision tree เช่น\n",
    "- ไม่ต้องทำ scaling\n",
    "- ไม่อ่อนไหวต่อ outlier\n",
    "- ใช้งานง่าย และสามารถตีความผลลัพธ์ได้ง่าย\n",
    "- ทำ feature selection ได้ (ใช้ gini-based `feature_importance_`)\n",
    "- ใช้ทำ non-linear model\n",
    "\n",
    "ข้อเสียของ decision tree เช่น\n",
    "- high variance (ข้อมูลเปลี่ยนเพียงเล็กน้อยก็ทำให้ tree structure เปลี่ยน)\n",
    "- training time เพิ่มขึ้นอย่างรวดเร็วเมื่อ `max_depth` เพิ่มขึ้น\n",
    "- แบ่งข้อมูลได้แค่ในแนวตั้งฉากกับแกนของ feature"
   ]
  },
  {
   "cell_type": "code",
   "execution_count": 11,
   "id": "c3842697",
   "metadata": {},
   "outputs": [
    {
     "data": {
      "text/html": [
       "<iframe src=\"https://scikit-learn.org/stable/auto_examples/tree/plot_tree_regression.html#sphx-glr-auto-examples-tree-plot-tree-regression-py\" width=\"1200\" height=\"1000\" />\n"
      ],
      "text/plain": [
       "<IPython.core.display.HTML object>"
      ]
     },
     "metadata": {},
     "output_type": "display_data"
    }
   ],
   "source": [
    "%%html\n",
    "<iframe src=\"https://scikit-learn.org/stable/auto_examples/tree/plot_tree_regression.html#sphx-glr-auto-examples-tree-plot-tree-regression-py\" width=\"1200\" height=\"1000\" />"
   ]
  }
 ],
 "metadata": {
  "kernelspec": {
   "display_name": "Python 3 (ipykernel)",
   "language": "python",
   "name": "python3"
  },
  "language_info": {
   "codemirror_mode": {
    "name": "ipython",
    "version": 3
   },
   "file_extension": ".py",
   "mimetype": "text/x-python",
   "name": "python",
   "nbconvert_exporter": "python",
   "pygments_lexer": "ipython3",
   "version": "3.9.13"
  }
 },
 "nbformat": 4,
 "nbformat_minor": 5
}
