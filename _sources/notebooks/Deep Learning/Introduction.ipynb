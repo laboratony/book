{
 "cells": [
  {
   "cell_type": "markdown",
   "id": "bbf82f89",
   "metadata": {},
   "source": [
    "# Introduction"
   ]
  },
  {
   "cell_type": "code",
   "execution_count": 1,
   "id": "54ff6468",
   "metadata": {},
   "outputs": [],
   "source": [
    "import matplotlib.pyplot as plt\n",
    "import torch\n",
    "from torchvision.datasets import KMNIST\n",
    "from torchvision.transforms import Compose, ToTensor, Lambda\n",
    "from torch.utils.data import DataLoader\n",
    "from torchvision.utils import make_grid\n",
    "from PIL import Image"
   ]
  },
  {
   "cell_type": "markdown",
   "id": "624e40ed",
   "metadata": {},
   "source": [
    "## What is deep learning?\n",
    "\n",
    "Deep learning is a class of machine learning algorithms that uses multiple layers to progressively extract higher-level features from the raw input.\n",
    "\n",
    "<img src=\"../images/AI_ML_DL.png\" width=\"400\" /><br />"
   ]
  },
  {
   "cell_type": "markdown",
   "id": "bb8e6f13",
   "metadata": {},
   "source": [
    "## Neural networks\n",
    "\n",
    "Neural network คือ machine learning model ที่เลียนแบบการทำงานของเซลล์สมองของมนุษย์ มีองค์ประกอบคือ <b>artificial neuron</b> ซึ่งมีโครงสร้างดังนี้\n",
    "\n",
    "<img src=\"../images/neuron.png\" width=\"400\" /><br />\n",
    "\n",
    "เมื่อส่งข้อมูล input เข้าไปใน neuron ข้อมูลแต่ละ feature จะถูก transformed โดย linear regression จากนั้นนำมารวมกันโดย linear combination แล้วถูก transformed โดย <b>activation function</b> ได้ output ออกมา\n",
    "\n",
    "Activation function เป็น non-linear function ที่แปลงข้อมูลจนทำให้แบ่งด้วยเส้นตรงได้ หากไม่มี activation function ก็จะทำให้ network เป็นแค่ linear transformation อย่างหนึ่ง\n",
    "\n",
    "<img src=\"../images/transform_by_activation.png\" width=\"800\" /><br />\n",
    "\n",
    "Activation function มีหลายชนิด \n",
    "- Activation function ที่นิยมที่สุดคือ tanh, sigmoid และ ReLU (Rectified Linear Unit)\n",
    "- Activation function บางชนิดต้องใช้ค่าจากหลาย neuron เช่น softmax, maxout\n",
    "\n",
    "<img src=\"../images/activation.png\" width=\"400\" /><br />\n",
    "\n",
    "Neural network มี 3 ชั้น ได้แก่\n",
    "- Input layer เป็น layer ที่รับ input เข้าไปใน network\n",
    "- Hidden layer เป็น neuron layer 1 ชั้นขึ้นไป ทำการแปลงข้อมูล ในแต่ละชั้นมีหลาย neuron ที่มี weight ต่างกัน\n",
    "- Output layer เป็น layer ที่ให้ output ของ network ออกมา\n",
    "\n",
    "Neural network อย่างง่ายที่สุดคือ single-layer network (มี hidden layer 1 ชั้น) ดังภาพ\n",
    "\n",
    "<img src=\"../images/single_layer_network.png\" width=\"250\" /><br />\n"
   ]
  },
  {
   "cell_type": "markdown",
   "id": "ea2980f7",
   "metadata": {},
   "source": [
    "## Universal approximation theorem\n",
    "\n",
    "Universal approximation theorem บอกว่า single-layer network จะสามารถประมาณฟังก์ชันตัวแปรเดียวใด ๆ ก็ได้ถ้ามี neuron มากพอ (แต่ไม่สามารถประมาณฟังก์ชันหลายตัวแปรได้) หากต้องการทำให้ network ซับซ้อนขึ้น เราต้องเพิ่ม depth (จำนวน layer)"
   ]
  },
  {
   "cell_type": "markdown",
   "id": "9e71574b",
   "metadata": {},
   "source": [
    "## Google Colab\n",
    "\n",
    "<a href=\"https://colab.research.google.com/\">Google Colab</a> เป็น Jupyter notebook ที่ให้บริการโดย Google\n",
    "\n",
    "เราสามารถเข้าถึงไฟล์ใน Google Drive ของเราด้วยคำสั่งต่อไปนี้\n",
    "\n",
    "```python\n",
    "from google.colab import drive\n",
    "drive.mount('/content/gdrive/')\n",
    "```\n",
    "\n",
    "Google Colab ให้บริการ Graphic Processing Unit (GPU) เราสามารถเปลี่ยนจาก CPU เป็น GPU ได้ โดยไปที่ `Runtime` $\\rightarrow$ `Change Runtime Type` $\\rightarrow$ `Hardware Accelerator` $\\rightarrow$ เปลี่ยนจาก CPU เป็น GPU"
   ]
  },
  {
   "cell_type": "markdown",
   "id": "96c77584",
   "metadata": {},
   "source": [
    "## PyTorch\n",
    "\n",
    "### Tensor handling\n",
    "\n",
    "| Function/Attribute/Method | การทำงาน | Return |\n",
    "| - | - | - |\n",
    "| `torch.tensor(<list>)` | สร้าง Tensor จาก list | `torch.Tensor` |\n",
    "| `torch.from_numpy(<array>)` | สร้าง Tensor จาก numpy array | `torch.Tensor` |\n",
    "| `<tensor>.shape` | บอกขนาดของ tensor | `torch.Size` |\n",
    "| `<tensor>.view(<ความยาวในมิติที่1, ความยาวในมิติที่2, ...>)` | reshape tensor ให้มีขนาดตามที่กำหนด | `torch.Tensor` |\n",
    "| `torch.randn(<tuple_of_int>)` | สร้าง tensor ที่มีค่าของแต่ละสมาชิกถูกสุ่มขึ้นมา | `torch.Tensor` |\n",
    "| `<tensor>.squeeze()` | เอา dimension ที่มีความยาวเท่ากับ 1 ออก เพื่อให้ tensor มี dimension ลดลง | `torch.Tensor` |\n",
    "| `<tensor>.unsqueeze(<dim>)` | เพิ่ม dimension ตามที่ระบุ โดยที่ dimension นั้นมีความยาวเท่ากับ 1 | `torch.Tensor` |\n",
    "\n",
    "- Tensor statistics เช่น `<tensor>.mean()`, `<tensor>.std()`, `<tensor>.max()`, `<tensor>.sum()` ใส่ค่าให้กับ `axis` parameter เพื่อคำนวณตามแกนที่กำหนดเท่านั้น\n",
    "- Tensor linear algebra ใช้ `torch.linalg` เช่น `torch.linalg.inv(<tensor>)`\n",
    "- ทำ fast Fourier transform ใช้ `torch.fft` เช่น\n",
    "    - `torch.fft.fft(<tensor>)` (ทำ 1D transform)\n",
    "    - `torch.fft.fftn(<tensor>)` (ทำ nD transform)\n",
    "\n",
    "### Data handling\n",
    "\n",
    "เราใช้ `torchvision` ในการจัดการข้อมูล มี model, dataset, transformation ให้ใช้มากมาย\n",
    "\n",
    "#### `torchvision.datasets`\n",
    "\n",
    "| Function/Attribute/Method | การทำงาน | Return |\n",
    "| - | - | - |\n",
    "| `from torchvision.datasets import <dataset>` | นำเข้า dataset ที่มีใน `PyTorch` เช่น `MNIST`, `ImageNet` (นิยมมาก) | - |\n",
    "| `<train_set> = <dataset>(root=<path>, train=True, download=<bool>, transform=<transforms>, target_transform=<transforms>)`<br />`<test_set> = <dataset>(root=<path>, train=False, download=<bool>, transform=<transforms>, target_transform=<transforms>)` | สร้าง training set กับ test set จาก dataset ที่มีใน `PyTorch` <br />(`root` กำหนด directory ที่จะ save ข้อมูลเอาไว้ <br />ถ้ายังไม่ save ให้กำหนด `download=True` <br />หากต้องการแปลง feature ให้กำหนด `transforms` object ให้กับ `transform` parameter <br />และหากต้องการแปลง target ให้กำหนด `transforms` object ให้กับ `target_transform` parameter)  | - |\n",
    "| `<data>.data.shape` | บอกขนาดของข้อมูล (หากเป็นภาพจะบอกทั้งจำนวนภาพและขนาดของแต่ละภาพ) | `torch.Size` |\n",
    "| `<data>.targets.shape` | บอกจำนวนข้อมูล | `torch.Size` |\n",
    "| `print(<data>)` | แสดงชื่อ จำนวนข้อมูล ตำแหน่งที่เก็บข้อมูล และเป็น train set หรือไม่ | - |\n",
    "| `type(<data>)` | บอก class ของ dataset | type |\n",
    "| `dir(<data>)` | แสดง list ของ attributes/methods ของ dataset | list |\n",
    "\n",
    "#### `torchvision.transforms`\n",
    "\n",
    "| Function/Attribute/Method | การทำงาน |\n",
    "| - | - |\n",
    "| `torchvision.transforms.Compose(<list_of_transformations>)` | รวมทุก transformation ที่อยากทำ (คล้ายกับการสร้าง pipeline) |\n",
    "| `torchvision.transforms.ToTensor()` | แปลงข้อมูล (เช่น ภาพ) เป็น Tensor |\n",
    "| `torchvision.transforms.Lambda(<lambda_fxn>)` | แปลง lambda function ที่เราสร้างขึ้นเองเป็น transformation |\n",
    "| `torchvision.transforms.Normalize(<mean>, <std>)` | normalize ข้อมูล |\n",
    "\n",
    "#### `torchvision.datasets.ImageFolder`\n",
    "\n",
    "`torchvision.datasets.ImageFolder` ใช้จัดการ dataset ที่มีโครงสร้างดังนี้\n",
    "\n",
    "```\n",
    "root/class_x/xxx.png\n",
    "root/class_x/xxy.png\n",
    "root/class_x/[...]/xxz.png\n",
    "\n",
    "root/class_y/123.png\n",
    "root/class_y/nsdf3.png\n",
    "root/class_y/[...]/asd932_.png\n",
    "```\n",
    "\n",
    "#### `DataLoader` \n",
    "\n",
    "`torch.utils.data.DataLoader()` ใช้แบ่งข้อมูลออกเป็น batch มี parameter ที่สำคัญดังนี้\n",
    "- `dataset` เป็นข้อมูลที่จะเอามาแบ่งเป็น batch\n",
    "- `batch_size` เป็นจำนวนข้อมูลในแต่ละ batch\n",
    "- `num_workers` เป็นจำนวน subprocess ในการโหลดข้อมูล (เท่ากับ 0 by default) ไม่ต้องสนใจก็ได้\n",
    "- `shuffle` ให้บอกว่าต้องการ shuffle ข้อมูลทุก ๆ epoch หรือไม่ (`True`/`False`) เป็นการป้องกัน training bias\n",
    "\n",
    "ใช้ `<batch_sample>, <batch_target> = next(iter(<data_loader>))` เพื่อ iterate over the data loader"
   ]
  },
  {
   "cell_type": "code",
   "execution_count": 2,
   "id": "13453c8d",
   "metadata": {},
   "outputs": [
    {
     "name": "stdout",
     "output_type": "stream",
     "text": [
      "Downloading http://codh.rois.ac.jp/kmnist/dataset/kmnist/train-images-idx3-ubyte.gz\n",
      "Downloading http://codh.rois.ac.jp/kmnist/dataset/kmnist/train-images-idx3-ubyte.gz to ../data\\KMNIST\\raw\\train-images-idx3-ubyte.gz\n"
     ]
    },
    {
     "name": "stderr",
     "output_type": "stream",
     "text": [
      "100%|████████████████████████████████████████████████████████████████████████████| 18165135/18165135 [00:40<00:00, 444244.72it/s]\n"
     ]
    },
    {
     "name": "stdout",
     "output_type": "stream",
     "text": [
      "Extracting ../data\\KMNIST\\raw\\train-images-idx3-ubyte.gz to ../data\\KMNIST\\raw\n",
      "\n",
      "Downloading http://codh.rois.ac.jp/kmnist/dataset/kmnist/train-labels-idx1-ubyte.gz\n",
      "Downloading http://codh.rois.ac.jp/kmnist/dataset/kmnist/train-labels-idx1-ubyte.gz to ../data\\KMNIST\\raw\\train-labels-idx1-ubyte.gz\n"
     ]
    },
    {
     "name": "stderr",
     "output_type": "stream",
     "text": [
      "100%|██████████████████████████████████████████████████████████████████████████████████| 29497/29497 [00:00<00:00, 140670.46it/s]\n"
     ]
    },
    {
     "name": "stdout",
     "output_type": "stream",
     "text": [
      "Extracting ../data\\KMNIST\\raw\\train-labels-idx1-ubyte.gz to ../data\\KMNIST\\raw\n",
      "\n",
      "Downloading http://codh.rois.ac.jp/kmnist/dataset/kmnist/t10k-images-idx3-ubyte.gz\n",
      "Downloading http://codh.rois.ac.jp/kmnist/dataset/kmnist/t10k-images-idx3-ubyte.gz to ../data\\KMNIST\\raw\\t10k-images-idx3-ubyte.gz\n"
     ]
    },
    {
     "name": "stderr",
     "output_type": "stream",
     "text": [
      "100%|██████████████████████████████████████████████████████████████████████████████| 3041136/3041136 [00:08<00:00, 362031.66it/s]\n"
     ]
    },
    {
     "name": "stdout",
     "output_type": "stream",
     "text": [
      "Extracting ../data\\KMNIST\\raw\\t10k-images-idx3-ubyte.gz to ../data\\KMNIST\\raw\n",
      "\n",
      "Downloading http://codh.rois.ac.jp/kmnist/dataset/kmnist/t10k-labels-idx1-ubyte.gz\n",
      "Downloading http://codh.rois.ac.jp/kmnist/dataset/kmnist/t10k-labels-idx1-ubyte.gz to ../data\\KMNIST\\raw\\t10k-labels-idx1-ubyte.gz\n"
     ]
    },
    {
     "name": "stderr",
     "output_type": "stream",
     "text": [
      "100%|███████████████████████████████████████████████████████████████████████████████████| 5120/5120 [00:00<00:00, 4092783.78it/s]"
     ]
    },
    {
     "name": "stdout",
     "output_type": "stream",
     "text": [
      "Extracting ../data\\KMNIST\\raw\\t10k-labels-idx1-ubyte.gz to ../data\\KMNIST\\raw\n",
      "\n"
     ]
    },
    {
     "name": "stderr",
     "output_type": "stream",
     "text": [
      "\n"
     ]
    }
   ],
   "source": [
    "# Download the KMNIST training and test datasets\n",
    "train_set = KMNIST(root=\"../data\", train=True, download=True)\n",
    "test_set = KMNIST(root=\"../data\", train=False, download=True)"
   ]
  },
  {
   "cell_type": "code",
   "execution_count": 3,
   "id": "e6cc4094",
   "metadata": {},
   "outputs": [
    {
     "data": {
      "text/plain": [
       "Dataset KMNIST\n",
       "    Number of datapoints: 60000\n",
       "    Root location: ../data\n",
       "    Split: Train"
      ]
     },
     "execution_count": 3,
     "metadata": {},
     "output_type": "execute_result"
    }
   ],
   "source": [
    "train_set"
   ]
  },
  {
   "cell_type": "code",
   "execution_count": 4,
   "id": "3fd52503",
   "metadata": {},
   "outputs": [
    {
     "data": {
      "text/plain": [
       "torchvision.datasets.mnist.KMNIST"
      ]
     },
     "execution_count": 4,
     "metadata": {},
     "output_type": "execute_result"
    }
   ],
   "source": [
    "type(train_set)"
   ]
  },
  {
   "cell_type": "code",
   "execution_count": 5,
   "id": "c398597e",
   "metadata": {},
   "outputs": [
    {
     "data": {
      "text/plain": [
       "['__add__',\n",
       " '__class__',\n",
       " '__class_getitem__',\n",
       " '__delattr__',\n",
       " '__dict__',\n",
       " '__dir__',\n",
       " '__doc__',\n",
       " '__eq__',\n",
       " '__format__',\n",
       " '__ge__',\n",
       " '__getattribute__',\n",
       " '__getitem__',\n",
       " '__gt__',\n",
       " '__hash__',\n",
       " '__init__',\n",
       " '__init_subclass__',\n",
       " '__le__',\n",
       " '__len__',\n",
       " '__lt__',\n",
       " '__module__',\n",
       " '__ne__',\n",
       " '__new__',\n",
       " '__orig_bases__',\n",
       " '__parameters__',\n",
       " '__reduce__',\n",
       " '__reduce_ex__',\n",
       " '__repr__',\n",
       " '__setattr__',\n",
       " '__sizeof__',\n",
       " '__slots__',\n",
       " '__str__',\n",
       " '__subclasshook__',\n",
       " '__weakref__',\n",
       " '_check_exists',\n",
       " '_check_legacy_exist',\n",
       " '_format_transform_repr',\n",
       " '_is_protocol',\n",
       " '_load_data',\n",
       " '_load_legacy_data',\n",
       " '_repr_indent',\n",
       " 'class_to_idx',\n",
       " 'classes',\n",
       " 'data',\n",
       " 'download',\n",
       " 'extra_repr',\n",
       " 'mirrors',\n",
       " 'processed_folder',\n",
       " 'raw_folder',\n",
       " 'resources',\n",
       " 'root',\n",
       " 'target_transform',\n",
       " 'targets',\n",
       " 'test_data',\n",
       " 'test_file',\n",
       " 'test_labels',\n",
       " 'train',\n",
       " 'train_data',\n",
       " 'train_labels',\n",
       " 'training_file',\n",
       " 'transform',\n",
       " 'transforms']"
      ]
     },
     "execution_count": 5,
     "metadata": {},
     "output_type": "execute_result"
    }
   ],
   "source": [
    "dir(train_set)"
   ]
  },
  {
   "cell_type": "code",
   "execution_count": 6,
   "id": "000a4f19",
   "metadata": {},
   "outputs": [
    {
     "data": {
      "text/plain": [
       "{'o': 0,\n",
       " 'ki': 1,\n",
       " 'su': 2,\n",
       " 'tsu': 3,\n",
       " 'na': 4,\n",
       " 'ha': 5,\n",
       " 'ma': 6,\n",
       " 'ya': 7,\n",
       " 're': 8,\n",
       " 'wo': 9}"
      ]
     },
     "execution_count": 6,
     "metadata": {},
     "output_type": "execute_result"
    }
   ],
   "source": [
    "# Dictionary of category:index\n",
    "class_to_idx = train_set.class_to_idx\n",
    "class_to_idx"
   ]
  },
  {
   "cell_type": "code",
   "execution_count": 7,
   "id": "6dedd3d3",
   "metadata": {},
   "outputs": [
    {
     "name": "stdout",
     "output_type": "stream",
     "text": [
      "<class 'PIL.Image.Image'>\n"
     ]
    },
    {
     "data": {
      "image/png": "[encoded data removed]",
      "text/plain": [
       "<Figure size 200x200 with 1 Axes>"
      ]
     },
     "metadata": {},
     "output_type": "display_data"
    }
   ],
   "source": [
    "# Show the first image of the training set\n",
    "image, label = train_set[0]\n",
    "print(type(image))\n",
    "fig, ax = plt.subplots(figsize=(2, 2))\n",
    "ax.imshow(image, cmap='gray')\n",
    "ax.set_title(f\"{label} / {list(class_to_idx)[label]}\");"
   ]
  },
  {
   "cell_type": "code",
   "execution_count": 8,
   "id": "59822b3d",
   "metadata": {},
   "outputs": [],
   "source": [
    "def add_noise(x, alpha=0.1):\n",
    "    return x + alpha*torch.rand_like(x)\n",
    "\n",
    "# Combine all transformations\n",
    "transform = Compose([\n",
    "    ToTensor(),  # convert images to PyTorch Tensors\n",
    "    Lambda(lambda x: add_noise(x, 0.5))  # add noise to images\n",
    "])\n",
    "\n",
    "# Import and transform the downloaded KMNIST training and test datasets\n",
    "train_set = KMNIST(root=\"../data\", train=True, download=False, transform=transform, target_transform=None)\n",
    "test_set = KMNIST(root=\"../data\", train=False, download=False, transform=transform, target_transform=None)"
   ]
  },
  {
   "cell_type": "code",
   "execution_count": 9,
   "id": "4d860f7d",
   "metadata": {},
   "outputs": [
    {
     "name": "stdout",
     "output_type": "stream",
     "text": [
      "min: 0\n",
      "max: 255\n",
      "mean:  0.19176216423511505\n",
      "std:  0.3483428359031677\n"
     ]
    }
   ],
   "source": [
    "print(\"min:\", train_set.data.min().item())\n",
    "print(\"max:\", train_set.data.max().item())\n",
    "print(\"mean: \", torch.mean(train_set.data/255.).item())\n",
    "print(\"std: \", torch.std(train_set.data/255.).item())"
   ]
  },
  {
   "cell_type": "code",
   "execution_count": 10,
   "id": "097e03cc",
   "metadata": {},
   "outputs": [
    {
     "name": "stdout",
     "output_type": "stream",
     "text": [
      "<class 'torch.Tensor'>\n",
      "torch.Size([1, 28, 28])\n"
     ]
    },
    {
     "data": {
      "image/png": "[encoded data removed]",
      "text/plain": [
       "<Figure size 200x200 with 1 Axes>"
      ]
     },
     "metadata": {},
     "output_type": "display_data"
    }
   ],
   "source": [
    "# Show the first image of the new training set\n",
    "image, label = train_set[0]\n",
    "print(type(image))\n",
    "print(image.shape)\n",
    "fig, ax = plt.subplots(figsize=(2, 2))\n",
    "ax.imshow(image[0], cmap='gray')\n",
    "ax.set_title(f\"{label} / {list(class_to_idx)[label]}\");"
   ]
  },
  {
   "cell_type": "code",
   "execution_count": 11,
   "id": "374ecd93",
   "metadata": {},
   "outputs": [],
   "source": [
    "# Initialise a DataLoader object to create batches of the dataset, each of which has 32 images\n",
    "train_loader = DataLoader(dataset=train_set, batch_size=32, num_workers=0, shuffle=True)"
   ]
  },
  {
   "cell_type": "code",
   "execution_count": 12,
   "id": "b29528b6",
   "metadata": {},
   "outputs": [
    {
     "name": "stdout",
     "output_type": "stream",
     "text": [
      "torch.Size([32, 1, 28, 28])\n",
      "torch.Size([32])\n"
     ]
    }
   ],
   "source": [
    "# Iterate over the data loader\n",
    "train_batch_samples, train_batch_targets = next(iter(train_loader))\n",
    "print(train_batch_samples.shape)\n",
    "print(train_batch_targets.shape)"
   ]
  },
  {
   "cell_type": "code",
   "execution_count": 13,
   "id": "c82c3900",
   "metadata": {},
   "outputs": [
    {
     "name": "stdout",
     "output_type": "stream",
     "text": [
      "tensor([4, 3, 0, 0, 9, 5, 5, 2, 0, 0, 9, 4, 4, 5, 8, 8, 3, 2, 9, 4, 6, 7, 1, 2,\n",
      "        6, 2, 3, 4, 1, 3, 1, 5])\n"
     ]
    },
    {
     "data": {
      "image/png": "[encoded data removed]",
      "text/plain": [
       "<Figure size 1000x500 with 1 Axes>"
      ]
     },
     "metadata": {},
     "output_type": "display_data"
    }
   ],
   "source": [
    "# Visualise a batch\n",
    "batch_grid = make_grid(train_batch_samples, nrow=8, padding=3, pad_value=train_batch_samples.max())\n",
    "fig, ax = plt.subplots(figsize=(10, 5))\n",
    "ax.imshow(batch_grid[0], cmap=\"gray\")\n",
    "ax.set(xticks=[], yticks=[])\n",
    "print(train_batch_targets)"
   ]
  }
 ],
 "metadata": {
  "kernelspec": {
   "display_name": "Python 3 (ipykernel)",
   "language": "python",
   "name": "python3"
  },
  "language_info": {
   "codemirror_mode": {
    "name": "ipython",
    "version": 3
   },
   "file_extension": ".py",
   "mimetype": "text/x-python",
   "name": "python",
   "nbconvert_exporter": "python",
   "pygments_lexer": "ipython3",
   "version": "3.9.13"
  }
 },
 "nbformat": 4,
 "nbformat_minor": 5
}
